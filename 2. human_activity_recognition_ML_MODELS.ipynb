{
  "nbformat": 4,
  "nbformat_minor": 0,
  "metadata": {
    "colab": {
      "provenance": []
    },
    "language_info": {
      "codemirror_mode": {
        "name": "ipython",
        "version": 3
      },
      "file_extension": ".py",
      "mimetype": "text/x-python",
      "name": "python",
      "nbconvert_exporter": "python",
      "pygments_lexer": "ipython3",
      "version": "3.6.1"
    },
    "kernelspec": {
      "display_name": "Python 3",
      "language": "python",
      "name": "python3"
    }
  },
  "cells": [
    {
      "cell_type": "code",
      "metadata": {
        "id": "naZbXn24fcoy",
        "outputId": "5a6b7f71-5cf3-4bd3-eba5-c89f29843000",
        "colab": {
          "base_uri": "https://localhost:8080/",
          "height": 35
        }
      },
      "source": [
        "from google.colab import drive\n",
        "drive.mount('/content/gdrive', force_remount=False)"
      ],
      "execution_count": null,
      "outputs": [
        {
          "output_type": "stream",
          "text": [
            "Drive already mounted at /content/gdrive; to attempt to forcibly remount, call drive.mount(\"/content/gdrive\", force_remount=True).\n"
          ],
          "name": "stdout"
        }
      ]
    },
    {
      "cell_type": "code",
      "metadata": {
        "id": "bHXC15pgBZQD"
      },
      "source": [
        "import warnings\n",
        "warnings.filterwarnings(\"ignore\")\n",
        "\n",
        "import numpy as np\n",
        "import pandas as pd\n",
        "import scipy.sparse\n",
        "import sklearn\n",
        "\n",
        "from collections import Counter\n",
        "\n",
        "from sklearn.preprocessing import Normalizer, StandardScaler\n",
        "from sklearn.feature_extraction.text import CountVectorizer, TfidfVectorizer\n",
        "\n",
        "\n",
        "from sklearn.metrics import confusion_matrix\n",
        "from sklearn.model_selection import StratifiedKFold, GridSearchCV, RandomizedSearchCV\n",
        "from sklearn.pipeline import Pipeline\n",
        "\n",
        "from sklearn.linear_model import LogisticRegression\n",
        "from sklearn.svm import LinearSVC, SVC\n",
        "from sklearn.ensemble import RandomForestClassifier, GradientBoostingClassifier\n",
        "from sklearn.metrics.classification import accuracy_score, log_loss\n",
        "from sklearn.externals import joblib\n",
        "\n",
        "from progressbar import ProgressBar"
      ],
      "execution_count": null,
      "outputs": []
    },
    {
      "cell_type": "code",
      "metadata": {
        "id": "09VTO9CGwfI3"
      },
      "source": [
        "import matplotlib.pyplot as plt\n",
        "import seaborn as sns\n",
        "\n",
        "sns.set_style('whitegrid')"
      ],
      "execution_count": null,
      "outputs": []
    },
    {
      "cell_type": "code",
      "metadata": {
        "id": "E4nSV3cYsOnt",
        "outputId": "1dd650d7-7df2-4106-fc08-578c5a82bd63",
        "colab": {
          "base_uri": "https://localhost:8080/",
          "height": 35
        }
      },
      "source": [
        "sklearn.__version__"
      ],
      "execution_count": null,
      "outputs": [
        {
          "output_type": "execute_result",
          "data": {
            "text/plain": [
              "'0.21.2'"
            ]
          },
          "metadata": {
            "tags": []
          },
          "execution_count": 4
        }
      ]
    },
    {
      "cell_type": "markdown",
      "metadata": {
        "id": "jC-TGU6nKtpq"
      },
      "source": [
        "***"
      ]
    },
    {
      "cell_type": "code",
      "metadata": {
        "id": "uRsvg6U_K6fb"
      },
      "source": [],
      "execution_count": null,
      "outputs": []
    },
    {
      "cell_type": "markdown",
      "metadata": {
        "id": "gNX_BEbjBZQH"
      },
      "source": [
        "# DATA:"
      ]
    },
    {
      "cell_type": "code",
      "metadata": {
        "scrolled": false,
        "id": "MC1_4DgNBZQI",
        "outputId": "e2799ee0-9009-4259-99a4-60567ebd9400",
        "colab": {
          "base_uri": "https://localhost:8080/",
          "height": 35
        }
      },
      "source": [
        "train = pd.read_csv('gdrive/My Drive/2_AAI/7_CASE_STUDIES_AAI/HUMAN_ACTIVITY_RECOGNIZE/data/UCI_HAR_Dataset/csv_files/train.csv')\n",
        "test  = pd.read_csv('gdrive/My Drive/2_AAI/7_CASE_STUDIES_AAI/HUMAN_ACTIVITY_RECOGNIZE/data/UCI_HAR_Dataset/csv_files/test.csv')\n",
        "\n",
        "print(train.shape, test.shape)"
      ],
      "execution_count": null,
      "outputs": [
        {
          "output_type": "stream",
          "text": [
            "(7352, 564) (2947, 564)\n"
          ],
          "name": "stdout"
        }
      ]
    },
    {
      "cell_type": "code",
      "metadata": {
        "scrolled": true,
        "id": "FqbCs-k6BZQN",
        "outputId": "bf040ddb-a9f4-4200-b1ba-eab2be65c943",
        "colab": {
          "base_uri": "https://localhost:8080/",
          "height": 191
        }
      },
      "source": [
        "train.head(3)"
      ],
      "execution_count": null,
      "outputs": [
        {
          "output_type": "execute_result",
          "data": {
            "text/html": [
              "<div>\n",
              "<style scoped>\n",
              "    .dataframe tbody tr th:only-of-type {\n",
              "        vertical-align: middle;\n",
              "    }\n",
              "\n",
              "    .dataframe tbody tr th {\n",
              "        vertical-align: top;\n",
              "    }\n",
              "\n",
              "    .dataframe thead th {\n",
              "        text-align: right;\n",
              "    }\n",
              "</style>\n",
              "<table border=\"1\" class=\"dataframe\">\n",
              "  <thead>\n",
              "    <tr style=\"text-align: right;\">\n",
              "      <th></th>\n",
              "      <th>tBodyAccmeanX</th>\n",
              "      <th>tBodyAccmeanY</th>\n",
              "      <th>tBodyAccmeanZ</th>\n",
              "      <th>tBodyAccstdX</th>\n",
              "      <th>tBodyAccstdY</th>\n",
              "      <th>tBodyAccstdZ</th>\n",
              "      <th>tBodyAccmadX</th>\n",
              "      <th>tBodyAccmadY</th>\n",
              "      <th>tBodyAccmadZ</th>\n",
              "      <th>tBodyAccmaxX</th>\n",
              "      <th>tBodyAccmaxY</th>\n",
              "      <th>tBodyAccmaxZ</th>\n",
              "      <th>tBodyAccminX</th>\n",
              "      <th>tBodyAccminY</th>\n",
              "      <th>tBodyAccminZ</th>\n",
              "      <th>tBodyAccsma</th>\n",
              "      <th>tBodyAccenergyX</th>\n",
              "      <th>tBodyAccenergyY</th>\n",
              "      <th>tBodyAccenergyZ</th>\n",
              "      <th>tBodyAcciqrX</th>\n",
              "      <th>tBodyAcciqrY</th>\n",
              "      <th>tBodyAcciqrZ</th>\n",
              "      <th>tBodyAccentropyX</th>\n",
              "      <th>tBodyAccentropyY</th>\n",
              "      <th>tBodyAccentropyZ</th>\n",
              "      <th>tBodyAccarCoeffX1</th>\n",
              "      <th>tBodyAccarCoeffX2</th>\n",
              "      <th>tBodyAccarCoeffX3</th>\n",
              "      <th>tBodyAccarCoeffX4</th>\n",
              "      <th>tBodyAccarCoeffY1</th>\n",
              "      <th>tBodyAccarCoeffY2</th>\n",
              "      <th>tBodyAccarCoeffY3</th>\n",
              "      <th>tBodyAccarCoeffY4</th>\n",
              "      <th>tBodyAccarCoeffZ1</th>\n",
              "      <th>tBodyAccarCoeffZ2</th>\n",
              "      <th>tBodyAccarCoeffZ3</th>\n",
              "      <th>tBodyAccarCoeffZ4</th>\n",
              "      <th>tBodyAcccorrelationXY</th>\n",
              "      <th>tBodyAcccorrelationXZ</th>\n",
              "      <th>tBodyAcccorrelationYZ</th>\n",
              "      <th>...</th>\n",
              "      <th>fBodyBodyAccJerkMagmaxInds</th>\n",
              "      <th>fBodyBodyAccJerkMagmeanFreq</th>\n",
              "      <th>fBodyBodyAccJerkMagskewness</th>\n",
              "      <th>fBodyBodyAccJerkMagkurtosis</th>\n",
              "      <th>fBodyBodyGyroMagmean</th>\n",
              "      <th>fBodyBodyGyroMagstd</th>\n",
              "      <th>fBodyBodyGyroMagmad</th>\n",
              "      <th>fBodyBodyGyroMagmax</th>\n",
              "      <th>fBodyBodyGyroMagmin</th>\n",
              "      <th>fBodyBodyGyroMagsma</th>\n",
              "      <th>fBodyBodyGyroMagenergy</th>\n",
              "      <th>fBodyBodyGyroMagiqr</th>\n",
              "      <th>fBodyBodyGyroMagentropy</th>\n",
              "      <th>fBodyBodyGyroMagmaxInds</th>\n",
              "      <th>fBodyBodyGyroMagmeanFreq</th>\n",
              "      <th>fBodyBodyGyroMagskewness</th>\n",
              "      <th>fBodyBodyGyroMagkurtosis</th>\n",
              "      <th>fBodyBodyGyroJerkMagmean</th>\n",
              "      <th>fBodyBodyGyroJerkMagstd</th>\n",
              "      <th>fBodyBodyGyroJerkMagmad</th>\n",
              "      <th>fBodyBodyGyroJerkMagmax</th>\n",
              "      <th>fBodyBodyGyroJerkMagmin</th>\n",
              "      <th>fBodyBodyGyroJerkMagsma</th>\n",
              "      <th>fBodyBodyGyroJerkMagenergy</th>\n",
              "      <th>fBodyBodyGyroJerkMagiqr</th>\n",
              "      <th>fBodyBodyGyroJerkMagentropy</th>\n",
              "      <th>fBodyBodyGyroJerkMagmaxInds</th>\n",
              "      <th>fBodyBodyGyroJerkMagmeanFreq</th>\n",
              "      <th>fBodyBodyGyroJerkMagskewness</th>\n",
              "      <th>fBodyBodyGyroJerkMagkurtosis</th>\n",
              "      <th>angletBodyAccMeangravity</th>\n",
              "      <th>angletBodyAccJerkMeangravityMean</th>\n",
              "      <th>angletBodyGyroMeangravityMean</th>\n",
              "      <th>angletBodyGyroJerkMeangravityMean</th>\n",
              "      <th>angleXgravityMean</th>\n",
              "      <th>angleYgravityMean</th>\n",
              "      <th>angleZgravityMean</th>\n",
              "      <th>subject</th>\n",
              "      <th>Activity</th>\n",
              "      <th>ActivityName</th>\n",
              "    </tr>\n",
              "  </thead>\n",
              "  <tbody>\n",
              "    <tr>\n",
              "      <th>0</th>\n",
              "      <td>0.288585</td>\n",
              "      <td>-0.020294</td>\n",
              "      <td>-0.132905</td>\n",
              "      <td>-0.995279</td>\n",
              "      <td>-0.983111</td>\n",
              "      <td>-0.913526</td>\n",
              "      <td>-0.995112</td>\n",
              "      <td>-0.983185</td>\n",
              "      <td>-0.923527</td>\n",
              "      <td>-0.934724</td>\n",
              "      <td>-0.567378</td>\n",
              "      <td>-0.744413</td>\n",
              "      <td>0.852947</td>\n",
              "      <td>0.685845</td>\n",
              "      <td>0.814263</td>\n",
              "      <td>-0.965523</td>\n",
              "      <td>-0.999945</td>\n",
              "      <td>-0.999863</td>\n",
              "      <td>-0.994612</td>\n",
              "      <td>-0.994231</td>\n",
              "      <td>-0.987614</td>\n",
              "      <td>-0.943220</td>\n",
              "      <td>-0.407747</td>\n",
              "      <td>-0.679338</td>\n",
              "      <td>-0.602122</td>\n",
              "      <td>0.929294</td>\n",
              "      <td>-0.853011</td>\n",
              "      <td>0.359910</td>\n",
              "      <td>-0.058526</td>\n",
              "      <td>0.256892</td>\n",
              "      <td>-0.224848</td>\n",
              "      <td>0.264106</td>\n",
              "      <td>-0.095246</td>\n",
              "      <td>0.278851</td>\n",
              "      <td>-0.465085</td>\n",
              "      <td>0.491936</td>\n",
              "      <td>-0.190884</td>\n",
              "      <td>0.376314</td>\n",
              "      <td>0.435129</td>\n",
              "      <td>0.660790</td>\n",
              "      <td>...</td>\n",
              "      <td>-0.936508</td>\n",
              "      <td>0.346989</td>\n",
              "      <td>-0.516080</td>\n",
              "      <td>-0.802760</td>\n",
              "      <td>-0.980135</td>\n",
              "      <td>-0.961309</td>\n",
              "      <td>-0.973653</td>\n",
              "      <td>-0.952264</td>\n",
              "      <td>-0.989498</td>\n",
              "      <td>-0.980135</td>\n",
              "      <td>-0.999240</td>\n",
              "      <td>-0.992656</td>\n",
              "      <td>-0.701291</td>\n",
              "      <td>-1.000000</td>\n",
              "      <td>-0.128989</td>\n",
              "      <td>0.586156</td>\n",
              "      <td>0.374605</td>\n",
              "      <td>-0.991990</td>\n",
              "      <td>-0.990697</td>\n",
              "      <td>-0.989941</td>\n",
              "      <td>-0.992448</td>\n",
              "      <td>-0.991048</td>\n",
              "      <td>-0.991990</td>\n",
              "      <td>-0.999937</td>\n",
              "      <td>-0.990458</td>\n",
              "      <td>-0.871306</td>\n",
              "      <td>-1.000000</td>\n",
              "      <td>-0.074323</td>\n",
              "      <td>-0.298676</td>\n",
              "      <td>-0.710304</td>\n",
              "      <td>-0.112754</td>\n",
              "      <td>0.030400</td>\n",
              "      <td>-0.464761</td>\n",
              "      <td>-0.018446</td>\n",
              "      <td>-0.841247</td>\n",
              "      <td>0.179941</td>\n",
              "      <td>-0.058627</td>\n",
              "      <td>1</td>\n",
              "      <td>5</td>\n",
              "      <td>STANDING</td>\n",
              "    </tr>\n",
              "    <tr>\n",
              "      <th>1</th>\n",
              "      <td>0.278419</td>\n",
              "      <td>-0.016411</td>\n",
              "      <td>-0.123520</td>\n",
              "      <td>-0.998245</td>\n",
              "      <td>-0.975300</td>\n",
              "      <td>-0.960322</td>\n",
              "      <td>-0.998807</td>\n",
              "      <td>-0.974914</td>\n",
              "      <td>-0.957686</td>\n",
              "      <td>-0.943068</td>\n",
              "      <td>-0.557851</td>\n",
              "      <td>-0.818409</td>\n",
              "      <td>0.849308</td>\n",
              "      <td>0.685845</td>\n",
              "      <td>0.822637</td>\n",
              "      <td>-0.981930</td>\n",
              "      <td>-0.999991</td>\n",
              "      <td>-0.999788</td>\n",
              "      <td>-0.998405</td>\n",
              "      <td>-0.999150</td>\n",
              "      <td>-0.977866</td>\n",
              "      <td>-0.948225</td>\n",
              "      <td>-0.714892</td>\n",
              "      <td>-0.500930</td>\n",
              "      <td>-0.570979</td>\n",
              "      <td>0.611627</td>\n",
              "      <td>-0.329549</td>\n",
              "      <td>0.284213</td>\n",
              "      <td>0.284595</td>\n",
              "      <td>0.115705</td>\n",
              "      <td>-0.090963</td>\n",
              "      <td>0.294310</td>\n",
              "      <td>-0.281211</td>\n",
              "      <td>0.085988</td>\n",
              "      <td>-0.022153</td>\n",
              "      <td>-0.016657</td>\n",
              "      <td>-0.220643</td>\n",
              "      <td>-0.013429</td>\n",
              "      <td>-0.072692</td>\n",
              "      <td>0.579382</td>\n",
              "      <td>...</td>\n",
              "      <td>-0.841270</td>\n",
              "      <td>0.532061</td>\n",
              "      <td>-0.624871</td>\n",
              "      <td>-0.900160</td>\n",
              "      <td>-0.988296</td>\n",
              "      <td>-0.983322</td>\n",
              "      <td>-0.982659</td>\n",
              "      <td>-0.986321</td>\n",
              "      <td>-0.991829</td>\n",
              "      <td>-0.988296</td>\n",
              "      <td>-0.999811</td>\n",
              "      <td>-0.993979</td>\n",
              "      <td>-0.720683</td>\n",
              "      <td>-0.948718</td>\n",
              "      <td>-0.271958</td>\n",
              "      <td>-0.336310</td>\n",
              "      <td>-0.720015</td>\n",
              "      <td>-0.995854</td>\n",
              "      <td>-0.996399</td>\n",
              "      <td>-0.995442</td>\n",
              "      <td>-0.996866</td>\n",
              "      <td>-0.994440</td>\n",
              "      <td>-0.995854</td>\n",
              "      <td>-0.999981</td>\n",
              "      <td>-0.994544</td>\n",
              "      <td>-1.000000</td>\n",
              "      <td>-1.000000</td>\n",
              "      <td>0.158075</td>\n",
              "      <td>-0.595051</td>\n",
              "      <td>-0.861499</td>\n",
              "      <td>0.053477</td>\n",
              "      <td>-0.007435</td>\n",
              "      <td>-0.732626</td>\n",
              "      <td>0.703511</td>\n",
              "      <td>-0.844788</td>\n",
              "      <td>0.180289</td>\n",
              "      <td>-0.054317</td>\n",
              "      <td>1</td>\n",
              "      <td>5</td>\n",
              "      <td>STANDING</td>\n",
              "    </tr>\n",
              "    <tr>\n",
              "      <th>2</th>\n",
              "      <td>0.279653</td>\n",
              "      <td>-0.019467</td>\n",
              "      <td>-0.113462</td>\n",
              "      <td>-0.995380</td>\n",
              "      <td>-0.967187</td>\n",
              "      <td>-0.978944</td>\n",
              "      <td>-0.996520</td>\n",
              "      <td>-0.963668</td>\n",
              "      <td>-0.977469</td>\n",
              "      <td>-0.938692</td>\n",
              "      <td>-0.557851</td>\n",
              "      <td>-0.818409</td>\n",
              "      <td>0.843609</td>\n",
              "      <td>0.682401</td>\n",
              "      <td>0.839344</td>\n",
              "      <td>-0.983478</td>\n",
              "      <td>-0.999969</td>\n",
              "      <td>-0.999660</td>\n",
              "      <td>-0.999470</td>\n",
              "      <td>-0.997130</td>\n",
              "      <td>-0.964810</td>\n",
              "      <td>-0.974675</td>\n",
              "      <td>-0.592235</td>\n",
              "      <td>-0.485821</td>\n",
              "      <td>-0.570979</td>\n",
              "      <td>0.273025</td>\n",
              "      <td>-0.086309</td>\n",
              "      <td>0.337202</td>\n",
              "      <td>-0.164739</td>\n",
              "      <td>0.017150</td>\n",
              "      <td>-0.074507</td>\n",
              "      <td>0.342256</td>\n",
              "      <td>-0.332564</td>\n",
              "      <td>0.239281</td>\n",
              "      <td>-0.136204</td>\n",
              "      <td>0.173863</td>\n",
              "      <td>-0.299493</td>\n",
              "      <td>-0.124698</td>\n",
              "      <td>-0.181105</td>\n",
              "      <td>0.608900</td>\n",
              "      <td>...</td>\n",
              "      <td>-0.904762</td>\n",
              "      <td>0.660795</td>\n",
              "      <td>-0.724697</td>\n",
              "      <td>-0.928539</td>\n",
              "      <td>-0.989255</td>\n",
              "      <td>-0.986028</td>\n",
              "      <td>-0.984274</td>\n",
              "      <td>-0.990979</td>\n",
              "      <td>-0.995703</td>\n",
              "      <td>-0.989255</td>\n",
              "      <td>-0.999854</td>\n",
              "      <td>-0.993238</td>\n",
              "      <td>-0.736521</td>\n",
              "      <td>-0.794872</td>\n",
              "      <td>-0.212728</td>\n",
              "      <td>-0.535352</td>\n",
              "      <td>-0.871914</td>\n",
              "      <td>-0.995031</td>\n",
              "      <td>-0.995127</td>\n",
              "      <td>-0.994640</td>\n",
              "      <td>-0.996060</td>\n",
              "      <td>-0.995866</td>\n",
              "      <td>-0.995031</td>\n",
              "      <td>-0.999973</td>\n",
              "      <td>-0.993755</td>\n",
              "      <td>-1.000000</td>\n",
              "      <td>-0.555556</td>\n",
              "      <td>0.414503</td>\n",
              "      <td>-0.390748</td>\n",
              "      <td>-0.760104</td>\n",
              "      <td>-0.118559</td>\n",
              "      <td>0.177899</td>\n",
              "      <td>0.100699</td>\n",
              "      <td>0.808529</td>\n",
              "      <td>-0.848933</td>\n",
              "      <td>0.180637</td>\n",
              "      <td>-0.049118</td>\n",
              "      <td>1</td>\n",
              "      <td>5</td>\n",
              "      <td>STANDING</td>\n",
              "    </tr>\n",
              "  </tbody>\n",
              "</table>\n",
              "<p>3 rows × 564 columns</p>\n",
              "</div>"
            ],
            "text/plain": [
              "   tBodyAccmeanX  tBodyAccmeanY  tBodyAccmeanZ  ...  subject  Activity  ActivityName\n",
              "0       0.288585      -0.020294      -0.132905  ...        1         5      STANDING\n",
              "1       0.278419      -0.016411      -0.123520  ...        1         5      STANDING\n",
              "2       0.279653      -0.019467      -0.113462  ...        1         5      STANDING\n",
              "\n",
              "[3 rows x 564 columns]"
            ]
          },
          "metadata": {
            "tags": []
          },
          "execution_count": 6
        }
      ]
    },
    {
      "cell_type": "code",
      "metadata": {
        "id": "oOgtDmUkBZQQ"
      },
      "source": [
        "# get X_train and y_train from csv files\n",
        "X_train = train.drop(['subject', 'Activity', 'ActivityName'], axis=1)\n",
        "y_train = train.ActivityName"
      ],
      "execution_count": null,
      "outputs": []
    },
    {
      "cell_type": "code",
      "metadata": {
        "id": "KNTGkjFqBZQT"
      },
      "source": [
        "# get X_test and y_test from test csv file\n",
        "X_test = test.drop(['subject', 'Activity', 'ActivityName'], axis=1)\n",
        "y_test = test.ActivityName"
      ],
      "execution_count": null,
      "outputs": []
    },
    {
      "cell_type": "code",
      "metadata": {
        "id": "ErHO8DNXBZQV",
        "outputId": "29af8868-cbf8-48bb-b443-6a04a0c97dd1",
        "colab": {
          "base_uri": "https://localhost:8080/",
          "height": 53
        }
      },
      "source": [
        "print('X_train and y_train : ({},{})'.format(X_train.shape, y_train.shape))\n",
        "print('X_test  and y_test  : ({},{})'.format(X_test.shape, y_test.shape))"
      ],
      "execution_count": null,
      "outputs": [
        {
          "output_type": "stream",
          "text": [
            "X_train and y_train : ((7352, 561),(7352,))\n",
            "X_test  and y_test  : ((2947, 561),(2947,))\n"
          ],
          "name": "stdout"
        }
      ]
    },
    {
      "cell_type": "markdown",
      "metadata": {
        "id": "ScF7nCJ8KqW7"
      },
      "source": [
        "***"
      ]
    },
    {
      "cell_type": "code",
      "metadata": {
        "id": "DI7v8Mg_1o60"
      },
      "source": [],
      "execution_count": null,
      "outputs": []
    },
    {
      "cell_type": "markdown",
      "metadata": {
        "id": "XoFgbL2pKz5N"
      },
      "source": [
        "## UTILITY FNS:"
      ]
    },
    {
      "cell_type": "code",
      "metadata": {
        "id": "r96qrliPrAtO"
      },
      "source": [
        "def retrn_cv_report(grid):\n",
        "\n",
        "    mean_train_score = grid.cv_results_['mean_train_score']\n",
        "    mean_test_score  = grid.cv_results_['mean_test_score']\n",
        "    diff_train_test = mean_train_score - mean_test_score\n",
        "    std_dev_train  = grid.cv_results_['std_train_score']\n",
        "    std_dev_test  = grid.cv_results_['std_test_score']\n",
        "    params = grid.cv_results_['params']\n",
        "\n",
        "    df = pd.DataFrame(mean_train_score, columns = ['mean_train_score'])\n",
        "    df = df.assign(mean_test_score = mean_test_score, diff_train_test = diff_train_test)\n",
        "    df = df.assign(std_dev_train = std_dev_train, std_dev_test = std_dev_test)*100\n",
        "    df = df.assign(params = params)\n",
        "    df_cv_scores = df\n",
        "\n",
        "    return df_cv_scores\n"
      ],
      "execution_count": null,
      "outputs": []
    },
    {
      "cell_type": "code",
      "metadata": {
        "id": "FYTF2nusBZQj"
      },
      "source": [
        "def retrn_confusion_matrix(y, y_pred):\n",
        "\n",
        "    n_classes = len(set(y))+1\n",
        "    con_matrix = confusion_matrix(y, y_pred)\n",
        "    df_confusion_matrix = pd.DataFrame(con_matrix)\n",
        "\n",
        "    df_confusion_matrix.columns = ['pred_' + str(i) for i in range(1, n_classes)]\n",
        "    df_confusion_matrix.index = ['actual_' + str(i) for i in range(1, n_classes)]\n",
        "\n",
        "    actual_total = con_matrix.sum(axis = 1)\n",
        "    pred_total = con_matrix.sum(axis = 0)\n",
        "    correct_preds = con_matrix.diagonal()\n",
        "\n",
        "    df_confusion_matrix = df_confusion_matrix.assign(correct_preds = correct_preds,\n",
        "                                                     pred_total    = pred_total,\n",
        "                                                     actual_total  = actual_total)\n",
        "    precision = correct_preds/pred_total\n",
        "    recall = correct_preds/actual_total\n",
        "\n",
        "    df_confusion_matrix = df_confusion_matrix.assign(precision=precision, recall=recall)\n",
        "    return df_confusion_matrix"
      ],
      "execution_count": null,
      "outputs": []
    },
    {
      "cell_type": "code",
      "metadata": {
        "id": "fFJX2FMnBZQn"
      },
      "source": [
        "def retrn_heatmap_precision_recall_matrix(df_con_matrix):\n",
        "\n",
        "    def retrn_df_precison_matrix(df_con_matrix):\n",
        "        listO_rows = []\n",
        "        for row in df_con_matrix.iloc[:, :-5].values:\n",
        "            new_row = row/df_con_matrix.pred_total\n",
        "            listO_rows.append(new_row)\n",
        "        df_precision_matrix = pd.DataFrame(np.array(listO_rows))\n",
        "        return df_precision_matrix\n",
        "\n",
        "    def retrn_df_recall_matrix(df_con_matrix):\n",
        "        listO_rows = []\n",
        "        for row in df_con_matrix.iloc[:, :-5].T.values:\n",
        "            new_row = row/df_con_matrix.actual_total\n",
        "            listO_rows.append(new_row)\n",
        "        df_recall_matrix = pd.DataFrame(np.array(listO_rows))\n",
        "        return df_recall_matrix\n",
        "\n",
        "    #-----------------------------------------------------------------\n",
        "\n",
        "    df_precision_matrix = retrn_df_precison_matrix(df_con_matrix)\n",
        "    df_recall_matrix = retrn_df_recall_matrix(df_con_matrix)\n",
        "\n",
        "    labels = list(range(1, len(df_con_matrix)+1))\n",
        "    sns.set(font_scale=1.05)\n",
        "    cmap = sns.dark_palette(\"muted purple\", input=\"xkcd\")\n",
        "\n",
        "    print(\"PRECISION MATRIX :\")\n",
        "    print()\n",
        "    plt.figure(figsize=(17 ,4))\n",
        "    sns.heatmap(df_precision_matrix, annot=True, cmap=cmap, fmt=\".3f\", xticklabels=labels, yticklabels=labels)\n",
        "    plt.xlabel('y_PRED')\n",
        "    plt.ylabel('% ACTUAL CLASSES')\n",
        "    plt.show()\n",
        "\n",
        "    print(\"RECALL MATRIX :\")\n",
        "    print()\n",
        "    plt.figure(figsize=(17 ,4))\n",
        "    sns.heatmap(df_recall_matrix, annot=True, cmap=cmap, fmt=\".3f\", xticklabels=labels, yticklabels=labels)\n",
        "    plt.xlabel('y_ACTUAL')\n",
        "    plt.ylabel('% PREDICTED CLASSES')\n",
        "    plt.show()"
      ],
      "execution_count": null,
      "outputs": []
    },
    {
      "cell_type": "markdown",
      "metadata": {
        "id": "GzUr2NtyKmfZ"
      },
      "source": [
        "***"
      ]
    },
    {
      "cell_type": "code",
      "metadata": {
        "id": "ipHyyrdblUZA"
      },
      "source": [],
      "execution_count": null,
      "outputs": []
    },
    {
      "cell_type": "markdown",
      "metadata": {
        "id": "FArvNaK2XCbd"
      },
      "source": [
        "### CLASSES= {  1: 'WALKING',   2: 'WALKING_UPSTAIRS',    3: 'WALKING_DOWNSTAIRS',    4: 'SITTING',    5: 'STANDING',    6: 'LAYING',}\n",
        "\n"
      ]
    },
    {
      "cell_type": "markdown",
      "metadata": {
        "id": "QESAkuxrBZQs"
      },
      "source": [
        "# 1. LOGISTIC REGRESSION:"
      ]
    },
    {
      "cell_type": "code",
      "metadata": {
        "scrolled": false,
        "id": "ZJlRB_NGBZQv"
      },
      "source": [
        "pipe = Pipeline([('normalizer', Normalizer()), ('logreg', LogisticRegression(class_weight = 'balanced', warm_start = True))])\n",
        "\n",
        "logreg__penalty = ['l2','l1']\n",
        "logreg__C = [0.01, 0.1, 1, 10, 20, 30]\n",
        "\n",
        "param_grid = {'logreg__penalty': logreg__penalty, 'logreg__C': logreg__C}\n",
        "\n",
        "grid_log_reg = GridSearchCV(pipe, param_grid, cv = 3, return_train_score=True)"
      ],
      "execution_count": null,
      "outputs": []
    },
    {
      "cell_type": "code",
      "metadata": {
        "id": "7U8izjLTkqLo",
        "outputId": "89053242-2334-4923-d9b2-8affc5a23661",
        "colab": {
          "base_uri": "https://localhost:8080/",
          "height": 521
        }
      },
      "source": [
        "data = X_train\n",
        "labels = y_train\n",
        "\n",
        "%time grid_log_reg.fit(data, labels)"
      ],
      "execution_count": null,
      "outputs": [
        {
          "output_type": "stream",
          "text": [
            "CPU times: user 4min 18s, sys: 4.44 s, total: 4min 23s\n",
            "Wall time: 4min 17s\n"
          ],
          "name": "stdout"
        },
        {
          "output_type": "execute_result",
          "data": {
            "text/plain": [
              "GridSearchCV(cv=3, error_score='raise-deprecating',\n",
              "             estimator=Pipeline(memory=None,\n",
              "                                steps=[('normalizer',\n",
              "                                        Normalizer(copy=True, norm='l2')),\n",
              "                                       ('logreg',\n",
              "                                        LogisticRegression(C=1.0,\n",
              "                                                           class_weight='balanced',\n",
              "                                                           dual=False,\n",
              "                                                           fit_intercept=True,\n",
              "                                                           intercept_scaling=1,\n",
              "                                                           l1_ratio=None,\n",
              "                                                           max_iter=100,\n",
              "                                                           multi_class='warn',\n",
              "                                                           n_jobs=None,\n",
              "                                                           penalty='l2',\n",
              "                                                           random_state=None,\n",
              "                                                           solver='warn',\n",
              "                                                           tol=0.0001,\n",
              "                                                           verbose=0,\n",
              "                                                           warm_start=True))],\n",
              "                                verbose=False),\n",
              "             iid='warn', n_jobs=None,\n",
              "             param_grid={'logreg__C': [0.01, 0.1, 1, 10, 20, 30],\n",
              "                         'logreg__penalty': ['l2', 'l1']},\n",
              "             pre_dispatch='2*n_jobs', refit=True, return_train_score=True,\n",
              "             scoring=None, verbose=0)"
            ]
          },
          "metadata": {
            "tags": []
          },
          "execution_count": 37
        }
      ]
    },
    {
      "cell_type": "code",
      "metadata": {
        "id": "XyGkquo9kqIY",
        "outputId": "a34c1da8-d025-450a-d27a-280a4fa9fe9e",
        "colab": {
          "base_uri": "https://localhost:8080/",
          "height": 421
        }
      },
      "source": [
        "grid = grid_log_reg\n",
        "df_cv_scores_log_reg = retrn_cv_report(grid)\n",
        "df_cv_scores_log_reg"
      ],
      "execution_count": null,
      "outputs": [
        {
          "output_type": "execute_result",
          "data": {
            "text/html": [
              "<div>\n",
              "<style scoped>\n",
              "    .dataframe tbody tr th:only-of-type {\n",
              "        vertical-align: middle;\n",
              "    }\n",
              "\n",
              "    .dataframe tbody tr th {\n",
              "        vertical-align: top;\n",
              "    }\n",
              "\n",
              "    .dataframe thead th {\n",
              "        text-align: right;\n",
              "    }\n",
              "</style>\n",
              "<table border=\"1\" class=\"dataframe\">\n",
              "  <thead>\n",
              "    <tr style=\"text-align: right;\">\n",
              "      <th></th>\n",
              "      <th>mean_train_score</th>\n",
              "      <th>mean_test_score</th>\n",
              "      <th>diff_train_test</th>\n",
              "      <th>std_dev_train</th>\n",
              "      <th>std_dev_test</th>\n",
              "      <th>params</th>\n",
              "    </tr>\n",
              "  </thead>\n",
              "  <tbody>\n",
              "    <tr>\n",
              "      <th>0</th>\n",
              "      <td>84.290175</td>\n",
              "      <td>82.467356</td>\n",
              "      <td>1.822820</td>\n",
              "      <td>0.963710</td>\n",
              "      <td>2.294626</td>\n",
              "      <td>{'logreg__C': 0.01, 'logreg__penalty': 'l2'}</td>\n",
              "    </tr>\n",
              "    <tr>\n",
              "      <th>1</th>\n",
              "      <td>19.137652</td>\n",
              "      <td>19.137650</td>\n",
              "      <td>0.000003</td>\n",
              "      <td>0.007361</td>\n",
              "      <td>0.014729</td>\n",
              "      <td>{'logreg__C': 0.01, 'logreg__penalty': 'l1'}</td>\n",
              "    </tr>\n",
              "    <tr>\n",
              "      <th>2</th>\n",
              "      <td>88.452264</td>\n",
              "      <td>86.479869</td>\n",
              "      <td>1.972395</td>\n",
              "      <td>0.663087</td>\n",
              "      <td>1.658494</td>\n",
              "      <td>{'logreg__C': 0.1, 'logreg__penalty': 'l2'}</td>\n",
              "    </tr>\n",
              "    <tr>\n",
              "      <th>3</th>\n",
              "      <td>82.970714</td>\n",
              "      <td>81.161589</td>\n",
              "      <td>1.809125</td>\n",
              "      <td>0.884005</td>\n",
              "      <td>1.898107</td>\n",
              "      <td>{'logreg__C': 0.1, 'logreg__penalty': 'l1'}</td>\n",
              "    </tr>\n",
              "    <tr>\n",
              "      <th>4</th>\n",
              "      <td>92.267670</td>\n",
              "      <td>88.860174</td>\n",
              "      <td>3.407496</td>\n",
              "      <td>0.834942</td>\n",
              "      <td>1.357892</td>\n",
              "      <td>{'logreg__C': 1, 'logreg__penalty': 'l2'}</td>\n",
              "    </tr>\n",
              "    <tr>\n",
              "      <th>5</th>\n",
              "      <td>95.566019</td>\n",
              "      <td>90.886834</td>\n",
              "      <td>4.679185</td>\n",
              "      <td>0.509102</td>\n",
              "      <td>2.167874</td>\n",
              "      <td>{'logreg__C': 1, 'logreg__penalty': 'l1'}</td>\n",
              "    </tr>\n",
              "    <tr>\n",
              "      <th>6</th>\n",
              "      <td>96.715312</td>\n",
              "      <td>91.866159</td>\n",
              "      <td>4.849153</td>\n",
              "      <td>0.398660</td>\n",
              "      <td>1.609410</td>\n",
              "      <td>{'logreg__C': 10, 'logreg__penalty': 'l2'}</td>\n",
              "    </tr>\n",
              "    <tr>\n",
              "      <th>7</th>\n",
              "      <td>99.027511</td>\n",
              "      <td>94.382481</td>\n",
              "      <td>4.645030</td>\n",
              "      <td>0.091352</td>\n",
              "      <td>1.883768</td>\n",
              "      <td>{'logreg__C': 10, 'logreg__penalty': 'l1'}</td>\n",
              "    </tr>\n",
              "    <tr>\n",
              "      <th>8</th>\n",
              "      <td>97.565342</td>\n",
              "      <td>92.818281</td>\n",
              "      <td>4.747061</td>\n",
              "      <td>0.186538</td>\n",
              "      <td>1.571922</td>\n",
              "      <td>{'logreg__C': 20, 'logreg__penalty': 'l2'}</td>\n",
              "    </tr>\n",
              "    <tr>\n",
              "      <th>9</th>\n",
              "      <td>99.333572</td>\n",
              "      <td>94.314472</td>\n",
              "      <td>5.019100</td>\n",
              "      <td>0.149013</td>\n",
              "      <td>1.806853</td>\n",
              "      <td>{'logreg__C': 20, 'logreg__penalty': 'l1'}</td>\n",
              "    </tr>\n",
              "    <tr>\n",
              "      <th>10</th>\n",
              "      <td>97.932522</td>\n",
              "      <td>93.117519</td>\n",
              "      <td>4.815003</td>\n",
              "      <td>0.129635</td>\n",
              "      <td>1.558309</td>\n",
              "      <td>{'logreg__C': 30, 'logreg__penalty': 'l2'}</td>\n",
              "    </tr>\n",
              "    <tr>\n",
              "      <th>11</th>\n",
              "      <td>99.462785</td>\n",
              "      <td>94.355277</td>\n",
              "      <td>5.107507</td>\n",
              "      <td>0.141441</td>\n",
              "      <td>1.695362</td>\n",
              "      <td>{'logreg__C': 30, 'logreg__penalty': 'l1'}</td>\n",
              "    </tr>\n",
              "  </tbody>\n",
              "</table>\n",
              "</div>"
            ],
            "text/plain": [
              "    mean_train_score  ...                                        params\n",
              "0          84.290175  ...  {'logreg__C': 0.01, 'logreg__penalty': 'l2'}\n",
              "1          19.137652  ...  {'logreg__C': 0.01, 'logreg__penalty': 'l1'}\n",
              "2          88.452264  ...   {'logreg__C': 0.1, 'logreg__penalty': 'l2'}\n",
              "3          82.970714  ...   {'logreg__C': 0.1, 'logreg__penalty': 'l1'}\n",
              "4          92.267670  ...     {'logreg__C': 1, 'logreg__penalty': 'l2'}\n",
              "5          95.566019  ...     {'logreg__C': 1, 'logreg__penalty': 'l1'}\n",
              "6          96.715312  ...    {'logreg__C': 10, 'logreg__penalty': 'l2'}\n",
              "7          99.027511  ...    {'logreg__C': 10, 'logreg__penalty': 'l1'}\n",
              "8          97.565342  ...    {'logreg__C': 20, 'logreg__penalty': 'l2'}\n",
              "9          99.333572  ...    {'logreg__C': 20, 'logreg__penalty': 'l1'}\n",
              "10         97.932522  ...    {'logreg__C': 30, 'logreg__penalty': 'l2'}\n",
              "11         99.462785  ...    {'logreg__C': 30, 'logreg__penalty': 'l1'}\n",
              "\n",
              "[12 rows x 6 columns]"
            ]
          },
          "metadata": {
            "tags": []
          },
          "execution_count": 42
        }
      ]
    },
    {
      "cell_type": "code",
      "metadata": {
        "id": "fQnEFtv2kqFp",
        "outputId": "6a9827d0-3b16-40d4-c48d-cdd613bf51f5",
        "colab": {
          "base_uri": "https://localhost:8080/",
          "height": 35
        }
      },
      "source": [
        "best_clf = df_cv_scores_log_reg.loc[11]['params']\n",
        "best_clf"
      ],
      "execution_count": null,
      "outputs": [
        {
          "output_type": "execute_result",
          "data": {
            "text/plain": [
              "{'logreg__C': 30, 'logreg__penalty': 'l1'}"
            ]
          },
          "metadata": {
            "tags": []
          },
          "execution_count": 44
        }
      ]
    },
    {
      "cell_type": "code",
      "metadata": {
        "id": "R3ftNCxNvGF8",
        "outputId": "471c5d50-dd4f-4243-e42f-4593cd3d69c0",
        "colab": {
          "base_uri": "https://localhost:8080/",
          "height": 107
        }
      },
      "source": [
        "log_reg_clf = LogisticRegression(C = 30, penalty = 'l1', class_weight = 'balanced', warm_start = True)\n",
        "log_reg_clf.fit(X_train, y_train)"
      ],
      "execution_count": null,
      "outputs": [
        {
          "output_type": "execute_result",
          "data": {
            "text/plain": [
              "LogisticRegression(C=30, class_weight='balanced', dual=False,\n",
              "                   fit_intercept=True, intercept_scaling=1, l1_ratio=None,\n",
              "                   max_iter=100, multi_class='warn', n_jobs=None, penalty='l1',\n",
              "                   random_state=None, solver='warn', tol=0.0001, verbose=0,\n",
              "                   warm_start=True)"
            ]
          },
          "metadata": {
            "tags": []
          },
          "execution_count": 46
        }
      ]
    },
    {
      "cell_type": "code",
      "metadata": {
        "id": "mnzKekPuvGDg",
        "outputId": "d7c84230-0500-4c17-82f6-6b300d74f2cf",
        "colab": {
          "base_uri": "https://localhost:8080/",
          "height": 235
        }
      },
      "source": [
        "y_pred_test = log_reg_clf.predict(X_test)\n",
        "\n",
        "df_con_matrix_Log_Reg = retrn_confusion_matrix(y_test, y_pred_test)\n",
        "df_con_matrix_Log_Reg"
      ],
      "execution_count": null,
      "outputs": [
        {
          "output_type": "execute_result",
          "data": {
            "text/html": [
              "<div>\n",
              "<style scoped>\n",
              "    .dataframe tbody tr th:only-of-type {\n",
              "        vertical-align: middle;\n",
              "    }\n",
              "\n",
              "    .dataframe tbody tr th {\n",
              "        vertical-align: top;\n",
              "    }\n",
              "\n",
              "    .dataframe thead th {\n",
              "        text-align: right;\n",
              "    }\n",
              "</style>\n",
              "<table border=\"1\" class=\"dataframe\">\n",
              "  <thead>\n",
              "    <tr style=\"text-align: right;\">\n",
              "      <th></th>\n",
              "      <th>pred_1</th>\n",
              "      <th>pred_2</th>\n",
              "      <th>pred_3</th>\n",
              "      <th>pred_4</th>\n",
              "      <th>pred_5</th>\n",
              "      <th>pred_6</th>\n",
              "      <th>correct_preds</th>\n",
              "      <th>pred_total</th>\n",
              "      <th>actual_total</th>\n",
              "      <th>precision</th>\n",
              "      <th>recall</th>\n",
              "    </tr>\n",
              "  </thead>\n",
              "  <tbody>\n",
              "    <tr>\n",
              "      <th>actual_1</th>\n",
              "      <td>537</td>\n",
              "      <td>0</td>\n",
              "      <td>0</td>\n",
              "      <td>0</td>\n",
              "      <td>0</td>\n",
              "      <td>0</td>\n",
              "      <td>537</td>\n",
              "      <td>538</td>\n",
              "      <td>537</td>\n",
              "      <td>0.998141</td>\n",
              "      <td>1.000000</td>\n",
              "    </tr>\n",
              "    <tr>\n",
              "      <th>actual_2</th>\n",
              "      <td>1</td>\n",
              "      <td>424</td>\n",
              "      <td>61</td>\n",
              "      <td>0</td>\n",
              "      <td>0</td>\n",
              "      <td>5</td>\n",
              "      <td>424</td>\n",
              "      <td>441</td>\n",
              "      <td>491</td>\n",
              "      <td>0.961451</td>\n",
              "      <td>0.863544</td>\n",
              "    </tr>\n",
              "    <tr>\n",
              "      <th>actual_3</th>\n",
              "      <td>0</td>\n",
              "      <td>16</td>\n",
              "      <td>514</td>\n",
              "      <td>2</td>\n",
              "      <td>0</td>\n",
              "      <td>0</td>\n",
              "      <td>514</td>\n",
              "      <td>575</td>\n",
              "      <td>532</td>\n",
              "      <td>0.893913</td>\n",
              "      <td>0.966165</td>\n",
              "    </tr>\n",
              "    <tr>\n",
              "      <th>actual_4</th>\n",
              "      <td>0</td>\n",
              "      <td>0</td>\n",
              "      <td>0</td>\n",
              "      <td>493</td>\n",
              "      <td>2</td>\n",
              "      <td>1</td>\n",
              "      <td>493</td>\n",
              "      <td>520</td>\n",
              "      <td>496</td>\n",
              "      <td>0.948077</td>\n",
              "      <td>0.993952</td>\n",
              "    </tr>\n",
              "    <tr>\n",
              "      <th>actual_5</th>\n",
              "      <td>0</td>\n",
              "      <td>0</td>\n",
              "      <td>0</td>\n",
              "      <td>4</td>\n",
              "      <td>411</td>\n",
              "      <td>5</td>\n",
              "      <td>411</td>\n",
              "      <td>413</td>\n",
              "      <td>420</td>\n",
              "      <td>0.995157</td>\n",
              "      <td>0.978571</td>\n",
              "    </tr>\n",
              "    <tr>\n",
              "      <th>actual_6</th>\n",
              "      <td>0</td>\n",
              "      <td>1</td>\n",
              "      <td>0</td>\n",
              "      <td>21</td>\n",
              "      <td>0</td>\n",
              "      <td>449</td>\n",
              "      <td>449</td>\n",
              "      <td>460</td>\n",
              "      <td>471</td>\n",
              "      <td>0.976087</td>\n",
              "      <td>0.953291</td>\n",
              "    </tr>\n",
              "  </tbody>\n",
              "</table>\n",
              "</div>"
            ],
            "text/plain": [
              "          pred_1  pred_2  pred_3  ...  actual_total  precision    recall\n",
              "actual_1     537       0       0  ...           537   0.998141  1.000000\n",
              "actual_2       1     424      61  ...           491   0.961451  0.863544\n",
              "actual_3       0      16     514  ...           532   0.893913  0.966165\n",
              "actual_4       0       0       0  ...           496   0.948077  0.993952\n",
              "actual_5       0       0       0  ...           420   0.995157  0.978571\n",
              "actual_6       0       1       0  ...           471   0.976087  0.953291\n",
              "\n",
              "[6 rows x 11 columns]"
            ]
          },
          "metadata": {
            "tags": []
          },
          "execution_count": 48
        }
      ]
    },
    {
      "cell_type": "code",
      "metadata": {
        "id": "7Cp8huWqvGAi",
        "outputId": "490c5045-f70d-410f-acbb-c7768c9743ee",
        "colab": {
          "base_uri": "https://localhost:8080/",
          "height": 643
        }
      },
      "source": [
        "retrn_heatmap_precision_recall_matrix(df_con_matrix_Log_Reg)"
      ],
      "execution_count": null,
      "outputs": [
        {
          "output_type": "stream",
          "text": [
            "PRECISION MATRIX :\n",
            "\n"
          ],
          "name": "stdout"
        },
        {
          "output_type": "display_data",
          "data": {
            "image/png": "[encoded data removed]",
            "text/plain": [
              "<Figure size 1224x288 with 2 Axes>"
            ]
          },
          "metadata": {
            "tags": []
          }
        },
        {
          "output_type": "stream",
          "text": [
            "RECALL MATRIX :\n",
            "\n"
          ],
          "name": "stdout"
        },
        {
          "output_type": "display_data",
          "data": {
            "image/png": "[encoded data removed]",
            "text/plain": [
              "<Figure size 1224x288 with 2 Axes>"
            ]
          },
          "metadata": {
            "tags": []
          }
        }
      ]
    },
    {
      "cell_type": "markdown",
      "metadata": {
        "id": "Z4vZABWfKkkv"
      },
      "source": [
        "***"
      ]
    },
    {
      "cell_type": "code",
      "metadata": {
        "id": "MA_I6OXW5M_T"
      },
      "source": [],
      "execution_count": null,
      "outputs": []
    },
    {
      "cell_type": "markdown",
      "metadata": {
        "collapsed": true,
        "id": "f3UZepedBZQ_"
      },
      "source": [
        "#  2. LINEAR SVM:"
      ]
    },
    {
      "cell_type": "code",
      "metadata": {
        "id": "tZpbd5gby-7k"
      },
      "source": [
        "pipe = Pipeline([('normalizer', Normalizer()), ('lr_svc', LinearSVC(tol=0.00005))])\n",
        "\n",
        "lr_svc__C = [0.125, 0.5, 1, 2, 8, 16]\n",
        "\n",
        "param_grid1 = {'lr_svc__C': lr_svc__C}\n",
        "\n",
        "grid_lr_svc = GridSearchCV(pipe, param_grid1, cv = 3, return_train_score=True)"
      ],
      "execution_count": null,
      "outputs": []
    },
    {
      "cell_type": "code",
      "metadata": {
        "id": "h04rfzzOzoYx",
        "outputId": "683c2746-2b9d-45b2-f134-559ee14885a6",
        "colab": {
          "base_uri": "https://localhost:8080/",
          "height": 395
        }
      },
      "source": [
        "data = X_train\n",
        "labels = y_train\n",
        "\n",
        "%time grid_lr_svc.fit(data, labels)"
      ],
      "execution_count": null,
      "outputs": [
        {
          "output_type": "stream",
          "text": [
            "CPU times: user 1min 20s, sys: 2.15 s, total: 1min 22s\n",
            "Wall time: 1min 19s\n"
          ],
          "name": "stdout"
        },
        {
          "output_type": "execute_result",
          "data": {
            "text/plain": [
              "GridSearchCV(cv=3, error_score='raise-deprecating',\n",
              "             estimator=Pipeline(memory=None,\n",
              "                                steps=[('normalizer',\n",
              "                                        Normalizer(copy=True, norm='l2')),\n",
              "                                       ('lr_svc',\n",
              "                                        LinearSVC(C=1.0, class_weight=None,\n",
              "                                                  dual=True, fit_intercept=True,\n",
              "                                                  intercept_scaling=1,\n",
              "                                                  loss='squared_hinge',\n",
              "                                                  max_iter=1000,\n",
              "                                                  multi_class='ovr',\n",
              "                                                  penalty='l2',\n",
              "                                                  random_state=None, tol=5e-05,\n",
              "                                                  verbose=0))],\n",
              "                                verbose=False),\n",
              "             iid='warn', n_jobs=None,\n",
              "             param_grid={'lr_svc__C': [0.125, 0.5, 1, 2, 8, 16]},\n",
              "             pre_dispatch='2*n_jobs', refit=True, return_train_score=True,\n",
              "             scoring=None, verbose=0)"
            ]
          },
          "metadata": {
            "tags": []
          },
          "execution_count": 63
        }
      ]
    },
    {
      "cell_type": "code",
      "metadata": {
        "id": "SKCC6XbqzxJ8",
        "outputId": "d204ea51-0f4c-4653-e4e0-13d0443784b6",
        "colab": {
          "base_uri": "https://localhost:8080/",
          "height": 235
        }
      },
      "source": [
        "grid = grid_lr_svc\n",
        "df_cv_scores_lr_svc = retrn_cv_report(grid)\n",
        "df_cv_scores_lr_svc"
      ],
      "execution_count": null,
      "outputs": [
        {
          "output_type": "execute_result",
          "data": {
            "text/html": [
              "<div>\n",
              "<style scoped>\n",
              "    .dataframe tbody tr th:only-of-type {\n",
              "        vertical-align: middle;\n",
              "    }\n",
              "\n",
              "    .dataframe tbody tr th {\n",
              "        vertical-align: top;\n",
              "    }\n",
              "\n",
              "    .dataframe thead th {\n",
              "        text-align: right;\n",
              "    }\n",
              "</style>\n",
              "<table border=\"1\" class=\"dataframe\">\n",
              "  <thead>\n",
              "    <tr style=\"text-align: right;\">\n",
              "      <th></th>\n",
              "      <th>mean_train_score</th>\n",
              "      <th>mean_test_score</th>\n",
              "      <th>diff_train_test</th>\n",
              "      <th>std_dev_train</th>\n",
              "      <th>std_dev_test</th>\n",
              "      <th>params</th>\n",
              "    </tr>\n",
              "  </thead>\n",
              "  <tbody>\n",
              "    <tr>\n",
              "      <th>0</th>\n",
              "      <td>92.764135</td>\n",
              "      <td>89.173014</td>\n",
              "      <td>3.591121</td>\n",
              "      <td>0.834134</td>\n",
              "      <td>1.363416</td>\n",
              "      <td>{'lr_svc__C': 0.125}</td>\n",
              "    </tr>\n",
              "    <tr>\n",
              "      <th>1</th>\n",
              "      <td>95.695209</td>\n",
              "      <td>91.186072</td>\n",
              "      <td>4.509137</td>\n",
              "      <td>0.657159</td>\n",
              "      <td>1.620263</td>\n",
              "      <td>{'lr_svc__C': 0.5}</td>\n",
              "    </tr>\n",
              "    <tr>\n",
              "      <th>2</th>\n",
              "      <td>97.007735</td>\n",
              "      <td>92.178999</td>\n",
              "      <td>4.828736</td>\n",
              "      <td>0.365990</td>\n",
              "      <td>1.734103</td>\n",
              "      <td>{'lr_svc__C': 1}</td>\n",
              "    </tr>\n",
              "    <tr>\n",
              "      <th>3</th>\n",
              "      <td>97.816942</td>\n",
              "      <td>92.995103</td>\n",
              "      <td>4.821839</td>\n",
              "      <td>0.144922</td>\n",
              "      <td>1.838826</td>\n",
              "      <td>{'lr_svc__C': 2}</td>\n",
              "    </tr>\n",
              "    <tr>\n",
              "      <th>4</th>\n",
              "      <td>98.857448</td>\n",
              "      <td>93.960827</td>\n",
              "      <td>4.896621</td>\n",
              "      <td>0.044230</td>\n",
              "      <td>1.678929</td>\n",
              "      <td>{'lr_svc__C': 8}</td>\n",
              "    </tr>\n",
              "    <tr>\n",
              "      <th>5</th>\n",
              "      <td>99.075091</td>\n",
              "      <td>94.246464</td>\n",
              "      <td>4.828627</td>\n",
              "      <td>0.025105</td>\n",
              "      <td>1.656046</td>\n",
              "      <td>{'lr_svc__C': 16}</td>\n",
              "    </tr>\n",
              "  </tbody>\n",
              "</table>\n",
              "</div>"
            ],
            "text/plain": [
              "   mean_train_score  mean_test_score  ...  std_dev_test                params\n",
              "0         92.764135        89.173014  ...      1.363416  {'lr_svc__C': 0.125}\n",
              "1         95.695209        91.186072  ...      1.620263    {'lr_svc__C': 0.5}\n",
              "2         97.007735        92.178999  ...      1.734103      {'lr_svc__C': 1}\n",
              "3         97.816942        92.995103  ...      1.838826      {'lr_svc__C': 2}\n",
              "4         98.857448        93.960827  ...      1.678929      {'lr_svc__C': 8}\n",
              "5         99.075091        94.246464  ...      1.656046     {'lr_svc__C': 16}\n",
              "\n",
              "[6 rows x 6 columns]"
            ]
          },
          "metadata": {
            "tags": []
          },
          "execution_count": 64
        }
      ]
    },
    {
      "cell_type": "code",
      "metadata": {
        "id": "5lI3j2EFzxEc",
        "outputId": "576ff0df-5ed8-4a22-a57c-7a1ca091a2ee",
        "colab": {
          "base_uri": "https://localhost:8080/",
          "height": 35
        }
      },
      "source": [
        "best_clf = df_cv_scores_lr_svc.loc[5]['params']\n",
        "best_clf"
      ],
      "execution_count": null,
      "outputs": [
        {
          "output_type": "execute_result",
          "data": {
            "text/plain": [
              "{'lr_svc__C': 16}"
            ]
          },
          "metadata": {
            "tags": []
          },
          "execution_count": 65
        }
      ]
    },
    {
      "cell_type": "code",
      "metadata": {
        "id": "qt7lERi_zxB0",
        "outputId": "b8fddffe-fef9-4047-f52f-43b368c7eb48",
        "colab": {
          "base_uri": "https://localhost:8080/",
          "height": 89
        }
      },
      "source": [
        "lr_svc_clf = LinearSVC(C = 16, tol=0.00005)\n",
        "lr_svc_clf.fit(X_train, y_train)"
      ],
      "execution_count": null,
      "outputs": [
        {
          "output_type": "execute_result",
          "data": {
            "text/plain": [
              "LinearSVC(C=16, class_weight=None, dual=True, fit_intercept=True,\n",
              "          intercept_scaling=1, loss='squared_hinge', max_iter=1000,\n",
              "          multi_class='ovr', penalty='l2', random_state=None, tol=5e-05,\n",
              "          verbose=0)"
            ]
          },
          "metadata": {
            "tags": []
          },
          "execution_count": 66
        }
      ]
    },
    {
      "cell_type": "code",
      "metadata": {
        "scrolled": false,
        "id": "N2-zMQazBZRD",
        "outputId": "1493a949-0baa-43f0-bbf2-bc029e597aa2",
        "colab": {
          "base_uri": "https://localhost:8080/",
          "height": 235
        }
      },
      "source": [
        "y_pred_test = lr_svc_clf.predict(X_test)\n",
        "\n",
        "df_con_matrix_lr_svc_clf = retrn_confusion_matrix(y_test, y_pred_test)\n",
        "df_con_matrix_lr_svc_clf"
      ],
      "execution_count": null,
      "outputs": [
        {
          "output_type": "execute_result",
          "data": {
            "text/html": [
              "<div>\n",
              "<style scoped>\n",
              "    .dataframe tbody tr th:only-of-type {\n",
              "        vertical-align: middle;\n",
              "    }\n",
              "\n",
              "    .dataframe tbody tr th {\n",
              "        vertical-align: top;\n",
              "    }\n",
              "\n",
              "    .dataframe thead th {\n",
              "        text-align: right;\n",
              "    }\n",
              "</style>\n",
              "<table border=\"1\" class=\"dataframe\">\n",
              "  <thead>\n",
              "    <tr style=\"text-align: right;\">\n",
              "      <th></th>\n",
              "      <th>pred_1</th>\n",
              "      <th>pred_2</th>\n",
              "      <th>pred_3</th>\n",
              "      <th>pred_4</th>\n",
              "      <th>pred_5</th>\n",
              "      <th>pred_6</th>\n",
              "      <th>correct_preds</th>\n",
              "      <th>pred_total</th>\n",
              "      <th>actual_total</th>\n",
              "      <th>precision</th>\n",
              "      <th>recall</th>\n",
              "    </tr>\n",
              "  </thead>\n",
              "  <tbody>\n",
              "    <tr>\n",
              "      <th>actual_1</th>\n",
              "      <td>537</td>\n",
              "      <td>0</td>\n",
              "      <td>0</td>\n",
              "      <td>0</td>\n",
              "      <td>0</td>\n",
              "      <td>0</td>\n",
              "      <td>537</td>\n",
              "      <td>539</td>\n",
              "      <td>537</td>\n",
              "      <td>0.996289</td>\n",
              "      <td>1.000000</td>\n",
              "    </tr>\n",
              "    <tr>\n",
              "      <th>actual_2</th>\n",
              "      <td>2</td>\n",
              "      <td>406</td>\n",
              "      <td>78</td>\n",
              "      <td>0</td>\n",
              "      <td>0</td>\n",
              "      <td>5</td>\n",
              "      <td>406</td>\n",
              "      <td>412</td>\n",
              "      <td>491</td>\n",
              "      <td>0.985437</td>\n",
              "      <td>0.826884</td>\n",
              "    </tr>\n",
              "    <tr>\n",
              "      <th>actual_3</th>\n",
              "      <td>0</td>\n",
              "      <td>6</td>\n",
              "      <td>526</td>\n",
              "      <td>0</td>\n",
              "      <td>0</td>\n",
              "      <td>0</td>\n",
              "      <td>526</td>\n",
              "      <td>604</td>\n",
              "      <td>532</td>\n",
              "      <td>0.870861</td>\n",
              "      <td>0.988722</td>\n",
              "    </tr>\n",
              "    <tr>\n",
              "      <th>actual_4</th>\n",
              "      <td>0</td>\n",
              "      <td>0</td>\n",
              "      <td>0</td>\n",
              "      <td>495</td>\n",
              "      <td>0</td>\n",
              "      <td>1</td>\n",
              "      <td>495</td>\n",
              "      <td>509</td>\n",
              "      <td>496</td>\n",
              "      <td>0.972495</td>\n",
              "      <td>0.997984</td>\n",
              "    </tr>\n",
              "    <tr>\n",
              "      <th>actual_5</th>\n",
              "      <td>0</td>\n",
              "      <td>0</td>\n",
              "      <td>0</td>\n",
              "      <td>2</td>\n",
              "      <td>413</td>\n",
              "      <td>5</td>\n",
              "      <td>413</td>\n",
              "      <td>414</td>\n",
              "      <td>420</td>\n",
              "      <td>0.997585</td>\n",
              "      <td>0.983333</td>\n",
              "    </tr>\n",
              "    <tr>\n",
              "      <th>actual_6</th>\n",
              "      <td>0</td>\n",
              "      <td>0</td>\n",
              "      <td>0</td>\n",
              "      <td>12</td>\n",
              "      <td>1</td>\n",
              "      <td>458</td>\n",
              "      <td>458</td>\n",
              "      <td>469</td>\n",
              "      <td>471</td>\n",
              "      <td>0.976546</td>\n",
              "      <td>0.972399</td>\n",
              "    </tr>\n",
              "  </tbody>\n",
              "</table>\n",
              "</div>"
            ],
            "text/plain": [
              "          pred_1  pred_2  pred_3  ...  actual_total  precision    recall\n",
              "actual_1     537       0       0  ...           537   0.996289  1.000000\n",
              "actual_2       2     406      78  ...           491   0.985437  0.826884\n",
              "actual_3       0       6     526  ...           532   0.870861  0.988722\n",
              "actual_4       0       0       0  ...           496   0.972495  0.997984\n",
              "actual_5       0       0       0  ...           420   0.997585  0.983333\n",
              "actual_6       0       0       0  ...           471   0.976546  0.972399\n",
              "\n",
              "[6 rows x 11 columns]"
            ]
          },
          "metadata": {
            "tags": []
          },
          "execution_count": 72
        }
      ]
    },
    {
      "cell_type": "code",
      "metadata": {
        "id": "pBgoQsmnBZRG",
        "outputId": "f7c22d40-94b8-46e7-ea20-b8e5e69e4fda",
        "colab": {
          "base_uri": "https://localhost:8080/",
          "height": 643
        }
      },
      "source": [
        "retrn_heatmap_precision_recall_matrix(df_con_matrix_lr_svc_clf)"
      ],
      "execution_count": null,
      "outputs": [
        {
          "output_type": "stream",
          "text": [
            "PRECISION MATRIX :\n",
            "\n"
          ],
          "name": "stdout"
        },
        {
          "output_type": "display_data",
          "data": {
            "image/png": "[encoded data removed]",
            "text/plain": [
              "<Figure size 1224x288 with 2 Axes>"
            ]
          },
          "metadata": {
            "tags": []
          }
        },
        {
          "output_type": "stream",
          "text": [
            "RECALL MATRIX :\n",
            "\n"
          ],
          "name": "stdout"
        },
        {
          "output_type": "display_data",
          "data": {
            "image/png": "[encoded data removed]",
            "text/plain": [
              "<Figure size 1224x288 with 2 Axes>"
            ]
          },
          "metadata": {
            "tags": []
          }
        }
      ]
    },
    {
      "cell_type": "markdown",
      "metadata": {
        "id": "JeJBUskyKivq"
      },
      "source": [
        "***"
      ]
    },
    {
      "cell_type": "code",
      "metadata": {
        "id": "8yShm7Pq5LZ3"
      },
      "source": [],
      "execution_count": null,
      "outputs": []
    },
    {
      "cell_type": "markdown",
      "metadata": {
        "id": "3rRz0K0OBZRL"
      },
      "source": [
        "# 3.  KERNEL SVM"
      ]
    },
    {
      "cell_type": "code",
      "metadata": {
        "id": "m5PLBxT_2AoG"
      },
      "source": [
        "pipe = Pipeline([('normalizer', Normalizer()), ('svc', SVC(kernel= 'rbf'))])\n",
        "\n",
        "svc__C = [2, 8, 16]\n",
        "svc__gamma = [0.007, 0.125, 2]\n",
        "\n",
        "param_grid1 = {'svc__C' : svc__C, 'svc__gamma' : svc__gamma}\n",
        "\n",
        "grid_svc = GridSearchCV(pipe, param_grid1, cv = 3, return_train_score=True, n_jobs=-1)"
      ],
      "execution_count": null,
      "outputs": []
    },
    {
      "cell_type": "code",
      "metadata": {
        "id": "rDTWWLjf2zLA",
        "outputId": "9d42064b-3fc6-4680-8bdb-c190f567718b",
        "colab": {
          "base_uri": "https://localhost:8080/",
          "height": 377
        }
      },
      "source": [
        "data = X_train\n",
        "labels = y_train\n",
        "\n",
        "%time grid_svc.fit(data, labels)"
      ],
      "execution_count": null,
      "outputs": [
        {
          "output_type": "stream",
          "text": [
            "CPU times: user 4.48 s, sys: 118 ms, total: 4.6 s\n",
            "Wall time: 6min 15s\n"
          ],
          "name": "stdout"
        },
        {
          "output_type": "execute_result",
          "data": {
            "text/plain": [
              "GridSearchCV(cv=3, error_score='raise-deprecating',\n",
              "             estimator=Pipeline(memory=None,\n",
              "                                steps=[('normalizer',\n",
              "                                        Normalizer(copy=True, norm='l2')),\n",
              "                                       ('svc',\n",
              "                                        SVC(C=1.0, cache_size=200,\n",
              "                                            class_weight=None, coef0=0.0,\n",
              "                                            decision_function_shape='ovr',\n",
              "                                            degree=3, gamma='auto_deprecated',\n",
              "                                            kernel='rbf', max_iter=-1,\n",
              "                                            probability=False,\n",
              "                                            random_state=None, shrinking=True,\n",
              "                                            tol=0.001, verbose=False))],\n",
              "                                verbose=False),\n",
              "             iid='warn', n_jobs=-1,\n",
              "             param_grid={'svc__C': [2, 8, 16], 'svc__gamma': [0.007, 0.125, 2]},\n",
              "             pre_dispatch='2*n_jobs', refit=True, return_train_score=True,\n",
              "             scoring=None, verbose=0)"
            ]
          },
          "metadata": {
            "tags": []
          },
          "execution_count": 15
        }
      ]
    },
    {
      "cell_type": "code",
      "metadata": {
        "id": "Caxvia1P24OX",
        "outputId": "f2a82f8e-b9de-416c-d248-a9637290f65b",
        "colab": {
          "base_uri": "https://localhost:8080/",
          "height": 328
        }
      },
      "source": [
        "grid = grid_svc\n",
        "df_cv_scores_svc = retrn_cv_report(grid)\n",
        "df_cv_scores_svc"
      ],
      "execution_count": null,
      "outputs": [
        {
          "output_type": "execute_result",
          "data": {
            "text/html": [
              "<div>\n",
              "<style scoped>\n",
              "    .dataframe tbody tr th:only-of-type {\n",
              "        vertical-align: middle;\n",
              "    }\n",
              "\n",
              "    .dataframe tbody tr th {\n",
              "        vertical-align: top;\n",
              "    }\n",
              "\n",
              "    .dataframe thead th {\n",
              "        text-align: right;\n",
              "    }\n",
              "</style>\n",
              "<table border=\"1\" class=\"dataframe\">\n",
              "  <thead>\n",
              "    <tr style=\"text-align: right;\">\n",
              "      <th></th>\n",
              "      <th>mean_train_score</th>\n",
              "      <th>mean_test_score</th>\n",
              "      <th>diff_train_test</th>\n",
              "      <th>std_dev_train</th>\n",
              "      <th>std_dev_test</th>\n",
              "      <th>params</th>\n",
              "    </tr>\n",
              "  </thead>\n",
              "  <tbody>\n",
              "    <tr>\n",
              "      <th>0</th>\n",
              "      <td>67.593768</td>\n",
              "      <td>66.852557</td>\n",
              "      <td>0.741211</td>\n",
              "      <td>0.725430</td>\n",
              "      <td>2.825095</td>\n",
              "      <td>{'svc__C': 2, 'svc__gamma': 0.007}</td>\n",
              "    </tr>\n",
              "    <tr>\n",
              "      <th>1</th>\n",
              "      <td>93.008917</td>\n",
              "      <td>89.377040</td>\n",
              "      <td>3.631877</td>\n",
              "      <td>0.737796</td>\n",
              "      <td>1.451593</td>\n",
              "      <td>{'svc__C': 2, 'svc__gamma': 0.125}</td>\n",
              "    </tr>\n",
              "    <tr>\n",
              "      <th>2</th>\n",
              "      <td>98.456187</td>\n",
              "      <td>93.416757</td>\n",
              "      <td>5.039430</td>\n",
              "      <td>0.051341</td>\n",
              "      <td>1.728520</td>\n",
              "      <td>{'svc__C': 2, 'svc__gamma': 2}</td>\n",
              "    </tr>\n",
              "    <tr>\n",
              "      <th>3</th>\n",
              "      <td>86.786508</td>\n",
              "      <td>84.616431</td>\n",
              "      <td>2.170077</td>\n",
              "      <td>1.561161</td>\n",
              "      <td>1.061545</td>\n",
              "      <td>{'svc__C': 8, 'svc__gamma': 0.007}</td>\n",
              "    </tr>\n",
              "    <tr>\n",
              "      <th>4</th>\n",
              "      <td>96.518144</td>\n",
              "      <td>91.743743</td>\n",
              "      <td>4.774401</td>\n",
              "      <td>0.529722</td>\n",
              "      <td>1.746265</td>\n",
              "      <td>{'svc__C': 8, 'svc__gamma': 0.125}</td>\n",
              "    </tr>\n",
              "    <tr>\n",
              "      <th>5</th>\n",
              "      <td>99.258714</td>\n",
              "      <td>94.151251</td>\n",
              "      <td>5.107463</td>\n",
              "      <td>0.062973</td>\n",
              "      <td>1.411805</td>\n",
              "      <td>{'svc__C': 8, 'svc__gamma': 2}</td>\n",
              "    </tr>\n",
              "    <tr>\n",
              "      <th>6</th>\n",
              "      <td>90.961903</td>\n",
              "      <td>88.275299</td>\n",
              "      <td>2.686603</td>\n",
              "      <td>0.755978</td>\n",
              "      <td>1.016961</td>\n",
              "      <td>{'svc__C': 16, 'svc__gamma': 0.007}</td>\n",
              "    </tr>\n",
              "    <tr>\n",
              "      <th>7</th>\n",
              "      <td>97.660524</td>\n",
              "      <td>92.859086</td>\n",
              "      <td>4.801438</td>\n",
              "      <td>0.185491</td>\n",
              "      <td>1.774994</td>\n",
              "      <td>{'svc__C': 16, 'svc__gamma': 0.125}</td>\n",
              "    </tr>\n",
              "    <tr>\n",
              "      <th>8</th>\n",
              "      <td>99.496754</td>\n",
              "      <td>94.368879</td>\n",
              "      <td>5.127875</td>\n",
              "      <td>0.047883</td>\n",
              "      <td>1.116020</td>\n",
              "      <td>{'svc__C': 16, 'svc__gamma': 2}</td>\n",
              "    </tr>\n",
              "  </tbody>\n",
              "</table>\n",
              "</div>"
            ],
            "text/plain": [
              "   mean_train_score  ...                               params\n",
              "0         67.593768  ...   {'svc__C': 2, 'svc__gamma': 0.007}\n",
              "1         93.008917  ...   {'svc__C': 2, 'svc__gamma': 0.125}\n",
              "2         98.456187  ...       {'svc__C': 2, 'svc__gamma': 2}\n",
              "3         86.786508  ...   {'svc__C': 8, 'svc__gamma': 0.007}\n",
              "4         96.518144  ...   {'svc__C': 8, 'svc__gamma': 0.125}\n",
              "5         99.258714  ...       {'svc__C': 8, 'svc__gamma': 2}\n",
              "6         90.961903  ...  {'svc__C': 16, 'svc__gamma': 0.007}\n",
              "7         97.660524  ...  {'svc__C': 16, 'svc__gamma': 0.125}\n",
              "8         99.496754  ...      {'svc__C': 16, 'svc__gamma': 2}\n",
              "\n",
              "[9 rows x 6 columns]"
            ]
          },
          "metadata": {
            "tags": []
          },
          "execution_count": 16
        }
      ]
    },
    {
      "cell_type": "code",
      "metadata": {
        "id": "1sLgBeOf24ED",
        "outputId": "7f34758c-4344-4704-f50e-a84798280b18",
        "colab": {
          "base_uri": "https://localhost:8080/",
          "height": 35
        }
      },
      "source": [
        "best_clf = df_cv_scores_svc.loc[8]['params']\n",
        "best_clf"
      ],
      "execution_count": null,
      "outputs": [
        {
          "output_type": "execute_result",
          "data": {
            "text/plain": [
              "{'svc__C': 16, 'svc__gamma': 2}"
            ]
          },
          "metadata": {
            "tags": []
          },
          "execution_count": 17
        }
      ]
    },
    {
      "cell_type": "code",
      "metadata": {
        "id": "RUll4Dtt5Fuy",
        "outputId": "05d5e154-540f-4b31-9a8c-9d2e14f5710d",
        "colab": {
          "base_uri": "https://localhost:8080/",
          "height": 235
        }
      },
      "source": [
        "y_pred_test = grid_svc.predict(X_test)\n",
        "\n",
        "df_con_matrix_svc_clf = retrn_confusion_matrix(y_test, y_pred_test)\n",
        "df_con_matrix_svc_clf"
      ],
      "execution_count": null,
      "outputs": [
        {
          "output_type": "execute_result",
          "data": {
            "text/html": [
              "<div>\n",
              "<style scoped>\n",
              "    .dataframe tbody tr th:only-of-type {\n",
              "        vertical-align: middle;\n",
              "    }\n",
              "\n",
              "    .dataframe tbody tr th {\n",
              "        vertical-align: top;\n",
              "    }\n",
              "\n",
              "    .dataframe thead th {\n",
              "        text-align: right;\n",
              "    }\n",
              "</style>\n",
              "<table border=\"1\" class=\"dataframe\">\n",
              "  <thead>\n",
              "    <tr style=\"text-align: right;\">\n",
              "      <th></th>\n",
              "      <th>pred_1</th>\n",
              "      <th>pred_2</th>\n",
              "      <th>pred_3</th>\n",
              "      <th>pred_4</th>\n",
              "      <th>pred_5</th>\n",
              "      <th>pred_6</th>\n",
              "      <th>correct_preds</th>\n",
              "      <th>pred_total</th>\n",
              "      <th>actual_total</th>\n",
              "      <th>precision</th>\n",
              "      <th>recall</th>\n",
              "    </tr>\n",
              "  </thead>\n",
              "  <tbody>\n",
              "    <tr>\n",
              "      <th>actual_1</th>\n",
              "      <td>537</td>\n",
              "      <td>0</td>\n",
              "      <td>0</td>\n",
              "      <td>0</td>\n",
              "      <td>0</td>\n",
              "      <td>0</td>\n",
              "      <td>537</td>\n",
              "      <td>537</td>\n",
              "      <td>537</td>\n",
              "      <td>1.000000</td>\n",
              "      <td>1.000000</td>\n",
              "    </tr>\n",
              "    <tr>\n",
              "      <th>actual_2</th>\n",
              "      <td>0</td>\n",
              "      <td>440</td>\n",
              "      <td>49</td>\n",
              "      <td>0</td>\n",
              "      <td>0</td>\n",
              "      <td>2</td>\n",
              "      <td>440</td>\n",
              "      <td>452</td>\n",
              "      <td>491</td>\n",
              "      <td>0.973451</td>\n",
              "      <td>0.896130</td>\n",
              "    </tr>\n",
              "    <tr>\n",
              "      <th>actual_3</th>\n",
              "      <td>0</td>\n",
              "      <td>12</td>\n",
              "      <td>520</td>\n",
              "      <td>0</td>\n",
              "      <td>0</td>\n",
              "      <td>0</td>\n",
              "      <td>520</td>\n",
              "      <td>569</td>\n",
              "      <td>532</td>\n",
              "      <td>0.913884</td>\n",
              "      <td>0.977444</td>\n",
              "    </tr>\n",
              "    <tr>\n",
              "      <th>actual_4</th>\n",
              "      <td>0</td>\n",
              "      <td>0</td>\n",
              "      <td>0</td>\n",
              "      <td>488</td>\n",
              "      <td>3</td>\n",
              "      <td>5</td>\n",
              "      <td>488</td>\n",
              "      <td>509</td>\n",
              "      <td>496</td>\n",
              "      <td>0.958743</td>\n",
              "      <td>0.983871</td>\n",
              "    </tr>\n",
              "    <tr>\n",
              "      <th>actual_5</th>\n",
              "      <td>0</td>\n",
              "      <td>0</td>\n",
              "      <td>0</td>\n",
              "      <td>5</td>\n",
              "      <td>396</td>\n",
              "      <td>19</td>\n",
              "      <td>396</td>\n",
              "      <td>399</td>\n",
              "      <td>420</td>\n",
              "      <td>0.992481</td>\n",
              "      <td>0.942857</td>\n",
              "    </tr>\n",
              "    <tr>\n",
              "      <th>actual_6</th>\n",
              "      <td>0</td>\n",
              "      <td>0</td>\n",
              "      <td>0</td>\n",
              "      <td>16</td>\n",
              "      <td>0</td>\n",
              "      <td>455</td>\n",
              "      <td>455</td>\n",
              "      <td>481</td>\n",
              "      <td>471</td>\n",
              "      <td>0.945946</td>\n",
              "      <td>0.966030</td>\n",
              "    </tr>\n",
              "  </tbody>\n",
              "</table>\n",
              "</div>"
            ],
            "text/plain": [
              "          pred_1  pred_2  pred_3  ...  actual_total  precision    recall\n",
              "actual_1     537       0       0  ...           537   1.000000  1.000000\n",
              "actual_2       0     440      49  ...           491   0.973451  0.896130\n",
              "actual_3       0      12     520  ...           532   0.913884  0.977444\n",
              "actual_4       0       0       0  ...           496   0.958743  0.983871\n",
              "actual_5       0       0       0  ...           420   0.992481  0.942857\n",
              "actual_6       0       0       0  ...           471   0.945946  0.966030\n",
              "\n",
              "[6 rows x 11 columns]"
            ]
          },
          "metadata": {
            "tags": []
          },
          "execution_count": 20
        }
      ]
    },
    {
      "cell_type": "code",
      "metadata": {
        "id": "kQWKT7k75FkJ",
        "outputId": "d0adfa62-23a9-437d-a121-63516f330384",
        "colab": {
          "base_uri": "https://localhost:8080/",
          "height": 643
        }
      },
      "source": [
        "retrn_heatmap_precision_recall_matrix(df_con_matrix_svc_clf)"
      ],
      "execution_count": null,
      "outputs": [
        {
          "output_type": "stream",
          "text": [
            "PRECISION MATRIX :\n",
            "\n"
          ],
          "name": "stdout"
        },
        {
          "output_type": "display_data",
          "data": {
            "image/png": "[encoded data removed]",
            "text/plain": [
              "<Figure size 1224x288 with 2 Axes>"
            ]
          },
          "metadata": {
            "tags": []
          }
        },
        {
          "output_type": "stream",
          "text": [
            "RECALL MATRIX :\n",
            "\n"
          ],
          "name": "stdout"
        },
        {
          "output_type": "display_data",
          "data": {
            "image/png": "[encoded data removed]",
            "text/plain": [
              "<Figure size 1224x288 with 2 Axes>"
            ]
          },
          "metadata": {
            "tags": []
          }
        }
      ]
    },
    {
      "cell_type": "markdown",
      "metadata": {
        "id": "f2y-lKdcKhAx"
      },
      "source": [
        "***"
      ]
    },
    {
      "cell_type": "code",
      "metadata": {
        "id": "cWoSyfjYDE7S"
      },
      "source": [],
      "execution_count": null,
      "outputs": []
    },
    {
      "cell_type": "markdown",
      "metadata": {
        "id": "3sRGVL3dDm9U"
      },
      "source": [
        "# 4. RANDOM FOREST:"
      ]
    },
    {
      "cell_type": "code",
      "metadata": {
        "id": "yL6o_Yo8DvKK"
      },
      "source": [
        "pipe = Pipeline([('RF', RandomForestClassifier(class_weight = 'balanced'))])\n",
        "\n",
        "param_grid1 = {'RF__n_estimators'      : np.arange(10,201,20),\n",
        "               'RF__max_depth'         : np.arange(3,15,2)}\n",
        "\n",
        "grid_RF = GridSearchCV(pipe, param_grid1, cv = 3, return_train_score=True, n_jobs = -1)"
      ],
      "execution_count": null,
      "outputs": []
    },
    {
      "cell_type": "code",
      "metadata": {
        "id": "1BqXCY-dEHbG",
        "outputId": "40bd2803-8897-44ed-8cd9-cd2c0f8cb10d",
        "colab": {
          "base_uri": "https://localhost:8080/",
          "height": 521
        }
      },
      "source": [
        "data = X_train\n",
        "labels = y_train\n",
        "\n",
        "%time grid_RF.fit(data, labels)"
      ],
      "execution_count": null,
      "outputs": [
        {
          "output_type": "stream",
          "text": [
            "CPU times: user 10.9 s, sys: 107 ms, total: 11 s\n",
            "Wall time: 11min 57s\n"
          ],
          "name": "stdout"
        },
        {
          "output_type": "execute_result",
          "data": {
            "text/plain": [
              "GridSearchCV(cv=3, error_score='raise-deprecating',\n",
              "             estimator=Pipeline(memory=None,\n",
              "                                steps=[('RF',\n",
              "                                        RandomForestClassifier(bootstrap=True,\n",
              "                                                               class_weight='balanced',\n",
              "                                                               criterion='gini',\n",
              "                                                               max_depth=None,\n",
              "                                                               max_features='auto',\n",
              "                                                               max_leaf_nodes=None,\n",
              "                                                               min_impurity_decrease=0.0,\n",
              "                                                               min_impurity_split=None,\n",
              "                                                               min_samples_leaf=1,\n",
              "                                                               min_samples_split=2,\n",
              "                                                               min_weight_fraction_leaf=0.0,\n",
              "                                                               n_estimators='warn',\n",
              "                                                               n_jobs=None,\n",
              "                                                               oob_score=False,\n",
              "                                                               random_state=None,\n",
              "                                                               verbose=0,\n",
              "                                                               warm_start=False))],\n",
              "                                verbose=False),\n",
              "             iid='warn', n_jobs=-1,\n",
              "             param_grid={'RF__max_depth': array([ 3,  5,  7,  9, 11, 13]),\n",
              "                         'RF__n_estimators': array([ 10,  30,  50,  70,  90, 110, 130, 150, 170, 190])},\n",
              "             pre_dispatch='2*n_jobs', refit=True, return_train_score=True,\n",
              "             scoring=None, verbose=0)"
            ]
          },
          "metadata": {
            "tags": []
          },
          "execution_count": 24
        }
      ]
    },
    {
      "cell_type": "code",
      "metadata": {
        "id": "V5kN-gCSEHYH",
        "outputId": "300bc88c-6635-46d2-a3f9-c3b64cdc3d2c",
        "colab": {
          "base_uri": "https://localhost:8080/",
          "height": 1909
        }
      },
      "source": [
        "grid = grid_RF\n",
        "df_cv_scores_RF = retrn_cv_report(grid)\n",
        "df_cv_scores_RF"
      ],
      "execution_count": null,
      "outputs": [
        {
          "output_type": "execute_result",
          "data": {
            "text/html": [
              "<div>\n",
              "<style scoped>\n",
              "    .dataframe tbody tr th:only-of-type {\n",
              "        vertical-align: middle;\n",
              "    }\n",
              "\n",
              "    .dataframe tbody tr th {\n",
              "        vertical-align: top;\n",
              "    }\n",
              "\n",
              "    .dataframe thead th {\n",
              "        text-align: right;\n",
              "    }\n",
              "</style>\n",
              "<table border=\"1\" class=\"dataframe\">\n",
              "  <thead>\n",
              "    <tr style=\"text-align: right;\">\n",
              "      <th></th>\n",
              "      <th>mean_train_score</th>\n",
              "      <th>mean_test_score</th>\n",
              "      <th>diff_train_test</th>\n",
              "      <th>std_dev_train</th>\n",
              "      <th>std_dev_test</th>\n",
              "      <th>params</th>\n",
              "    </tr>\n",
              "  </thead>\n",
              "  <tbody>\n",
              "    <tr>\n",
              "      <th>0</th>\n",
              "      <td>88.955560</td>\n",
              "      <td>84.983678</td>\n",
              "      <td>3.971882</td>\n",
              "      <td>1.105011</td>\n",
              "      <td>2.400740</td>\n",
              "      <td>{'RF__max_depth': 3, 'RF__n_estimators': 10}</td>\n",
              "    </tr>\n",
              "    <tr>\n",
              "      <th>1</th>\n",
              "      <td>88.935269</td>\n",
              "      <td>85.677367</td>\n",
              "      <td>3.257902</td>\n",
              "      <td>1.445707</td>\n",
              "      <td>2.109908</td>\n",
              "      <td>{'RF__max_depth': 3, 'RF__n_estimators': 30}</td>\n",
              "    </tr>\n",
              "    <tr>\n",
              "      <th>2</th>\n",
              "      <td>91.253909</td>\n",
              "      <td>87.976061</td>\n",
              "      <td>3.277848</td>\n",
              "      <td>0.460678</td>\n",
              "      <td>1.627180</td>\n",
              "      <td>{'RF__max_depth': 3, 'RF__n_estimators': 50}</td>\n",
              "    </tr>\n",
              "    <tr>\n",
              "      <th>3</th>\n",
              "      <td>90.825610</td>\n",
              "      <td>87.282372</td>\n",
              "      <td>3.543237</td>\n",
              "      <td>0.302862</td>\n",
              "      <td>1.410444</td>\n",
              "      <td>{'RF__max_depth': 3, 'RF__n_estimators': 70}</td>\n",
              "    </tr>\n",
              "    <tr>\n",
              "      <th>4</th>\n",
              "      <td>91.213154</td>\n",
              "      <td>87.894450</td>\n",
              "      <td>3.318703</td>\n",
              "      <td>0.321215</td>\n",
              "      <td>1.316241</td>\n",
              "      <td>{'RF__max_depth': 3, 'RF__n_estimators': 90}</td>\n",
              "    </tr>\n",
              "    <tr>\n",
              "      <th>5</th>\n",
              "      <td>91.526023</td>\n",
              "      <td>87.772035</td>\n",
              "      <td>3.753989</td>\n",
              "      <td>0.653419</td>\n",
              "      <td>1.803234</td>\n",
              "      <td>{'RF__max_depth': 3, 'RF__n_estimators': 110}</td>\n",
              "    </tr>\n",
              "    <tr>\n",
              "      <th>6</th>\n",
              "      <td>91.709714</td>\n",
              "      <td>88.397715</td>\n",
              "      <td>3.311999</td>\n",
              "      <td>0.077783</td>\n",
              "      <td>1.013036</td>\n",
              "      <td>{'RF__max_depth': 3, 'RF__n_estimators': 130}</td>\n",
              "    </tr>\n",
              "    <tr>\n",
              "      <th>7</th>\n",
              "      <td>91.165540</td>\n",
              "      <td>88.044070</td>\n",
              "      <td>3.121471</td>\n",
              "      <td>0.370631</td>\n",
              "      <td>1.377683</td>\n",
              "      <td>{'RF__max_depth': 3, 'RF__n_estimators': 150}</td>\n",
              "    </tr>\n",
              "    <tr>\n",
              "      <th>8</th>\n",
              "      <td>91.723436</td>\n",
              "      <td>88.696953</td>\n",
              "      <td>3.026482</td>\n",
              "      <td>0.251825</td>\n",
              "      <td>0.920771</td>\n",
              "      <td>{'RF__max_depth': 3, 'RF__n_estimators': 170}</td>\n",
              "    </tr>\n",
              "    <tr>\n",
              "      <th>9</th>\n",
              "      <td>91.172243</td>\n",
              "      <td>88.152884</td>\n",
              "      <td>3.019360</td>\n",
              "      <td>0.877689</td>\n",
              "      <td>1.367175</td>\n",
              "      <td>{'RF__max_depth': 3, 'RF__n_estimators': 190}</td>\n",
              "    </tr>\n",
              "    <tr>\n",
              "      <th>10</th>\n",
              "      <td>94.511930</td>\n",
              "      <td>88.982590</td>\n",
              "      <td>5.529340</td>\n",
              "      <td>0.743030</td>\n",
              "      <td>1.073237</td>\n",
              "      <td>{'RF__max_depth': 5, 'RF__n_estimators': 10}</td>\n",
              "    </tr>\n",
              "    <tr>\n",
              "      <th>11</th>\n",
              "      <td>95.797250</td>\n",
              "      <td>90.111534</td>\n",
              "      <td>5.685716</td>\n",
              "      <td>0.495813</td>\n",
              "      <td>0.367673</td>\n",
              "      <td>{'RF__max_depth': 5, 'RF__n_estimators': 30}</td>\n",
              "    </tr>\n",
              "    <tr>\n",
              "      <th>12</th>\n",
              "      <td>95.872113</td>\n",
              "      <td>90.805223</td>\n",
              "      <td>5.066890</td>\n",
              "      <td>0.679234</td>\n",
              "      <td>0.894530</td>\n",
              "      <td>{'RF__max_depth': 5, 'RF__n_estimators': 50}</td>\n",
              "    </tr>\n",
              "    <tr>\n",
              "      <th>13</th>\n",
              "      <td>95.919705</td>\n",
              "      <td>90.247552</td>\n",
              "      <td>5.672153</td>\n",
              "      <td>0.615175</td>\n",
              "      <td>0.516254</td>\n",
              "      <td>{'RF__max_depth': 5, 'RF__n_estimators': 70}</td>\n",
              "    </tr>\n",
              "    <tr>\n",
              "      <th>14</th>\n",
              "      <td>95.940124</td>\n",
              "      <td>90.301959</td>\n",
              "      <td>5.638165</td>\n",
              "      <td>0.635017</td>\n",
              "      <td>0.304282</td>\n",
              "      <td>{'RF__max_depth': 5, 'RF__n_estimators': 90}</td>\n",
              "    </tr>\n",
              "    <tr>\n",
              "      <th>15</th>\n",
              "      <td>95.783650</td>\n",
              "      <td>91.281284</td>\n",
              "      <td>4.502366</td>\n",
              "      <td>0.518329</td>\n",
              "      <td>0.162367</td>\n",
              "      <td>{'RF__max_depth': 5, 'RF__n_estimators': 110}</td>\n",
              "    </tr>\n",
              "    <tr>\n",
              "      <th>16</th>\n",
              "      <td>96.164508</td>\n",
              "      <td>90.886834</td>\n",
              "      <td>5.277675</td>\n",
              "      <td>0.518821</td>\n",
              "      <td>0.606279</td>\n",
              "      <td>{'RF__max_depth': 5, 'RF__n_estimators': 130}</td>\n",
              "    </tr>\n",
              "    <tr>\n",
              "      <th>17</th>\n",
              "      <td>95.946877</td>\n",
              "      <td>90.478781</td>\n",
              "      <td>5.468095</td>\n",
              "      <td>0.514837</td>\n",
              "      <td>0.310490</td>\n",
              "      <td>{'RF__max_depth': 5, 'RF__n_estimators': 150}</td>\n",
              "    </tr>\n",
              "    <tr>\n",
              "      <th>18</th>\n",
              "      <td>95.858530</td>\n",
              "      <td>90.329162</td>\n",
              "      <td>5.529368</td>\n",
              "      <td>0.682465</td>\n",
              "      <td>0.549859</td>\n",
              "      <td>{'RF__max_depth': 5, 'RF__n_estimators': 170}</td>\n",
              "    </tr>\n",
              "    <tr>\n",
              "      <th>19</th>\n",
              "      <td>96.048917</td>\n",
              "      <td>90.546790</td>\n",
              "      <td>5.502127</td>\n",
              "      <td>0.583128</td>\n",
              "      <td>0.323386</td>\n",
              "      <td>{'RF__max_depth': 5, 'RF__n_estimators': 190}</td>\n",
              "    </tr>\n",
              "    <tr>\n",
              "      <th>20</th>\n",
              "      <td>98.068549</td>\n",
              "      <td>88.696953</td>\n",
              "      <td>9.371596</td>\n",
              "      <td>0.051051</td>\n",
              "      <td>2.018616</td>\n",
              "      <td>{'RF__max_depth': 7, 'RF__n_estimators': 10}</td>\n",
              "    </tr>\n",
              "    <tr>\n",
              "      <th>21</th>\n",
              "      <td>98.245547</td>\n",
              "      <td>90.723613</td>\n",
              "      <td>7.521935</td>\n",
              "      <td>0.499908</td>\n",
              "      <td>1.343040</td>\n",
              "      <td>{'RF__max_depth': 7, 'RF__n_estimators': 30}</td>\n",
              "    </tr>\n",
              "    <tr>\n",
              "      <th>22</th>\n",
              "      <td>98.633069</td>\n",
              "      <td>91.118063</td>\n",
              "      <td>7.515006</td>\n",
              "      <td>0.188899</td>\n",
              "      <td>0.422910</td>\n",
              "      <td>{'RF__max_depth': 7, 'RF__n_estimators': 50}</td>\n",
              "    </tr>\n",
              "    <tr>\n",
              "      <th>23</th>\n",
              "      <td>98.510681</td>\n",
              "      <td>90.778020</td>\n",
              "      <td>7.732662</td>\n",
              "      <td>0.279867</td>\n",
              "      <td>1.593173</td>\n",
              "      <td>{'RF__max_depth': 7, 'RF__n_estimators': 70}</td>\n",
              "    </tr>\n",
              "    <tr>\n",
              "      <th>24</th>\n",
              "      <td>98.592264</td>\n",
              "      <td>91.009249</td>\n",
              "      <td>7.583015</td>\n",
              "      <td>0.202373</td>\n",
              "      <td>1.232810</td>\n",
              "      <td>{'RF__max_depth': 7, 'RF__n_estimators': 90}</td>\n",
              "    </tr>\n",
              "    <tr>\n",
              "      <th>25</th>\n",
              "      <td>98.340758</td>\n",
              "      <td>90.778020</td>\n",
              "      <td>7.562738</td>\n",
              "      <td>0.491927</td>\n",
              "      <td>1.102277</td>\n",
              "      <td>{'RF__max_depth': 7, 'RF__n_estimators': 110}</td>\n",
              "    </tr>\n",
              "    <tr>\n",
              "      <th>26</th>\n",
              "      <td>98.415504</td>\n",
              "      <td>91.022851</td>\n",
              "      <td>7.392653</td>\n",
              "      <td>0.352617</td>\n",
              "      <td>1.138207</td>\n",
              "      <td>{'RF__max_depth': 7, 'RF__n_estimators': 130}</td>\n",
              "    </tr>\n",
              "    <tr>\n",
              "      <th>27</th>\n",
              "      <td>98.531095</td>\n",
              "      <td>91.322089</td>\n",
              "      <td>7.209006</td>\n",
              "      <td>0.349505</td>\n",
              "      <td>1.171845</td>\n",
              "      <td>{'RF__max_depth': 7, 'RF__n_estimators': 150}</td>\n",
              "    </tr>\n",
              "    <tr>\n",
              "      <th>28</th>\n",
              "      <td>98.483493</td>\n",
              "      <td>91.199674</td>\n",
              "      <td>7.283819</td>\n",
              "      <td>0.306886</td>\n",
              "      <td>1.038232</td>\n",
              "      <td>{'RF__max_depth': 7, 'RF__n_estimators': 170}</td>\n",
              "    </tr>\n",
              "    <tr>\n",
              "      <th>29</th>\n",
              "      <td>98.524253</td>\n",
              "      <td>91.281284</td>\n",
              "      <td>7.242969</td>\n",
              "      <td>0.220958</td>\n",
              "      <td>1.477169</td>\n",
              "      <td>{'RF__max_depth': 7, 'RF__n_estimators': 190}</td>\n",
              "    </tr>\n",
              "    <tr>\n",
              "      <th>30</th>\n",
              "      <td>99.217876</td>\n",
              "      <td>89.526659</td>\n",
              "      <td>9.691216</td>\n",
              "      <td>0.097809</td>\n",
              "      <td>1.703356</td>\n",
              "      <td>{'RF__max_depth': 9, 'RF__n_estimators': 10}</td>\n",
              "    </tr>\n",
              "    <tr>\n",
              "      <th>31</th>\n",
              "      <td>99.619103</td>\n",
              "      <td>91.199674</td>\n",
              "      <td>8.419430</td>\n",
              "      <td>0.129506</td>\n",
              "      <td>1.713958</td>\n",
              "      <td>{'RF__max_depth': 9, 'RF__n_estimators': 30}</td>\n",
              "    </tr>\n",
              "    <tr>\n",
              "      <th>32</th>\n",
              "      <td>99.666694</td>\n",
              "      <td>91.118063</td>\n",
              "      <td>8.548631</td>\n",
              "      <td>0.166948</td>\n",
              "      <td>1.854841</td>\n",
              "      <td>{'RF__max_depth': 9, 'RF__n_estimators': 50}</td>\n",
              "    </tr>\n",
              "    <tr>\n",
              "      <th>33</th>\n",
              "      <td>99.564720</td>\n",
              "      <td>90.710011</td>\n",
              "      <td>8.854709</td>\n",
              "      <td>0.063218</td>\n",
              "      <td>2.248603</td>\n",
              "      <td>{'RF__max_depth': 9, 'RF__n_estimators': 70}</td>\n",
              "    </tr>\n",
              "    <tr>\n",
              "      <th>34</th>\n",
              "      <td>99.591892</td>\n",
              "      <td>90.927639</td>\n",
              "      <td>8.664253</td>\n",
              "      <td>0.152795</td>\n",
              "      <td>1.937421</td>\n",
              "      <td>{'RF__max_depth': 9, 'RF__n_estimators': 90}</td>\n",
              "    </tr>\n",
              "    <tr>\n",
              "      <th>35</th>\n",
              "      <td>99.639545</td>\n",
              "      <td>90.682807</td>\n",
              "      <td>8.956737</td>\n",
              "      <td>0.048165</td>\n",
              "      <td>2.339445</td>\n",
              "      <td>{'RF__max_depth': 9, 'RF__n_estimators': 110}</td>\n",
              "    </tr>\n",
              "    <tr>\n",
              "      <th>36</th>\n",
              "      <td>99.632703</td>\n",
              "      <td>91.294886</td>\n",
              "      <td>8.337817</td>\n",
              "      <td>0.136461</td>\n",
              "      <td>1.458316</td>\n",
              "      <td>{'RF__max_depth': 9, 'RF__n_estimators': 130}</td>\n",
              "    </tr>\n",
              "    <tr>\n",
              "      <th>37</th>\n",
              "      <td>99.598723</td>\n",
              "      <td>91.104461</td>\n",
              "      <td>8.494261</td>\n",
              "      <td>0.107203</td>\n",
              "      <td>1.764988</td>\n",
              "      <td>{'RF__max_depth': 9, 'RF__n_estimators': 150}</td>\n",
              "    </tr>\n",
              "    <tr>\n",
              "      <th>38</th>\n",
              "      <td>99.687130</td>\n",
              "      <td>90.723613</td>\n",
              "      <td>8.963518</td>\n",
              "      <td>0.083942</td>\n",
              "      <td>2.441406</td>\n",
              "      <td>{'RF__max_depth': 9, 'RF__n_estimators': 170}</td>\n",
              "    </tr>\n",
              "    <tr>\n",
              "      <th>39</th>\n",
              "      <td>99.659914</td>\n",
              "      <td>90.696409</td>\n",
              "      <td>8.963505</td>\n",
              "      <td>0.125129</td>\n",
              "      <td>2.412485</td>\n",
              "      <td>{'RF__max_depth': 9, 'RF__n_estimators': 190}</td>\n",
              "    </tr>\n",
              "    <tr>\n",
              "      <th>40</th>\n",
              "      <td>99.714347</td>\n",
              "      <td>90.057127</td>\n",
              "      <td>9.657219</td>\n",
              "      <td>0.050064</td>\n",
              "      <td>1.371170</td>\n",
              "      <td>{'RF__max_depth': 11, 'RF__n_estimators': 10}</td>\n",
              "    </tr>\n",
              "    <tr>\n",
              "      <th>41</th>\n",
              "      <td>99.877568</td>\n",
              "      <td>90.832427</td>\n",
              "      <td>9.045141</td>\n",
              "      <td>0.072647</td>\n",
              "      <td>1.699533</td>\n",
              "      <td>{'RF__max_depth': 11, 'RF__n_estimators': 30}</td>\n",
              "    </tr>\n",
              "    <tr>\n",
              "      <th>42</th>\n",
              "      <td>99.891173</td>\n",
              "      <td>90.723613</td>\n",
              "      <td>9.167560</td>\n",
              "      <td>0.034710</td>\n",
              "      <td>2.352521</td>\n",
              "      <td>{'RF__max_depth': 11, 'RF__n_estimators': 50}</td>\n",
              "    </tr>\n",
              "    <tr>\n",
              "      <th>43</th>\n",
              "      <td>99.931973</td>\n",
              "      <td>90.505985</td>\n",
              "      <td>9.425988</td>\n",
              "      <td>0.058519</td>\n",
              "      <td>2.561027</td>\n",
              "      <td>{'RF__max_depth': 11, 'RF__n_estimators': 70}</td>\n",
              "    </tr>\n",
              "    <tr>\n",
              "      <th>44</th>\n",
              "      <td>99.938781</td>\n",
              "      <td>91.498912</td>\n",
              "      <td>8.439869</td>\n",
              "      <td>0.028869</td>\n",
              "      <td>1.930925</td>\n",
              "      <td>{'RF__max_depth': 11, 'RF__n_estimators': 90}</td>\n",
              "    </tr>\n",
              "    <tr>\n",
              "      <th>45</th>\n",
              "      <td>99.931973</td>\n",
              "      <td>91.050054</td>\n",
              "      <td>8.881918</td>\n",
              "      <td>0.050907</td>\n",
              "      <td>2.121060</td>\n",
              "      <td>{'RF__max_depth': 11, 'RF__n_estimators': 110}</td>\n",
              "    </tr>\n",
              "    <tr>\n",
              "      <th>46</th>\n",
              "      <td>99.891168</td>\n",
              "      <td>91.145267</td>\n",
              "      <td>8.745901</td>\n",
              "      <td>0.058532</td>\n",
              "      <td>2.334670</td>\n",
              "      <td>{'RF__max_depth': 11, 'RF__n_estimators': 130}</td>\n",
              "    </tr>\n",
              "    <tr>\n",
              "      <th>47</th>\n",
              "      <td>99.938776</td>\n",
              "      <td>90.546790</td>\n",
              "      <td>9.391986</td>\n",
              "      <td>0.044087</td>\n",
              "      <td>2.698769</td>\n",
              "      <td>{'RF__max_depth': 11, 'RF__n_estimators': 150}</td>\n",
              "    </tr>\n",
              "    <tr>\n",
              "      <th>48</th>\n",
              "      <td>99.925170</td>\n",
              "      <td>91.349293</td>\n",
              "      <td>8.575877</td>\n",
              "      <td>0.058519</td>\n",
              "      <td>2.080923</td>\n",
              "      <td>{'RF__max_depth': 11, 'RF__n_estimators': 170}</td>\n",
              "    </tr>\n",
              "    <tr>\n",
              "      <th>49</th>\n",
              "      <td>99.931973</td>\n",
              "      <td>91.199674</td>\n",
              "      <td>8.732299</td>\n",
              "      <td>0.050907</td>\n",
              "      <td>2.019877</td>\n",
              "      <td>{'RF__max_depth': 11, 'RF__n_estimators': 190}</td>\n",
              "    </tr>\n",
              "    <tr>\n",
              "      <th>50</th>\n",
              "      <td>99.931984</td>\n",
              "      <td>89.730686</td>\n",
              "      <td>10.201298</td>\n",
              "      <td>0.025465</td>\n",
              "      <td>0.828359</td>\n",
              "      <td>{'RF__max_depth': 13, 'RF__n_estimators': 10}</td>\n",
              "    </tr>\n",
              "    <tr>\n",
              "      <th>51</th>\n",
              "      <td>99.972789</td>\n",
              "      <td>90.941240</td>\n",
              "      <td>9.031549</td>\n",
              "      <td>0.025453</td>\n",
              "      <td>2.208868</td>\n",
              "      <td>{'RF__max_depth': 13, 'RF__n_estimators': 30}</td>\n",
              "    </tr>\n",
              "    <tr>\n",
              "      <th>52</th>\n",
              "      <td>99.979592</td>\n",
              "      <td>90.818825</td>\n",
              "      <td>9.160767</td>\n",
              "      <td>0.016663</td>\n",
              "      <td>1.726375</td>\n",
              "      <td>{'RF__max_depth': 13, 'RF__n_estimators': 50}</td>\n",
              "    </tr>\n",
              "    <tr>\n",
              "      <th>53</th>\n",
              "      <td>99.993203</td>\n",
              "      <td>90.601197</td>\n",
              "      <td>9.392006</td>\n",
              "      <td>0.009613</td>\n",
              "      <td>1.935754</td>\n",
              "      <td>{'RF__max_depth': 13, 'RF__n_estimators': 70}</td>\n",
              "    </tr>\n",
              "    <tr>\n",
              "      <th>54</th>\n",
              "      <td>100.000000</td>\n",
              "      <td>90.614799</td>\n",
              "      <td>9.385201</td>\n",
              "      <td>0.000000</td>\n",
              "      <td>2.710516</td>\n",
              "      <td>{'RF__max_depth': 13, 'RF__n_estimators': 90}</td>\n",
              "    </tr>\n",
              "    <tr>\n",
              "      <th>55</th>\n",
              "      <td>100.000000</td>\n",
              "      <td>90.873232</td>\n",
              "      <td>9.126768</td>\n",
              "      <td>0.000000</td>\n",
              "      <td>2.227801</td>\n",
              "      <td>{'RF__max_depth': 13, 'RF__n_estimators': 110}</td>\n",
              "    </tr>\n",
              "    <tr>\n",
              "      <th>56</th>\n",
              "      <td>99.993197</td>\n",
              "      <td>90.655604</td>\n",
              "      <td>9.337593</td>\n",
              "      <td>0.009621</td>\n",
              "      <td>2.400250</td>\n",
              "      <td>{'RF__max_depth': 13, 'RF__n_estimators': 130}</td>\n",
              "    </tr>\n",
              "    <tr>\n",
              "      <th>57</th>\n",
              "      <td>99.993197</td>\n",
              "      <td>90.805223</td>\n",
              "      <td>9.187974</td>\n",
              "      <td>0.009621</td>\n",
              "      <td>2.524258</td>\n",
              "      <td>{'RF__max_depth': 13, 'RF__n_estimators': 150}</td>\n",
              "    </tr>\n",
              "    <tr>\n",
              "      <th>58</th>\n",
              "      <td>100.000000</td>\n",
              "      <td>90.642002</td>\n",
              "      <td>9.357998</td>\n",
              "      <td>0.000000</td>\n",
              "      <td>2.784993</td>\n",
              "      <td>{'RF__max_depth': 13, 'RF__n_estimators': 170}</td>\n",
              "    </tr>\n",
              "    <tr>\n",
              "      <th>59</th>\n",
              "      <td>100.000000</td>\n",
              "      <td>91.022851</td>\n",
              "      <td>8.977149</td>\n",
              "      <td>0.000000</td>\n",
              "      <td>2.402498</td>\n",
              "      <td>{'RF__max_depth': 13, 'RF__n_estimators': 190}</td>\n",
              "    </tr>\n",
              "  </tbody>\n",
              "</table>\n",
              "</div>"
            ],
            "text/plain": [
              "    mean_train_score  ...                                          params\n",
              "0          88.955560  ...    {'RF__max_depth': 3, 'RF__n_estimators': 10}\n",
              "1          88.935269  ...    {'RF__max_depth': 3, 'RF__n_estimators': 30}\n",
              "2          91.253909  ...    {'RF__max_depth': 3, 'RF__n_estimators': 50}\n",
              "3          90.825610  ...    {'RF__max_depth': 3, 'RF__n_estimators': 70}\n",
              "4          91.213154  ...    {'RF__max_depth': 3, 'RF__n_estimators': 90}\n",
              "5          91.526023  ...   {'RF__max_depth': 3, 'RF__n_estimators': 110}\n",
              "6          91.709714  ...   {'RF__max_depth': 3, 'RF__n_estimators': 130}\n",
              "7          91.165540  ...   {'RF__max_depth': 3, 'RF__n_estimators': 150}\n",
              "8          91.723436  ...   {'RF__max_depth': 3, 'RF__n_estimators': 170}\n",
              "9          91.172243  ...   {'RF__max_depth': 3, 'RF__n_estimators': 190}\n",
              "10         94.511930  ...    {'RF__max_depth': 5, 'RF__n_estimators': 10}\n",
              "11         95.797250  ...    {'RF__max_depth': 5, 'RF__n_estimators': 30}\n",
              "12         95.872113  ...    {'RF__max_depth': 5, 'RF__n_estimators': 50}\n",
              "13         95.919705  ...    {'RF__max_depth': 5, 'RF__n_estimators': 70}\n",
              "14         95.940124  ...    {'RF__max_depth': 5, 'RF__n_estimators': 90}\n",
              "15         95.783650  ...   {'RF__max_depth': 5, 'RF__n_estimators': 110}\n",
              "16         96.164508  ...   {'RF__max_depth': 5, 'RF__n_estimators': 130}\n",
              "17         95.946877  ...   {'RF__max_depth': 5, 'RF__n_estimators': 150}\n",
              "18         95.858530  ...   {'RF__max_depth': 5, 'RF__n_estimators': 170}\n",
              "19         96.048917  ...   {'RF__max_depth': 5, 'RF__n_estimators': 190}\n",
              "20         98.068549  ...    {'RF__max_depth': 7, 'RF__n_estimators': 10}\n",
              "21         98.245547  ...    {'RF__max_depth': 7, 'RF__n_estimators': 30}\n",
              "22         98.633069  ...    {'RF__max_depth': 7, 'RF__n_estimators': 50}\n",
              "23         98.510681  ...    {'RF__max_depth': 7, 'RF__n_estimators': 70}\n",
              "24         98.592264  ...    {'RF__max_depth': 7, 'RF__n_estimators': 90}\n",
              "25         98.340758  ...   {'RF__max_depth': 7, 'RF__n_estimators': 110}\n",
              "26         98.415504  ...   {'RF__max_depth': 7, 'RF__n_estimators': 130}\n",
              "27         98.531095  ...   {'RF__max_depth': 7, 'RF__n_estimators': 150}\n",
              "28         98.483493  ...   {'RF__max_depth': 7, 'RF__n_estimators': 170}\n",
              "29         98.524253  ...   {'RF__max_depth': 7, 'RF__n_estimators': 190}\n",
              "30         99.217876  ...    {'RF__max_depth': 9, 'RF__n_estimators': 10}\n",
              "31         99.619103  ...    {'RF__max_depth': 9, 'RF__n_estimators': 30}\n",
              "32         99.666694  ...    {'RF__max_depth': 9, 'RF__n_estimators': 50}\n",
              "33         99.564720  ...    {'RF__max_depth': 9, 'RF__n_estimators': 70}\n",
              "34         99.591892  ...    {'RF__max_depth': 9, 'RF__n_estimators': 90}\n",
              "35         99.639545  ...   {'RF__max_depth': 9, 'RF__n_estimators': 110}\n",
              "36         99.632703  ...   {'RF__max_depth': 9, 'RF__n_estimators': 130}\n",
              "37         99.598723  ...   {'RF__max_depth': 9, 'RF__n_estimators': 150}\n",
              "38         99.687130  ...   {'RF__max_depth': 9, 'RF__n_estimators': 170}\n",
              "39         99.659914  ...   {'RF__max_depth': 9, 'RF__n_estimators': 190}\n",
              "40         99.714347  ...   {'RF__max_depth': 11, 'RF__n_estimators': 10}\n",
              "41         99.877568  ...   {'RF__max_depth': 11, 'RF__n_estimators': 30}\n",
              "42         99.891173  ...   {'RF__max_depth': 11, 'RF__n_estimators': 50}\n",
              "43         99.931973  ...   {'RF__max_depth': 11, 'RF__n_estimators': 70}\n",
              "44         99.938781  ...   {'RF__max_depth': 11, 'RF__n_estimators': 90}\n",
              "45         99.931973  ...  {'RF__max_depth': 11, 'RF__n_estimators': 110}\n",
              "46         99.891168  ...  {'RF__max_depth': 11, 'RF__n_estimators': 130}\n",
              "47         99.938776  ...  {'RF__max_depth': 11, 'RF__n_estimators': 150}\n",
              "48         99.925170  ...  {'RF__max_depth': 11, 'RF__n_estimators': 170}\n",
              "49         99.931973  ...  {'RF__max_depth': 11, 'RF__n_estimators': 190}\n",
              "50         99.931984  ...   {'RF__max_depth': 13, 'RF__n_estimators': 10}\n",
              "51         99.972789  ...   {'RF__max_depth': 13, 'RF__n_estimators': 30}\n",
              "52         99.979592  ...   {'RF__max_depth': 13, 'RF__n_estimators': 50}\n",
              "53         99.993203  ...   {'RF__max_depth': 13, 'RF__n_estimators': 70}\n",
              "54        100.000000  ...   {'RF__max_depth': 13, 'RF__n_estimators': 90}\n",
              "55        100.000000  ...  {'RF__max_depth': 13, 'RF__n_estimators': 110}\n",
              "56         99.993197  ...  {'RF__max_depth': 13, 'RF__n_estimators': 130}\n",
              "57         99.993197  ...  {'RF__max_depth': 13, 'RF__n_estimators': 150}\n",
              "58        100.000000  ...  {'RF__max_depth': 13, 'RF__n_estimators': 170}\n",
              "59        100.000000  ...  {'RF__max_depth': 13, 'RF__n_estimators': 190}\n",
              "\n",
              "[60 rows x 6 columns]"
            ]
          },
          "metadata": {
            "tags": []
          },
          "execution_count": 25
        }
      ]
    },
    {
      "cell_type": "code",
      "metadata": {
        "id": "XrRWNoLdEHR3",
        "outputId": "20ca8071-98ff-4b0f-9ae6-76d97842a3a8",
        "colab": {
          "base_uri": "https://localhost:8080/",
          "height": 390
        }
      },
      "source": [
        "df_cv_scores_RF[df_cv_scores_RF.diff_train_test < 5]"
      ],
      "execution_count": null,
      "outputs": [
        {
          "output_type": "execute_result",
          "data": {
            "text/html": [
              "<div>\n",
              "<style scoped>\n",
              "    .dataframe tbody tr th:only-of-type {\n",
              "        vertical-align: middle;\n",
              "    }\n",
              "\n",
              "    .dataframe tbody tr th {\n",
              "        vertical-align: top;\n",
              "    }\n",
              "\n",
              "    .dataframe thead th {\n",
              "        text-align: right;\n",
              "    }\n",
              "</style>\n",
              "<table border=\"1\" class=\"dataframe\">\n",
              "  <thead>\n",
              "    <tr style=\"text-align: right;\">\n",
              "      <th></th>\n",
              "      <th>mean_train_score</th>\n",
              "      <th>mean_test_score</th>\n",
              "      <th>diff_train_test</th>\n",
              "      <th>std_dev_train</th>\n",
              "      <th>std_dev_test</th>\n",
              "      <th>params</th>\n",
              "    </tr>\n",
              "  </thead>\n",
              "  <tbody>\n",
              "    <tr>\n",
              "      <th>0</th>\n",
              "      <td>88.955560</td>\n",
              "      <td>84.983678</td>\n",
              "      <td>3.971882</td>\n",
              "      <td>1.105011</td>\n",
              "      <td>2.400740</td>\n",
              "      <td>{'RF__max_depth': 3, 'RF__n_estimators': 10}</td>\n",
              "    </tr>\n",
              "    <tr>\n",
              "      <th>1</th>\n",
              "      <td>88.935269</td>\n",
              "      <td>85.677367</td>\n",
              "      <td>3.257902</td>\n",
              "      <td>1.445707</td>\n",
              "      <td>2.109908</td>\n",
              "      <td>{'RF__max_depth': 3, 'RF__n_estimators': 30}</td>\n",
              "    </tr>\n",
              "    <tr>\n",
              "      <th>2</th>\n",
              "      <td>91.253909</td>\n",
              "      <td>87.976061</td>\n",
              "      <td>3.277848</td>\n",
              "      <td>0.460678</td>\n",
              "      <td>1.627180</td>\n",
              "      <td>{'RF__max_depth': 3, 'RF__n_estimators': 50}</td>\n",
              "    </tr>\n",
              "    <tr>\n",
              "      <th>3</th>\n",
              "      <td>90.825610</td>\n",
              "      <td>87.282372</td>\n",
              "      <td>3.543237</td>\n",
              "      <td>0.302862</td>\n",
              "      <td>1.410444</td>\n",
              "      <td>{'RF__max_depth': 3, 'RF__n_estimators': 70}</td>\n",
              "    </tr>\n",
              "    <tr>\n",
              "      <th>4</th>\n",
              "      <td>91.213154</td>\n",
              "      <td>87.894450</td>\n",
              "      <td>3.318703</td>\n",
              "      <td>0.321215</td>\n",
              "      <td>1.316241</td>\n",
              "      <td>{'RF__max_depth': 3, 'RF__n_estimators': 90}</td>\n",
              "    </tr>\n",
              "    <tr>\n",
              "      <th>5</th>\n",
              "      <td>91.526023</td>\n",
              "      <td>87.772035</td>\n",
              "      <td>3.753989</td>\n",
              "      <td>0.653419</td>\n",
              "      <td>1.803234</td>\n",
              "      <td>{'RF__max_depth': 3, 'RF__n_estimators': 110}</td>\n",
              "    </tr>\n",
              "    <tr>\n",
              "      <th>6</th>\n",
              "      <td>91.709714</td>\n",
              "      <td>88.397715</td>\n",
              "      <td>3.311999</td>\n",
              "      <td>0.077783</td>\n",
              "      <td>1.013036</td>\n",
              "      <td>{'RF__max_depth': 3, 'RF__n_estimators': 130}</td>\n",
              "    </tr>\n",
              "    <tr>\n",
              "      <th>7</th>\n",
              "      <td>91.165540</td>\n",
              "      <td>88.044070</td>\n",
              "      <td>3.121471</td>\n",
              "      <td>0.370631</td>\n",
              "      <td>1.377683</td>\n",
              "      <td>{'RF__max_depth': 3, 'RF__n_estimators': 150}</td>\n",
              "    </tr>\n",
              "    <tr>\n",
              "      <th>8</th>\n",
              "      <td>91.723436</td>\n",
              "      <td>88.696953</td>\n",
              "      <td>3.026482</td>\n",
              "      <td>0.251825</td>\n",
              "      <td>0.920771</td>\n",
              "      <td>{'RF__max_depth': 3, 'RF__n_estimators': 170}</td>\n",
              "    </tr>\n",
              "    <tr>\n",
              "      <th>9</th>\n",
              "      <td>91.172243</td>\n",
              "      <td>88.152884</td>\n",
              "      <td>3.019360</td>\n",
              "      <td>0.877689</td>\n",
              "      <td>1.367175</td>\n",
              "      <td>{'RF__max_depth': 3, 'RF__n_estimators': 190}</td>\n",
              "    </tr>\n",
              "    <tr>\n",
              "      <th>15</th>\n",
              "      <td>95.783650</td>\n",
              "      <td>91.281284</td>\n",
              "      <td>4.502366</td>\n",
              "      <td>0.518329</td>\n",
              "      <td>0.162367</td>\n",
              "      <td>{'RF__max_depth': 5, 'RF__n_estimators': 110}</td>\n",
              "    </tr>\n",
              "  </tbody>\n",
              "</table>\n",
              "</div>"
            ],
            "text/plain": [
              "    mean_train_score  ...                                         params\n",
              "0          88.955560  ...   {'RF__max_depth': 3, 'RF__n_estimators': 10}\n",
              "1          88.935269  ...   {'RF__max_depth': 3, 'RF__n_estimators': 30}\n",
              "2          91.253909  ...   {'RF__max_depth': 3, 'RF__n_estimators': 50}\n",
              "3          90.825610  ...   {'RF__max_depth': 3, 'RF__n_estimators': 70}\n",
              "4          91.213154  ...   {'RF__max_depth': 3, 'RF__n_estimators': 90}\n",
              "5          91.526023  ...  {'RF__max_depth': 3, 'RF__n_estimators': 110}\n",
              "6          91.709714  ...  {'RF__max_depth': 3, 'RF__n_estimators': 130}\n",
              "7          91.165540  ...  {'RF__max_depth': 3, 'RF__n_estimators': 150}\n",
              "8          91.723436  ...  {'RF__max_depth': 3, 'RF__n_estimators': 170}\n",
              "9          91.172243  ...  {'RF__max_depth': 3, 'RF__n_estimators': 190}\n",
              "15         95.783650  ...  {'RF__max_depth': 5, 'RF__n_estimators': 110}\n",
              "\n",
              "[11 rows x 6 columns]"
            ]
          },
          "metadata": {
            "tags": []
          },
          "execution_count": 28
        }
      ]
    },
    {
      "cell_type": "code",
      "metadata": {
        "id": "sd97dh20EHFn",
        "outputId": "a626b986-05c7-484c-f5e3-35d277cec317",
        "colab": {
          "base_uri": "https://localhost:8080/",
          "height": 35
        }
      },
      "source": [
        "best_clf = df_cv_scores_RF[df_cv_scores_RF.diff_train_test < 5].loc[15]['params']\n",
        "best_clf"
      ],
      "execution_count": null,
      "outputs": [
        {
          "output_type": "execute_result",
          "data": {
            "text/plain": [
              "{'RF__max_depth': 5, 'RF__n_estimators': 110}"
            ]
          },
          "metadata": {
            "tags": []
          },
          "execution_count": 30
        }
      ]
    },
    {
      "cell_type": "code",
      "metadata": {
        "id": "kEgfTiLfEHCv",
        "outputId": "9c18e756-0623-4ecb-e016-bcb788ab9f6f",
        "colab": {
          "base_uri": "https://localhost:8080/",
          "height": 143
        }
      },
      "source": [
        "RF_clf = RandomForestClassifier(max_depth = 5, n_estimators = 110, class_weight = 'balanced')\n",
        "RF_clf.fit(X_train, y_train)"
      ],
      "execution_count": null,
      "outputs": [
        {
          "output_type": "execute_result",
          "data": {
            "text/plain": [
              "RandomForestClassifier(bootstrap=True, class_weight='balanced',\n",
              "                       criterion='gini', max_depth=5, max_features='auto',\n",
              "                       max_leaf_nodes=None, min_impurity_decrease=0.0,\n",
              "                       min_impurity_split=None, min_samples_leaf=1,\n",
              "                       min_samples_split=2, min_weight_fraction_leaf=0.0,\n",
              "                       n_estimators=110, n_jobs=None, oob_score=False,\n",
              "                       random_state=None, verbose=0, warm_start=False)"
            ]
          },
          "metadata": {
            "tags": []
          },
          "execution_count": 31
        }
      ]
    },
    {
      "cell_type": "code",
      "metadata": {
        "id": "w-zJlcIgEG_Z",
        "outputId": "4ab61cd0-2c55-4d3a-d12a-027742ded6bb",
        "colab": {
          "base_uri": "https://localhost:8080/",
          "height": 235
        }
      },
      "source": [
        "y_pred_test = RF_clf.predict(X_test)\n",
        "\n",
        "df_con_matrix_RF_clf = retrn_confusion_matrix(y_test, y_pred_test)\n",
        "df_con_matrix_RF_clf"
      ],
      "execution_count": null,
      "outputs": [
        {
          "output_type": "execute_result",
          "data": {
            "text/html": [
              "<div>\n",
              "<style scoped>\n",
              "    .dataframe tbody tr th:only-of-type {\n",
              "        vertical-align: middle;\n",
              "    }\n",
              "\n",
              "    .dataframe tbody tr th {\n",
              "        vertical-align: top;\n",
              "    }\n",
              "\n",
              "    .dataframe thead th {\n",
              "        text-align: right;\n",
              "    }\n",
              "</style>\n",
              "<table border=\"1\" class=\"dataframe\">\n",
              "  <thead>\n",
              "    <tr style=\"text-align: right;\">\n",
              "      <th></th>\n",
              "      <th>pred_1</th>\n",
              "      <th>pred_2</th>\n",
              "      <th>pred_3</th>\n",
              "      <th>pred_4</th>\n",
              "      <th>pred_5</th>\n",
              "      <th>pred_6</th>\n",
              "      <th>correct_preds</th>\n",
              "      <th>pred_total</th>\n",
              "      <th>actual_total</th>\n",
              "      <th>precision</th>\n",
              "      <th>recall</th>\n",
              "    </tr>\n",
              "  </thead>\n",
              "  <tbody>\n",
              "    <tr>\n",
              "      <th>actual_1</th>\n",
              "      <td>537</td>\n",
              "      <td>0</td>\n",
              "      <td>0</td>\n",
              "      <td>0</td>\n",
              "      <td>0</td>\n",
              "      <td>0</td>\n",
              "      <td>537</td>\n",
              "      <td>537</td>\n",
              "      <td>537</td>\n",
              "      <td>1.000000</td>\n",
              "      <td>1.000000</td>\n",
              "    </tr>\n",
              "    <tr>\n",
              "      <th>actual_2</th>\n",
              "      <td>0</td>\n",
              "      <td>425</td>\n",
              "      <td>66</td>\n",
              "      <td>0</td>\n",
              "      <td>0</td>\n",
              "      <td>0</td>\n",
              "      <td>425</td>\n",
              "      <td>497</td>\n",
              "      <td>491</td>\n",
              "      <td>0.855131</td>\n",
              "      <td>0.865580</td>\n",
              "    </tr>\n",
              "    <tr>\n",
              "      <th>actual_3</th>\n",
              "      <td>0</td>\n",
              "      <td>72</td>\n",
              "      <td>460</td>\n",
              "      <td>0</td>\n",
              "      <td>0</td>\n",
              "      <td>0</td>\n",
              "      <td>460</td>\n",
              "      <td>526</td>\n",
              "      <td>532</td>\n",
              "      <td>0.874525</td>\n",
              "      <td>0.864662</td>\n",
              "    </tr>\n",
              "    <tr>\n",
              "      <th>actual_4</th>\n",
              "      <td>0</td>\n",
              "      <td>0</td>\n",
              "      <td>0</td>\n",
              "      <td>482</td>\n",
              "      <td>12</td>\n",
              "      <td>2</td>\n",
              "      <td>482</td>\n",
              "      <td>580</td>\n",
              "      <td>496</td>\n",
              "      <td>0.831034</td>\n",
              "      <td>0.971774</td>\n",
              "    </tr>\n",
              "    <tr>\n",
              "      <th>actual_5</th>\n",
              "      <td>0</td>\n",
              "      <td>0</td>\n",
              "      <td>0</td>\n",
              "      <td>52</td>\n",
              "      <td>317</td>\n",
              "      <td>51</td>\n",
              "      <td>317</td>\n",
              "      <td>335</td>\n",
              "      <td>420</td>\n",
              "      <td>0.946269</td>\n",
              "      <td>0.754762</td>\n",
              "    </tr>\n",
              "    <tr>\n",
              "      <th>actual_6</th>\n",
              "      <td>0</td>\n",
              "      <td>0</td>\n",
              "      <td>0</td>\n",
              "      <td>46</td>\n",
              "      <td>6</td>\n",
              "      <td>419</td>\n",
              "      <td>419</td>\n",
              "      <td>472</td>\n",
              "      <td>471</td>\n",
              "      <td>0.887712</td>\n",
              "      <td>0.889597</td>\n",
              "    </tr>\n",
              "  </tbody>\n",
              "</table>\n",
              "</div>"
            ],
            "text/plain": [
              "          pred_1  pred_2  pred_3  ...  actual_total  precision    recall\n",
              "actual_1     537       0       0  ...           537   1.000000  1.000000\n",
              "actual_2       0     425      66  ...           491   0.855131  0.865580\n",
              "actual_3       0      72     460  ...           532   0.874525  0.864662\n",
              "actual_4       0       0       0  ...           496   0.831034  0.971774\n",
              "actual_5       0       0       0  ...           420   0.946269  0.754762\n",
              "actual_6       0       0       0  ...           471   0.887712  0.889597\n",
              "\n",
              "[6 rows x 11 columns]"
            ]
          },
          "metadata": {
            "tags": []
          },
          "execution_count": 32
        }
      ]
    },
    {
      "cell_type": "code",
      "metadata": {
        "id": "-IiFdacVEG8v",
        "outputId": "8fe4947d-57a7-420b-dad1-6e3017c1f003",
        "colab": {
          "base_uri": "https://localhost:8080/",
          "height": 643
        }
      },
      "source": [
        "retrn_heatmap_precision_recall_matrix(df_con_matrix_RF_clf)"
      ],
      "execution_count": null,
      "outputs": [
        {
          "output_type": "stream",
          "text": [
            "PRECISION MATRIX :\n",
            "\n"
          ],
          "name": "stdout"
        },
        {
          "output_type": "display_data",
          "data": {
            "image/png": "[encoded data removed]",
            "text/plain": [
              "<Figure size 1224x288 with 2 Axes>"
            ]
          },
          "metadata": {
            "tags": []
          }
        },
        {
          "output_type": "stream",
          "text": [
            "RECALL MATRIX :\n",
            "\n"
          ],
          "name": "stdout"
        },
        {
          "output_type": "display_data",
          "data": {
            "image/png": "[encoded data removed]",
            "text/plain": [
              "<Figure size 1224x288 with 2 Axes>"
            ]
          },
          "metadata": {
            "tags": []
          }
        }
      ]
    },
    {
      "cell_type": "markdown",
      "metadata": {
        "id": "G8JUiJYtKew8"
      },
      "source": [
        "***"
      ]
    },
    {
      "cell_type": "code",
      "metadata": {
        "id": "etBwuq56JDWz"
      },
      "source": [],
      "execution_count": null,
      "outputs": []
    },
    {
      "cell_type": "markdown",
      "metadata": {
        "id": "Uy8GmVyDBZRc"
      },
      "source": [
        "# 5.  GRADIENT BOOSTED DECISION TREES:"
      ]
    },
    {
      "cell_type": "code",
      "metadata": {
        "id": "gha7JAqSJSqu"
      },
      "source": [
        "pipe = Pipeline([('GBDT', GradientBoostingClassifier())])\n",
        "\n",
        "param_grid1 = {'GBDT__n_estimators'      : np.arange(50, 90, 10),\n",
        "               'GBDT__max_depth'         : np.arange(5, 8, 1)}\n",
        "\n",
        "grid_GBDT = GridSearchCV(pipe, param_grid1, cv = 3, return_train_score=True, n_jobs = -1)"
      ],
      "execution_count": null,
      "outputs": []
    },
    {
      "cell_type": "code",
      "metadata": {
        "id": "17QCboDNJSni",
        "outputId": "800f2bb3-8046-4160-ce34-eb3a90eea138",
        "colab": {
          "base_uri": "https://localhost:8080/",
          "height": 593
        }
      },
      "source": [
        "data = X_train\n",
        "labels = y_train\n",
        "\n",
        "%time grid_GBDT.fit(data, labels)"
      ],
      "execution_count": null,
      "outputs": [
        {
          "output_type": "stream",
          "text": [
            "CPU times: user 4min 24s, sys: 145 ms, total: 4min 24s\n",
            "Wall time: 1h 24min 46s\n"
          ],
          "name": "stdout"
        },
        {
          "output_type": "execute_result",
          "data": {
            "text/plain": [
              "GridSearchCV(cv=3, error_score='raise-deprecating',\n",
              "             estimator=Pipeline(memory=None,\n",
              "                                steps=[('GBDT',\n",
              "                                        GradientBoostingClassifier(criterion='friedman_mse',\n",
              "                                                                   init=None,\n",
              "                                                                   learning_rate=0.1,\n",
              "                                                                   loss='deviance',\n",
              "                                                                   max_depth=3,\n",
              "                                                                   max_features=None,\n",
              "                                                                   max_leaf_nodes=None,\n",
              "                                                                   min_impurity_decrease=0.0,\n",
              "                                                                   min_impurity_split=None,\n",
              "                                                                   min_samples_leaf=1,\n",
              "                                                                   min_samples_split=2,\n",
              "                                                                   min_weight_fraction...\n",
              "                                                                   n_estimators=100,\n",
              "                                                                   n_iter_no_change=None,\n",
              "                                                                   presort='auto',\n",
              "                                                                   random_state=None,\n",
              "                                                                   subsample=1.0,\n",
              "                                                                   tol=0.0001,\n",
              "                                                                   validation_fraction=0.1,\n",
              "                                                                   verbose=0,\n",
              "                                                                   warm_start=False))],\n",
              "                                verbose=False),\n",
              "             iid='warn', n_jobs=-1,\n",
              "             param_grid={'GBDT__max_depth': array([5, 6, 7]),\n",
              "                         'GBDT__n_estimators': array([50, 60, 70, 80])},\n",
              "             pre_dispatch='2*n_jobs', refit=True, return_train_score=True,\n",
              "             scoring=None, verbose=0)"
            ]
          },
          "metadata": {
            "tags": []
          },
          "execution_count": 47
        }
      ]
    },
    {
      "cell_type": "code",
      "metadata": {
        "id": "0hRnI0A0J-mK",
        "outputId": "a2f7810b-a38b-4840-ef8f-e140da4c9ea7",
        "colab": {
          "base_uri": "https://localhost:8080/",
          "height": 421
        }
      },
      "source": [
        "grid = grid_GBDT\n",
        "df_cv_scores_GBDT = retrn_cv_report(grid)\n",
        "df_cv_scores_GBDT"
      ],
      "execution_count": null,
      "outputs": [
        {
          "output_type": "execute_result",
          "data": {
            "text/html": [
              "<div>\n",
              "<style scoped>\n",
              "    .dataframe tbody tr th:only-of-type {\n",
              "        vertical-align: middle;\n",
              "    }\n",
              "\n",
              "    .dataframe tbody tr th {\n",
              "        vertical-align: top;\n",
              "    }\n",
              "\n",
              "    .dataframe thead th {\n",
              "        text-align: right;\n",
              "    }\n",
              "</style>\n",
              "<table border=\"1\" class=\"dataframe\">\n",
              "  <thead>\n",
              "    <tr style=\"text-align: right;\">\n",
              "      <th></th>\n",
              "      <th>mean_train_score</th>\n",
              "      <th>mean_test_score</th>\n",
              "      <th>diff_train_test</th>\n",
              "      <th>std_dev_train</th>\n",
              "      <th>std_dev_test</th>\n",
              "      <th>params</th>\n",
              "    </tr>\n",
              "  </thead>\n",
              "  <tbody>\n",
              "    <tr>\n",
              "      <th>0</th>\n",
              "      <td>100.0</td>\n",
              "      <td>89.662677</td>\n",
              "      <td>10.337323</td>\n",
              "      <td>0.0</td>\n",
              "      <td>2.786430</td>\n",
              "      <td>{'GBDT__max_depth': 5, 'GBDT__n_estimators': 50}</td>\n",
              "    </tr>\n",
              "    <tr>\n",
              "      <th>1</th>\n",
              "      <td>100.0</td>\n",
              "      <td>90.070729</td>\n",
              "      <td>9.929271</td>\n",
              "      <td>0.0</td>\n",
              "      <td>2.409967</td>\n",
              "      <td>{'GBDT__max_depth': 5, 'GBDT__n_estimators': 60}</td>\n",
              "    </tr>\n",
              "    <tr>\n",
              "      <th>2</th>\n",
              "      <td>100.0</td>\n",
              "      <td>90.274755</td>\n",
              "      <td>9.725245</td>\n",
              "      <td>0.0</td>\n",
              "      <td>2.129902</td>\n",
              "      <td>{'GBDT__max_depth': 5, 'GBDT__n_estimators': 70}</td>\n",
              "    </tr>\n",
              "    <tr>\n",
              "      <th>3</th>\n",
              "      <td>100.0</td>\n",
              "      <td>90.070729</td>\n",
              "      <td>9.929271</td>\n",
              "      <td>0.0</td>\n",
              "      <td>2.208837</td>\n",
              "      <td>{'GBDT__max_depth': 5, 'GBDT__n_estimators': 80}</td>\n",
              "    </tr>\n",
              "    <tr>\n",
              "      <th>4</th>\n",
              "      <td>100.0</td>\n",
              "      <td>89.241023</td>\n",
              "      <td>10.758977</td>\n",
              "      <td>0.0</td>\n",
              "      <td>2.864980</td>\n",
              "      <td>{'GBDT__max_depth': 6, 'GBDT__n_estimators': 50}</td>\n",
              "    </tr>\n",
              "    <tr>\n",
              "      <th>5</th>\n",
              "      <td>100.0</td>\n",
              "      <td>89.703482</td>\n",
              "      <td>10.296518</td>\n",
              "      <td>0.0</td>\n",
              "      <td>2.989288</td>\n",
              "      <td>{'GBDT__max_depth': 6, 'GBDT__n_estimators': 60}</td>\n",
              "    </tr>\n",
              "    <tr>\n",
              "      <th>6</th>\n",
              "      <td>100.0</td>\n",
              "      <td>89.309032</td>\n",
              "      <td>10.690968</td>\n",
              "      <td>0.0</td>\n",
              "      <td>3.053964</td>\n",
              "      <td>{'GBDT__max_depth': 6, 'GBDT__n_estimators': 70}</td>\n",
              "    </tr>\n",
              "    <tr>\n",
              "      <th>7</th>\n",
              "      <td>100.0</td>\n",
              "      <td>89.309032</td>\n",
              "      <td>10.690968</td>\n",
              "      <td>0.0</td>\n",
              "      <td>3.342461</td>\n",
              "      <td>{'GBDT__max_depth': 6, 'GBDT__n_estimators': 80}</td>\n",
              "    </tr>\n",
              "    <tr>\n",
              "      <th>8</th>\n",
              "      <td>100.0</td>\n",
              "      <td>87.785637</td>\n",
              "      <td>12.214363</td>\n",
              "      <td>0.0</td>\n",
              "      <td>2.586119</td>\n",
              "      <td>{'GBDT__max_depth': 7, 'GBDT__n_estimators': 50}</td>\n",
              "    </tr>\n",
              "    <tr>\n",
              "      <th>9</th>\n",
              "      <td>100.0</td>\n",
              "      <td>88.084875</td>\n",
              "      <td>11.915125</td>\n",
              "      <td>0.0</td>\n",
              "      <td>2.362237</td>\n",
              "      <td>{'GBDT__max_depth': 7, 'GBDT__n_estimators': 60}</td>\n",
              "    </tr>\n",
              "    <tr>\n",
              "      <th>10</th>\n",
              "      <td>100.0</td>\n",
              "      <td>87.880849</td>\n",
              "      <td>12.119151</td>\n",
              "      <td>0.0</td>\n",
              "      <td>2.448757</td>\n",
              "      <td>{'GBDT__max_depth': 7, 'GBDT__n_estimators': 70}</td>\n",
              "    </tr>\n",
              "    <tr>\n",
              "      <th>11</th>\n",
              "      <td>100.0</td>\n",
              "      <td>87.935256</td>\n",
              "      <td>12.064744</td>\n",
              "      <td>0.0</td>\n",
              "      <td>2.168717</td>\n",
              "      <td>{'GBDT__max_depth': 7, 'GBDT__n_estimators': 80}</td>\n",
              "    </tr>\n",
              "  </tbody>\n",
              "</table>\n",
              "</div>"
            ],
            "text/plain": [
              "    mean_train_score  ...                                            params\n",
              "0              100.0  ...  {'GBDT__max_depth': 5, 'GBDT__n_estimators': 50}\n",
              "1              100.0  ...  {'GBDT__max_depth': 5, 'GBDT__n_estimators': 60}\n",
              "2              100.0  ...  {'GBDT__max_depth': 5, 'GBDT__n_estimators': 70}\n",
              "3              100.0  ...  {'GBDT__max_depth': 5, 'GBDT__n_estimators': 80}\n",
              "4              100.0  ...  {'GBDT__max_depth': 6, 'GBDT__n_estimators': 50}\n",
              "5              100.0  ...  {'GBDT__max_depth': 6, 'GBDT__n_estimators': 60}\n",
              "6              100.0  ...  {'GBDT__max_depth': 6, 'GBDT__n_estimators': 70}\n",
              "7              100.0  ...  {'GBDT__max_depth': 6, 'GBDT__n_estimators': 80}\n",
              "8              100.0  ...  {'GBDT__max_depth': 7, 'GBDT__n_estimators': 50}\n",
              "9              100.0  ...  {'GBDT__max_depth': 7, 'GBDT__n_estimators': 60}\n",
              "10             100.0  ...  {'GBDT__max_depth': 7, 'GBDT__n_estimators': 70}\n",
              "11             100.0  ...  {'GBDT__max_depth': 7, 'GBDT__n_estimators': 80}\n",
              "\n",
              "[12 rows x 6 columns]"
            ]
          },
          "metadata": {
            "tags": []
          },
          "execution_count": 48
        }
      ]
    },
    {
      "cell_type": "code",
      "metadata": {
        "id": "G4TTbdL7N5qq",
        "outputId": "5c4d540a-d526-465d-8f13-9a7e9b3e0fd8",
        "colab": {
          "base_uri": "https://localhost:8080/",
          "height": 35
        }
      },
      "source": [
        "best_clf = df_cv_scores_GBDT.loc[2]['params']\n",
        "best_clf"
      ],
      "execution_count": null,
      "outputs": [
        {
          "output_type": "execute_result",
          "data": {
            "text/plain": [
              "{'GBDT__max_depth': 5, 'GBDT__n_estimators': 70}"
            ]
          },
          "metadata": {
            "tags": []
          },
          "execution_count": 52
        }
      ]
    },
    {
      "cell_type": "code",
      "metadata": {
        "id": "eFlVFS3QOJG5",
        "outputId": "25ac55c3-d275-4829-a092-a48823e3e501",
        "colab": {
          "base_uri": "https://localhost:8080/",
          "height": 197
        }
      },
      "source": [
        "GBDT_clf = GradientBoostingClassifier(max_depth = 5, n_estimators = 70)\n",
        "GBDT_clf.fit(X_train, y_train)"
      ],
      "execution_count": null,
      "outputs": [
        {
          "output_type": "execute_result",
          "data": {
            "text/plain": [
              "GradientBoostingClassifier(criterion='friedman_mse', init=None,\n",
              "                           learning_rate=0.1, loss='deviance', max_depth=5,\n",
              "                           max_features=None, max_leaf_nodes=None,\n",
              "                           min_impurity_decrease=0.0, min_impurity_split=None,\n",
              "                           min_samples_leaf=1, min_samples_split=2,\n",
              "                           min_weight_fraction_leaf=0.0, n_estimators=70,\n",
              "                           n_iter_no_change=None, presort='auto',\n",
              "                           random_state=None, subsample=1.0, tol=0.0001,\n",
              "                           validation_fraction=0.1, verbose=0,\n",
              "                           warm_start=False)"
            ]
          },
          "metadata": {
            "tags": []
          },
          "execution_count": 53
        }
      ]
    },
    {
      "cell_type": "code",
      "metadata": {
        "id": "iTiHOXeFJ-jL",
        "outputId": "0fed86b6-39d4-4896-9fcb-d0d960313437",
        "colab": {
          "base_uri": "https://localhost:8080/",
          "height": 235
        }
      },
      "source": [
        "y_pred_test = GBDT_clf.predict(X_test)\n",
        "\n",
        "df_con_matrix_GBDT_clf = retrn_confusion_matrix(y_test, y_pred_test)\n",
        "df_con_matrix_GBDT_clf"
      ],
      "execution_count": null,
      "outputs": [
        {
          "output_type": "execute_result",
          "data": {
            "text/html": [
              "<div>\n",
              "<style scoped>\n",
              "    .dataframe tbody tr th:only-of-type {\n",
              "        vertical-align: middle;\n",
              "    }\n",
              "\n",
              "    .dataframe tbody tr th {\n",
              "        vertical-align: top;\n",
              "    }\n",
              "\n",
              "    .dataframe thead th {\n",
              "        text-align: right;\n",
              "    }\n",
              "</style>\n",
              "<table border=\"1\" class=\"dataframe\">\n",
              "  <thead>\n",
              "    <tr style=\"text-align: right;\">\n",
              "      <th></th>\n",
              "      <th>pred_1</th>\n",
              "      <th>pred_2</th>\n",
              "      <th>pred_3</th>\n",
              "      <th>pred_4</th>\n",
              "      <th>pred_5</th>\n",
              "      <th>pred_6</th>\n",
              "      <th>correct_preds</th>\n",
              "      <th>pred_total</th>\n",
              "      <th>actual_total</th>\n",
              "      <th>precision</th>\n",
              "      <th>recall</th>\n",
              "    </tr>\n",
              "  </thead>\n",
              "  <tbody>\n",
              "    <tr>\n",
              "      <th>actual_1</th>\n",
              "      <td>537</td>\n",
              "      <td>0</td>\n",
              "      <td>0</td>\n",
              "      <td>0</td>\n",
              "      <td>0</td>\n",
              "      <td>0</td>\n",
              "      <td>537</td>\n",
              "      <td>537</td>\n",
              "      <td>537</td>\n",
              "      <td>1.000000</td>\n",
              "      <td>1.000000</td>\n",
              "    </tr>\n",
              "    <tr>\n",
              "      <th>actual_2</th>\n",
              "      <td>0</td>\n",
              "      <td>393</td>\n",
              "      <td>97</td>\n",
              "      <td>0</td>\n",
              "      <td>0</td>\n",
              "      <td>1</td>\n",
              "      <td>393</td>\n",
              "      <td>431</td>\n",
              "      <td>491</td>\n",
              "      <td>0.911833</td>\n",
              "      <td>0.800407</td>\n",
              "    </tr>\n",
              "    <tr>\n",
              "      <th>actual_3</th>\n",
              "      <td>0</td>\n",
              "      <td>36</td>\n",
              "      <td>496</td>\n",
              "      <td>0</td>\n",
              "      <td>0</td>\n",
              "      <td>0</td>\n",
              "      <td>496</td>\n",
              "      <td>599</td>\n",
              "      <td>532</td>\n",
              "      <td>0.828047</td>\n",
              "      <td>0.932331</td>\n",
              "    </tr>\n",
              "    <tr>\n",
              "      <th>actual_4</th>\n",
              "      <td>0</td>\n",
              "      <td>0</td>\n",
              "      <td>0</td>\n",
              "      <td>483</td>\n",
              "      <td>8</td>\n",
              "      <td>5</td>\n",
              "      <td>483</td>\n",
              "      <td>515</td>\n",
              "      <td>496</td>\n",
              "      <td>0.937864</td>\n",
              "      <td>0.973790</td>\n",
              "    </tr>\n",
              "    <tr>\n",
              "      <th>actual_5</th>\n",
              "      <td>0</td>\n",
              "      <td>0</td>\n",
              "      <td>6</td>\n",
              "      <td>8</td>\n",
              "      <td>370</td>\n",
              "      <td>36</td>\n",
              "      <td>370</td>\n",
              "      <td>383</td>\n",
              "      <td>420</td>\n",
              "      <td>0.966057</td>\n",
              "      <td>0.880952</td>\n",
              "    </tr>\n",
              "    <tr>\n",
              "      <th>actual_6</th>\n",
              "      <td>0</td>\n",
              "      <td>2</td>\n",
              "      <td>0</td>\n",
              "      <td>24</td>\n",
              "      <td>5</td>\n",
              "      <td>440</td>\n",
              "      <td>440</td>\n",
              "      <td>482</td>\n",
              "      <td>471</td>\n",
              "      <td>0.912863</td>\n",
              "      <td>0.934183</td>\n",
              "    </tr>\n",
              "  </tbody>\n",
              "</table>\n",
              "</div>"
            ],
            "text/plain": [
              "          pred_1  pred_2  pred_3  ...  actual_total  precision    recall\n",
              "actual_1     537       0       0  ...           537   1.000000  1.000000\n",
              "actual_2       0     393      97  ...           491   0.911833  0.800407\n",
              "actual_3       0      36     496  ...           532   0.828047  0.932331\n",
              "actual_4       0       0       0  ...           496   0.937864  0.973790\n",
              "actual_5       0       0       6  ...           420   0.966057  0.880952\n",
              "actual_6       0       2       0  ...           471   0.912863  0.934183\n",
              "\n",
              "[6 rows x 11 columns]"
            ]
          },
          "metadata": {
            "tags": []
          },
          "execution_count": 54
        }
      ]
    },
    {
      "cell_type": "code",
      "metadata": {
        "id": "2ixeErpiJ-PH",
        "outputId": "58319995-7fb4-4724-8132-0281a8a3681b",
        "colab": {
          "base_uri": "https://localhost:8080/",
          "height": 643
        }
      },
      "source": [
        "retrn_heatmap_precision_recall_matrix(df_con_matrix_GBDT_clf)"
      ],
      "execution_count": null,
      "outputs": [
        {
          "output_type": "stream",
          "text": [
            "PRECISION MATRIX :\n",
            "\n"
          ],
          "name": "stdout"
        },
        {
          "output_type": "display_data",
          "data": {
            "image/png": "[encoded data removed]",
            "text/plain": [
              "<Figure size 1224x288 with 2 Axes>"
            ]
          },
          "metadata": {
            "tags": []
          }
        },
        {
          "output_type": "stream",
          "text": [
            "RECALL MATRIX :\n",
            "\n"
          ],
          "name": "stdout"
        },
        {
          "output_type": "display_data",
          "data": {
            "image/png": "[encoded data removed]",
            "text/plain": [
              "<Figure size 1224x288 with 2 Axes>"
            ]
          },
          "metadata": {
            "tags": []
          }
        }
      ]
    },
    {
      "cell_type": "markdown",
      "metadata": {
        "id": "anR9zHptQabW"
      },
      "source": [
        "***"
      ]
    },
    {
      "cell_type": "code",
      "metadata": {
        "id": "p_TfwATRJ-MB"
      },
      "source": [],
      "execution_count": null,
      "outputs": []
    },
    {
      "cell_type": "markdown",
      "metadata": {
        "id": "WbbE3UboQeSQ"
      },
      "source": [
        "## PERFORMANCE COMPARISON:"
      ]
    },
    {
      "cell_type": "code",
      "metadata": {
        "id": "cIReB5gDJ-Ii",
        "outputId": "e8e8b5c0-fa7d-4d1a-8271-b373b5af03b7",
        "colab": {
          "base_uri": "https://localhost:8080/",
          "height": 204
        }
      },
      "source": [
        "models = 'Log_Reg Lin_SVM RBF_SVM Rand_Forest GBDT'.split()\n",
        "Test_accuracy = [94.355277, 94.246464, 94.368879, 91.281284, 90.274755]\n",
        "df_compare = pd.DataFrame().assign(Models = models, Test_accuracy = Test_accuracy)\n",
        "df_compare"
      ],
      "execution_count": null,
      "outputs": [
        {
          "output_type": "execute_result",
          "data": {
            "text/html": [
              "<div>\n",
              "<style scoped>\n",
              "    .dataframe tbody tr th:only-of-type {\n",
              "        vertical-align: middle;\n",
              "    }\n",
              "\n",
              "    .dataframe tbody tr th {\n",
              "        vertical-align: top;\n",
              "    }\n",
              "\n",
              "    .dataframe thead th {\n",
              "        text-align: right;\n",
              "    }\n",
              "</style>\n",
              "<table border=\"1\" class=\"dataframe\">\n",
              "  <thead>\n",
              "    <tr style=\"text-align: right;\">\n",
              "      <th></th>\n",
              "      <th>Models</th>\n",
              "      <th>Test_accuracy</th>\n",
              "    </tr>\n",
              "  </thead>\n",
              "  <tbody>\n",
              "    <tr>\n",
              "      <th>0</th>\n",
              "      <td>Log_Reg</td>\n",
              "      <td>94.355277</td>\n",
              "    </tr>\n",
              "    <tr>\n",
              "      <th>1</th>\n",
              "      <td>Lin_SVM</td>\n",
              "      <td>94.246464</td>\n",
              "    </tr>\n",
              "    <tr>\n",
              "      <th>2</th>\n",
              "      <td>RBF_SVM</td>\n",
              "      <td>94.368879</td>\n",
              "    </tr>\n",
              "    <tr>\n",
              "      <th>3</th>\n",
              "      <td>Rand_Forest</td>\n",
              "      <td>91.281284</td>\n",
              "    </tr>\n",
              "    <tr>\n",
              "      <th>4</th>\n",
              "      <td>GBDT</td>\n",
              "      <td>90.274755</td>\n",
              "    </tr>\n",
              "  </tbody>\n",
              "</table>\n",
              "</div>"
            ],
            "text/plain": [
              "        Models  Test_accuracy\n",
              "0      Log_Reg      94.355277\n",
              "1      Lin_SVM      94.246464\n",
              "2      RBF_SVM      94.368879\n",
              "3  Rand_Forest      91.281284\n",
              "4         GBDT      90.274755"
            ]
          },
          "metadata": {
            "tags": []
          },
          "execution_count": 61
        }
      ]
    },
    {
      "cell_type": "code",
      "metadata": {
        "id": "3wlcP98WJ-Fb"
      },
      "source": [],
      "execution_count": null,
      "outputs": []
    },
    {
      "cell_type": "markdown",
      "metadata": {
        "id": "V-v3WT9NvVXw"
      },
      "source": [
        "## >> RBF_SVM GIVES BEST PERFORMANCE"
      ]
    },
    {
      "cell_type": "markdown",
      "metadata": {
        "id": "TgodObJfRB5E"
      },
      "source": [
        "***"
      ]
    },
    {
      "cell_type": "code",
      "metadata": {
        "id": "LLQhWDXXRGsd"
      },
      "source": [],
      "execution_count": null,
      "outputs": []
    },
    {
      "cell_type": "code",
      "metadata": {
        "id": "UGK3T9puRGpT"
      },
      "source": [],
      "execution_count": null,
      "outputs": []
    }
  ]
}