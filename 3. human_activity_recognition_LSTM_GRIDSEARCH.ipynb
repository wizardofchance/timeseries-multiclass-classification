{
  "nbformat": 4,
  "nbformat_minor": 0,
  "metadata": {
    "colab": {
      "provenance": []
    },
    "kernelspec": {
      "name": "python3",
      "display_name": "Python 3"
    },
    "accelerator": "GPU"
  },
  "cells": [
    {
      "cell_type": "code",
      "metadata": {
        "id": "TeEBuhX-tRQp"
      },
      "source": [
        "!pip install tensorflow-gpu==2.0.0-alpha0"
      ],
      "execution_count": null,
      "outputs": []
    },
    {
      "cell_type": "code",
      "metadata": {
        "id": "dfLjncPItb5R"
      },
      "source": [
        "import numpy as np\n",
        "import pandas as pd\n",
        "import scipy\n",
        "import os\n",
        "\n",
        "from progressbar import ProgressBar\n",
        "\n",
        "from sklearn.preprocessing import Normalizer\n",
        "\n",
        "import matplotlib.pyplot as plt\n",
        "import seaborn as sns\n",
        "sns.set_style('whitegrid')\n",
        "\n",
        "import tensorflow as tf\n",
        "from tensorflow import keras\n",
        "\n",
        "from sklearn.preprocessing import MinMaxScaler, Normalizer, StandardScaler"
      ],
      "execution_count": null,
      "outputs": []
    },
    {
      "cell_type": "code",
      "metadata": {
        "id": "32COlcSvtb8F",
        "outputId": "42e7330d-a293-45f2-9d76-8ab77e273fad",
        "colab": {
          "base_uri": "https://localhost:8080/",
          "height": 35
        }
      },
      "source": [
        "tf.__version__"
      ],
      "execution_count": null,
      "outputs": [
        {
          "output_type": "execute_result",
          "data": {
            "text/plain": [
              "'2.0.0-alpha0'"
            ]
          },
          "metadata": {
            "tags": []
          },
          "execution_count": 23
        }
      ]
    },
    {
      "cell_type": "code",
      "metadata": {
        "id": "pyL1daZ9tb-9",
        "outputId": "73fdd036-79a6-4742-87f7-2efd43bbb887",
        "colab": {
          "base_uri": "https://localhost:8080/",
          "height": 35
        }
      },
      "source": [
        "from google.colab import drive\n",
        "drive.mount('/content/gdrive', force_remount=False)"
      ],
      "execution_count": null,
      "outputs": [
        {
          "output_type": "stream",
          "text": [
            "Drive already mounted at /content/gdrive; to attempt to forcibly remount, call drive.mount(\"/content/gdrive\", force_remount=True).\n"
          ],
          "name": "stdout"
        }
      ]
    },
    {
      "cell_type": "code",
      "metadata": {
        "id": "aH0TOCrfbhDI"
      },
      "source": [],
      "execution_count": null,
      "outputs": []
    },
    {
      "cell_type": "markdown",
      "metadata": {
        "id": "FZGCffZubikp"
      },
      "source": [
        "# DATA:"
      ]
    },
    {
      "cell_type": "code",
      "metadata": {
        "id": "bnybv4TutcB1"
      },
      "source": [
        "X_train_path = 'gdrive/My Drive/2_AAI/7_CASE_STUDIES_AAI/HUMAN_ACTIVITY_RECOGNIZE/data/UCI_HAR_Dataset/train/inertial_signals/'\n",
        "X_test_path  = 'gdrive/My Drive/2_AAI/7_CASE_STUDIES_AAI/HUMAN_ACTIVITY_RECOGNIZE/data/UCI_HAR_Dataset/test/inertial_signals/'\n",
        "y_train_path = 'gdrive/My Drive/2_AAI/7_CASE_STUDIES_AAI/HUMAN_ACTIVITY_RECOGNIZE/data/UCI_HAR_Dataset/train/y_train.txt'\n",
        "y_test_path  = 'gdrive/My Drive/2_AAI/7_CASE_STUDIES_AAI/HUMAN_ACTIVITY_RECOGNIZE/data/UCI_HAR_Dataset/test/y_test.txt'"
      ],
      "execution_count": null,
      "outputs": []
    },
    {
      "cell_type": "code",
      "metadata": {
        "id": "PclRlBsF384b"
      },
      "source": [
        "def get_all_file_paths(directory):\n",
        "\n",
        "    # initializing empty file paths list\n",
        "    file_paths = []\n",
        "\n",
        "    # crawling through directory and subdirectories\n",
        "    for root, directories, files in os.walk(directory):\n",
        "        for filename in files:\n",
        "            # join the two strings in order to form the full filepath.\n",
        "            filepath = os.path.join(root, filename).replace(\"\\\\\",'/')\n",
        "            file_paths.append(filepath)\n",
        "\n",
        "    # returning all file paths\n",
        "    return file_paths"
      ],
      "execution_count": null,
      "outputs": []
    },
    {
      "cell_type": "code",
      "metadata": {
        "id": "KeZMYUnK7s7W",
        "outputId": "5cb10567-9b90-47a2-8bd1-26c5b39f9804",
        "colab": {
          "base_uri": "https://localhost:8080/",
          "height": 179
        }
      },
      "source": [
        "all_train_paths = get_all_file_paths(X_train_path)\n",
        "all_train_paths"
      ],
      "execution_count": null,
      "outputs": [
        {
          "output_type": "execute_result",
          "data": {
            "text/plain": [
              "['gdrive/My Drive/2_AAI/7_CASE_STUDIES_AAI/HUMAN_ACTIVITY_RECOGNIZE/data/UCI_HAR_Dataset/train/inertial_signals/body_acc_x_train.txt',\n",
              " 'gdrive/My Drive/2_AAI/7_CASE_STUDIES_AAI/HUMAN_ACTIVITY_RECOGNIZE/data/UCI_HAR_Dataset/train/inertial_signals/body_acc_y_train.txt',\n",
              " 'gdrive/My Drive/2_AAI/7_CASE_STUDIES_AAI/HUMAN_ACTIVITY_RECOGNIZE/data/UCI_HAR_Dataset/train/inertial_signals/body_acc_z_train.txt',\n",
              " 'gdrive/My Drive/2_AAI/7_CASE_STUDIES_AAI/HUMAN_ACTIVITY_RECOGNIZE/data/UCI_HAR_Dataset/train/inertial_signals/body_gyro_x_train.txt',\n",
              " 'gdrive/My Drive/2_AAI/7_CASE_STUDIES_AAI/HUMAN_ACTIVITY_RECOGNIZE/data/UCI_HAR_Dataset/train/inertial_signals/body_gyro_y_train.txt',\n",
              " 'gdrive/My Drive/2_AAI/7_CASE_STUDIES_AAI/HUMAN_ACTIVITY_RECOGNIZE/data/UCI_HAR_Dataset/train/inertial_signals/body_gyro_z_train.txt',\n",
              " 'gdrive/My Drive/2_AAI/7_CASE_STUDIES_AAI/HUMAN_ACTIVITY_RECOGNIZE/data/UCI_HAR_Dataset/train/inertial_signals/total_acc_x_train.txt',\n",
              " 'gdrive/My Drive/2_AAI/7_CASE_STUDIES_AAI/HUMAN_ACTIVITY_RECOGNIZE/data/UCI_HAR_Dataset/train/inertial_signals/total_acc_y_train.txt',\n",
              " 'gdrive/My Drive/2_AAI/7_CASE_STUDIES_AAI/HUMAN_ACTIVITY_RECOGNIZE/data/UCI_HAR_Dataset/train/inertial_signals/total_acc_z_train.txt']"
            ]
          },
          "metadata": {
            "tags": []
          },
          "execution_count": 27
        }
      ]
    },
    {
      "cell_type": "code",
      "metadata": {
        "id": "sjBcRUi9Cf-U",
        "outputId": "c0eba8a8-149f-4eec-f295-b0755d67a38b",
        "colab": {
          "base_uri": "https://localhost:8080/",
          "height": 179
        }
      },
      "source": [
        "all_test_paths = get_all_file_paths(X_test_path)\n",
        "all_test_paths"
      ],
      "execution_count": null,
      "outputs": [
        {
          "output_type": "execute_result",
          "data": {
            "text/plain": [
              "['gdrive/My Drive/2_AAI/7_CASE_STUDIES_AAI/HUMAN_ACTIVITY_RECOGNIZE/data/UCI_HAR_Dataset/test/inertial_signals/body_acc_x_test.txt',\n",
              " 'gdrive/My Drive/2_AAI/7_CASE_STUDIES_AAI/HUMAN_ACTIVITY_RECOGNIZE/data/UCI_HAR_Dataset/test/inertial_signals/body_acc_y_test.txt',\n",
              " 'gdrive/My Drive/2_AAI/7_CASE_STUDIES_AAI/HUMAN_ACTIVITY_RECOGNIZE/data/UCI_HAR_Dataset/test/inertial_signals/body_acc_z_test.txt',\n",
              " 'gdrive/My Drive/2_AAI/7_CASE_STUDIES_AAI/HUMAN_ACTIVITY_RECOGNIZE/data/UCI_HAR_Dataset/test/inertial_signals/body_gyro_x_test.txt',\n",
              " 'gdrive/My Drive/2_AAI/7_CASE_STUDIES_AAI/HUMAN_ACTIVITY_RECOGNIZE/data/UCI_HAR_Dataset/test/inertial_signals/body_gyro_y_test.txt',\n",
              " 'gdrive/My Drive/2_AAI/7_CASE_STUDIES_AAI/HUMAN_ACTIVITY_RECOGNIZE/data/UCI_HAR_Dataset/test/inertial_signals/body_gyro_z_test.txt',\n",
              " 'gdrive/My Drive/2_AAI/7_CASE_STUDIES_AAI/HUMAN_ACTIVITY_RECOGNIZE/data/UCI_HAR_Dataset/test/inertial_signals/total_acc_x_test.txt',\n",
              " 'gdrive/My Drive/2_AAI/7_CASE_STUDIES_AAI/HUMAN_ACTIVITY_RECOGNIZE/data/UCI_HAR_Dataset/test/inertial_signals/total_acc_y_test.txt',\n",
              " 'gdrive/My Drive/2_AAI/7_CASE_STUDIES_AAI/HUMAN_ACTIVITY_RECOGNIZE/data/UCI_HAR_Dataset/test/inertial_signals/total_acc_z_test.txt']"
            ]
          },
          "metadata": {
            "tags": []
          },
          "execution_count": 28
        }
      ]
    },
    {
      "cell_type": "code",
      "metadata": {
        "id": "JFQLBjl49HGa"
      },
      "source": [
        "train_arry_1 = pd.read_csv(get_all_file_paths(X_train_path)[0], delim_whitespace=True, header=None).values\n",
        "train_arry_2 = pd.read_csv(get_all_file_paths(X_train_path)[1], delim_whitespace=True, header=None).values\n",
        "train_arry_3 = pd.read_csv(get_all_file_paths(X_train_path)[2], delim_whitespace=True, header=None).values\n",
        "train_arry_4 = pd.read_csv(get_all_file_paths(X_train_path)[3], delim_whitespace=True, header=None).values\n",
        "train_arry_5 = pd.read_csv(get_all_file_paths(X_train_path)[4], delim_whitespace=True, header=None).values\n",
        "train_arry_6 = pd.read_csv(get_all_file_paths(X_train_path)[5], delim_whitespace=True, header=None).values\n",
        "train_arry_7 = pd.read_csv(get_all_file_paths(X_train_path)[6], delim_whitespace=True, header=None).values\n",
        "train_arry_8 = pd.read_csv(get_all_file_paths(X_train_path)[7], delim_whitespace=True, header=None).values\n",
        "train_arry_9 = pd.read_csv(get_all_file_paths(X_train_path)[8], delim_whitespace=True, header=None).values\n",
        "\n",
        "test_arry_1  = pd.read_csv(get_all_file_paths(X_test_path)[0], delim_whitespace=True, header=None).values\n",
        "test_arry_2  = pd.read_csv(get_all_file_paths(X_test_path)[1], delim_whitespace=True, header=None).values\n",
        "test_arry_3  = pd.read_csv(get_all_file_paths(X_test_path)[2], delim_whitespace=True, header=None).values\n",
        "test_arry_4  = pd.read_csv(get_all_file_paths(X_test_path)[3], delim_whitespace=True, header=None).values\n",
        "test_arry_5  = pd.read_csv(get_all_file_paths(X_test_path)[4], delim_whitespace=True, header=None).values\n",
        "test_arry_6  = pd.read_csv(get_all_file_paths(X_test_path)[5], delim_whitespace=True, header=None).values\n",
        "test_arry_7  = pd.read_csv(get_all_file_paths(X_test_path)[6], delim_whitespace=True, header=None).values\n",
        "test_arry_8  = pd.read_csv(get_all_file_paths(X_test_path)[7], delim_whitespace=True, header=None).values\n",
        "test_arry_9  = pd.read_csv(get_all_file_paths(X_test_path)[8], delim_whitespace=True, header=None).values"
      ],
      "execution_count": null,
      "outputs": []
    },
    {
      "cell_type": "code",
      "metadata": {
        "id": "gQd7UUNeMhzM"
      },
      "source": [],
      "execution_count": null,
      "outputs": []
    },
    {
      "cell_type": "markdown",
      "metadata": {
        "id": "b9HbJJMXbnEj"
      },
      "source": [
        "### FN THAT SHAPES DATA FOR LSTM USE:"
      ]
    },
    {
      "cell_type": "code",
      "metadata": {
        "id": "eA8Ceqxj9HOp"
      },
      "source": [
        "def retrn_lstm_data(listO_arrys):\n",
        "\n",
        "    pbar = ProgressBar()\n",
        "\n",
        "    def retrn_row_arry(row_idx, listO_arrys):\n",
        "\n",
        "        listO_rows = []\n",
        "        for arry in listO_arrys:\n",
        "            row = arry[row_idx]\n",
        "            listO_rows.append(row)\n",
        "        row_arry = np.array(listO_rows).T\n",
        "\n",
        "        return row_arry\n",
        "\n",
        "    n_rows = listO_arrys[0].shape[0]\n",
        "    listO_row_arrys = []\n",
        "    for row_idx in pbar(range(n_rows)):\n",
        "\n",
        "        row_arry = retrn_row_arry(row_idx, listO_arrys)\n",
        "        listO_row_arrys.append(row_arry)\n",
        "\n",
        "    arryO_row_arrys = np.array(listO_row_arrys)\n",
        "\n",
        "    return arryO_row_arrys"
      ],
      "execution_count": null,
      "outputs": []
    },
    {
      "cell_type": "code",
      "metadata": {
        "id": "Oky5e7Dzlvrt"
      },
      "source": [],
      "execution_count": null,
      "outputs": []
    },
    {
      "cell_type": "code",
      "metadata": {
        "id": "Hk1Tuo8a388S"
      },
      "source": [
        "listO_train_arrys = [train_arry_1, train_arry_2, train_arry_3, train_arry_4, train_arry_5, train_arry_6, train_arry_7, train_arry_8, train_arry_9]\n",
        "listO_test_arrys  = [test_arry_1, test_arry_2, test_arry_3, test_arry_4, test_arry_5, test_arry_6, test_arry_7, test_arry_8, test_arry_9]"
      ],
      "execution_count": null,
      "outputs": []
    },
    {
      "cell_type": "markdown",
      "metadata": {
        "id": "QlgdMEHNb2TU"
      },
      "source": [
        "### X_TRAIN:"
      ]
    },
    {
      "cell_type": "code",
      "metadata": {
        "id": "zSRHyee-4mUr",
        "outputId": "4c907360-b3be-4d8b-fb6d-e7601b34f9fc",
        "colab": {
          "base_uri": "https://localhost:8080/",
          "height": 53
        }
      },
      "source": [
        "lstm_X_train = retrn_lstm_data(listO_train_arrys)\n",
        "lstm_X_train.shape"
      ],
      "execution_count": null,
      "outputs": [
        {
          "output_type": "stream",
          "text": [
            "100% (7352 of 7352) |####################| Elapsed Time: 0:00:00 Time:  0:00:00\n"
          ],
          "name": "stderr"
        },
        {
          "output_type": "execute_result",
          "data": {
            "text/plain": [
              "(7352, 128, 9)"
            ]
          },
          "metadata": {
            "tags": []
          },
          "execution_count": 32
        }
      ]
    },
    {
      "cell_type": "markdown",
      "metadata": {
        "id": "qMRboswlb82Q"
      },
      "source": [
        "### X_TEST:"
      ]
    },
    {
      "cell_type": "code",
      "metadata": {
        "id": "igBukiQR4mXR",
        "outputId": "9feb9761-22dc-4acd-d76f-4a859f294c47",
        "colab": {
          "base_uri": "https://localhost:8080/",
          "height": 53
        }
      },
      "source": [
        "lstm_X_test = retrn_lstm_data(listO_test_arrys)\n",
        "lstm_X_test.shape"
      ],
      "execution_count": null,
      "outputs": [
        {
          "output_type": "stream",
          "text": [
            "100% (2947 of 2947) |####################| Elapsed Time: 0:00:00 Time:  0:00:00\n"
          ],
          "name": "stderr"
        },
        {
          "output_type": "execute_result",
          "data": {
            "text/plain": [
              "(2947, 128, 9)"
            ]
          },
          "metadata": {
            "tags": []
          },
          "execution_count": 33
        }
      ]
    },
    {
      "cell_type": "markdown",
      "metadata": {
        "id": "XcxMyqUccAXI"
      },
      "source": [
        "### Y_TRAIN:"
      ]
    },
    {
      "cell_type": "code",
      "metadata": {
        "id": "b8GIZYN-39D6",
        "outputId": "0e379c2a-f150-499b-8e82-4af7157668f8",
        "colab": {
          "base_uri": "https://localhost:8080/",
          "height": 35
        }
      },
      "source": [
        "lstm_y_train = pd.read_csv(y_train_path, delim_whitespace=True, header=None).values\n",
        "lstm_y_train = pd.get_dummies(lstm_y_train.flatten()).values\n",
        "lstm_y_train.shape"
      ],
      "execution_count": null,
      "outputs": [
        {
          "output_type": "execute_result",
          "data": {
            "text/plain": [
              "(7352, 6)"
            ]
          },
          "metadata": {
            "tags": []
          },
          "execution_count": 34
        }
      ]
    },
    {
      "cell_type": "markdown",
      "metadata": {
        "id": "I5jCfSyucEGS"
      },
      "source": [
        "### Y_TEST:"
      ]
    },
    {
      "cell_type": "code",
      "metadata": {
        "id": "Ca2occb1HO2o",
        "outputId": "05cc9748-6671-4dd3-f397-1ebbe98b0ba7",
        "colab": {
          "base_uri": "https://localhost:8080/",
          "height": 35
        }
      },
      "source": [
        "lstm_y_test = pd.read_csv(y_test_path, delim_whitespace=True, header=None).values\n",
        "lstm_y_test = pd.get_dummies(lstm_y_test.flatten()).values\n",
        "lstm_y_test.shape"
      ],
      "execution_count": null,
      "outputs": [
        {
          "output_type": "execute_result",
          "data": {
            "text/plain": [
              "(2947, 6)"
            ]
          },
          "metadata": {
            "tags": []
          },
          "execution_count": 35
        }
      ]
    },
    {
      "cell_type": "code",
      "metadata": {
        "id": "R1GpoPEWRxOi",
        "outputId": "2590e337-408d-4d33-c3e1-d979c0a6a591",
        "colab": {
          "base_uri": "https://localhost:8080/",
          "height": 143
        }
      },
      "source": [
        "lstm_y_test"
      ],
      "execution_count": null,
      "outputs": [
        {
          "output_type": "execute_result",
          "data": {
            "text/plain": [
              "array([[0, 0, 0, 0, 1, 0],\n",
              "       [0, 0, 0, 0, 1, 0],\n",
              "       [0, 0, 0, 0, 1, 0],\n",
              "       ...,\n",
              "       [0, 1, 0, 0, 0, 0],\n",
              "       [0, 1, 0, 0, 0, 0],\n",
              "       [0, 1, 0, 0, 0, 0]], dtype=uint8)"
            ]
          },
          "metadata": {
            "tags": []
          },
          "execution_count": 36
        }
      ]
    },
    {
      "cell_type": "code",
      "metadata": {
        "id": "sWKdc8a9cHhR"
      },
      "source": [],
      "execution_count": null,
      "outputs": []
    },
    {
      "cell_type": "code",
      "metadata": {
        "id": "ZrDV68nIcHUA"
      },
      "source": [],
      "execution_count": null,
      "outputs": []
    },
    {
      "cell_type": "markdown",
      "metadata": {
        "id": "6ga3UTd7cNYs"
      },
      "source": [
        "### DATA GENERATOR:"
      ]
    },
    {
      "cell_type": "code",
      "metadata": {
        "id": "91Rxdg4BRxWL"
      },
      "source": [
        "def gen_batches(X, y, gen_constrain = False, n_EPOCHS = 2,\n",
        "                      batch_size = 32):\n",
        "\n",
        "    idxs = list(range(len(X)))\n",
        "\n",
        "    c = 0\n",
        "    while True:\n",
        "\n",
        "        arryO_random_idxs = np.random.choice(idxs, batch_size, replace=False) #--------------------- SAMPLE WITHOUT REPLACEMENT\n",
        "\n",
        "        X_batch = X[arryO_random_idxs]\n",
        "        y_batch = y[arryO_random_idxs]\n",
        "\n",
        "        yield X_batch, y_batch\n",
        "\n",
        "        if gen_constrain != False:\n",
        "            c += 1\n",
        "            if c >= n_EPOCHS:\n",
        "                break"
      ],
      "execution_count": null,
      "outputs": []
    },
    {
      "cell_type": "code",
      "metadata": {
        "id": "3-zFtqycRJUp"
      },
      "source": [],
      "execution_count": null,
      "outputs": []
    },
    {
      "cell_type": "code",
      "metadata": {
        "id": "RkSIsXU1RJQi"
      },
      "source": [],
      "execution_count": null,
      "outputs": []
    },
    {
      "cell_type": "markdown",
      "metadata": {
        "id": "rl2YlkNL46v7"
      },
      "source": [
        "### FN THAT TRAIN & TESTS LSTM MODELS:"
      ]
    },
    {
      "cell_type": "code",
      "metadata": {
        "id": "0F7wMMZm61t3"
      },
      "source": [
        "def fn_train_test_lstm(lstm_model, X_train, y_train, X_test, y_test, lr, batch_size, epochs, verbose = 1, model_save_path = None):\n",
        "\n",
        "    optimizer = keras.optimizers.RMSprop(lr=lr, rho=0.9, epsilon=None, decay=0.0)\n",
        "    lstm_model.compile(loss='categorical_crossentropy', optimizer=optimizer, metrics=['accuracy'])\n",
        "\n",
        "    # DATA GENERATOR SPECS:\n",
        "    train_data_generator = gen_batches(lstm_X_train, lstm_y_train, batch_size = batch_size)\n",
        "    val_data_generator   = gen_batches(lstm_X_test , lstm_y_test, batch_size = batch_size)\n",
        "\n",
        "    n_train_data_pts = len(lstm_X_train)\n",
        "    n_test_data_pts  = len(lstm_X_test)\n",
        "    steps_per_epoch  = n_train_data_pts//batch_size\n",
        "    validation_steps = n_test_data_pts//batch_size\n",
        "\n",
        "    # MODEL CALLBACKS:\n",
        "    if model_save_path != None:\n",
        "        save_wts   = keras.callbacks.ModelCheckpoint(filepath = model_save_path, monitor = 'val_accuracy', save_best_only = True, mode = 'max')\n",
        "    reduce_lr  = keras.callbacks.ReduceLROnPlateau(monitor = 'val_accuracy', factor = 0.1, patience = 5)\n",
        "    callbacks_list = [save_wts, reduce_lr] if model_save_path != None else [reduce_lr]\n",
        "\n",
        "    # FIT MODEL:\n",
        "    model_history = lstm_model.fit_generator(train_data_generator, validation_data = val_data_generator, verbose = verbose,\n",
        "                                             steps_per_epoch = steps_per_epoch, validation_steps = validation_steps,\n",
        "                                             epochs=epochs, callbacks = callbacks_list)\n",
        "\n",
        "\n",
        "    return model_history, lstm_model\n",
        ""
      ],
      "execution_count": null,
      "outputs": []
    },
    {
      "cell_type": "markdown",
      "metadata": {
        "id": "Q1IkPQRz5G2x"
      },
      "source": [
        "### FN THAT GRID  SEARCHS ACROSS WEIGHT INITIALIZERS:"
      ]
    },
    {
      "cell_type": "code",
      "metadata": {
        "id": "_jVjCmMjKEtx"
      },
      "source": [
        "def fn_grid_serach_lstms(fn_lstm_model, X_train, y_train, X_test, y_test, listO_kernel_initializers, lr, epochs, verbose = 0):\n",
        "\n",
        "    pbar = ProgressBar()\n",
        "\n",
        "    listO_performances = []\n",
        "    c = 0\n",
        "    BEST_val_acc = 0.80\n",
        "    best_lstm = None\n",
        "    for kernel_initializer in pbar(listO_kernel_initializers):\n",
        "\n",
        "        lstm_model = fn_lstm_model(kernel_initializer)\n",
        "        batch_size = 32\n",
        "        model_history, lstm_model = fn_train_test_lstm(lstm_model, X_train, y_train, X_test, y_test, lr, batch_size, epochs, verbose = verbose)\n",
        "\n",
        "        best_val_acc = max(model_history.history['val_accuracy'])\n",
        "        epoch_n_best_acc = model_history.history['val_accuracy'].index(best_val_acc)\n",
        "        corres_train_acc = model_history.history['accuracy'][epoch_n_best_acc]\n",
        "        best_train_acc = max(model_history.history['accuracy'])\n",
        "        performance = [kernel_initializer, best_val_acc, epoch_n_best_acc, corres_train_acc, best_train_acc]\n",
        "        listO_performances.append(performance)\n",
        "\n",
        "        if best_val_acc > BEST_val_acc:\n",
        "            best_lstm_model = lstm_model\n",
        "            BEST_val_acc = best_val_acc\n",
        "        c += 1\n",
        "\n",
        "    arryO_performances = np.array(listO_performances)\n",
        "    columns = ['kernel_initializer', 'best_val_acc', 'epoch_n', 'corres_train_acc', 'best_train_acc']\n",
        "    df_performance = pd.DataFrame(arryO_performances, columns = columns)\n",
        "\n",
        "    return df_performance"
      ],
      "execution_count": null,
      "outputs": []
    },
    {
      "cell_type": "code",
      "metadata": {
        "id": "t86mYSZ4VU4t"
      },
      "source": [],
      "execution_count": null,
      "outputs": []
    },
    {
      "cell_type": "markdown",
      "metadata": {
        "id": "fchigxXqcSAV"
      },
      "source": [
        "# MODEL_1:"
      ]
    },
    {
      "cell_type": "code",
      "metadata": {
        "id": "iB9SLs-BNYr1"
      },
      "source": [
        "def fn_lstm_model_1(kernel_initializer):\n",
        "\n",
        "    n_time_steps = 128\n",
        "    n_dims_per_timestep = 9\n",
        "    n_classes = 6\n",
        "    input_shape = (n_time_steps, n_dims_per_timestep)\n",
        "\n",
        "    kwargs = dict(kernel_initializer=kernel_initializer)\n",
        "\n",
        "    model_lstm = keras.models.Sequential()\n",
        "    model_lstm.add(tf.compat.v1.keras.layers.CuDNNLSTM(64, input_shape=input_shape, return_sequences=True, **kwargs))\n",
        "    model_lstm.add(keras.layers.BatchNormalization())\n",
        "    model_lstm.add(keras.layers.Dropout(0.2))\n",
        "    model_lstm.add(tf.compat.v1.keras.layers.CuDNNLSTM(32, return_sequences=False,  **kwargs))\n",
        "    model_lstm.add(keras.layers.BatchNormalization())\n",
        "    model_lstm.add(keras.layers.Dropout(0.2))\n",
        "\n",
        "\n",
        "    model_lstm.add(keras.layers.Dense(n_classes, activation = 'softmax'))\n",
        "\n",
        "    return model_lstm"
      ],
      "execution_count": null,
      "outputs": []
    },
    {
      "cell_type": "code",
      "metadata": {
        "id": "vbTHgDeqRRE7",
        "outputId": "79f74f3e-5113-4af7-eb20-4f074aff9fbf",
        "colab": {
          "base_uri": "https://localhost:8080/",
          "height": 222
        }
      },
      "source": [
        "fn_lstm_model =  fn_lstm_model_1\n",
        "X_train, y_train =  lstm_X_train, lstm_y_train\n",
        "X_test, y_test = lstm_X_test, lstm_y_test\n",
        "listO_kernel_initializers = 'lecun_uniform glorot_normal he_normal lecun_normal he_uniform'.split()\n",
        "lr, epochs = 1e-3, 200\n",
        "\n",
        "\n",
        "df_performance = fn_grid_serach_lstms(fn_lstm_model, X_train, y_train, X_test, y_test, listO_kernel_initializers, lr, epochs)\n",
        "df_performance"
      ],
      "execution_count": null,
      "outputs": [
        {
          "output_type": "stream",
          "text": [
            "100% (5 of 5) |##########################| Elapsed Time: 1:19:52 Time:  1:19:52\n"
          ],
          "name": "stderr"
        },
        {
          "output_type": "execute_result",
          "data": {
            "text/html": [
              "<div>\n",
              "<style scoped>\n",
              "    .dataframe tbody tr th:only-of-type {\n",
              "        vertical-align: middle;\n",
              "    }\n",
              "\n",
              "    .dataframe tbody tr th {\n",
              "        vertical-align: top;\n",
              "    }\n",
              "\n",
              "    .dataframe thead th {\n",
              "        text-align: right;\n",
              "    }\n",
              "</style>\n",
              "<table border=\"1\" class=\"dataframe\">\n",
              "  <thead>\n",
              "    <tr style=\"text-align: right;\">\n",
              "      <th></th>\n",
              "      <th>kernel_initializer</th>\n",
              "      <th>best_val_acc</th>\n",
              "      <th>epoch_n</th>\n",
              "      <th>corres_train_acc</th>\n",
              "      <th>best_train_acc</th>\n",
              "    </tr>\n",
              "  </thead>\n",
              "  <tbody>\n",
              "    <tr>\n",
              "      <th>0</th>\n",
              "      <td>lecun_uniform</td>\n",
              "      <td>0.9205163</td>\n",
              "      <td>137</td>\n",
              "      <td>0.9619269</td>\n",
              "      <td>0.96602076</td>\n",
              "    </tr>\n",
              "    <tr>\n",
              "      <th>1</th>\n",
              "      <td>glorot_normal</td>\n",
              "      <td>0.9351223</td>\n",
              "      <td>136</td>\n",
              "      <td>0.9507369</td>\n",
              "      <td>0.96001637</td>\n",
              "    </tr>\n",
              "    <tr>\n",
              "      <th>2</th>\n",
              "      <td>he_normal</td>\n",
              "      <td>0.9358016</td>\n",
              "      <td>23</td>\n",
              "      <td>0.96602076</td>\n",
              "      <td>0.9721616</td>\n",
              "    </tr>\n",
              "    <tr>\n",
              "      <th>3</th>\n",
              "      <td>lecun_normal</td>\n",
              "      <td>0.8974185</td>\n",
              "      <td>13</td>\n",
              "      <td>0.96165395</td>\n",
              "      <td>0.96834064</td>\n",
              "    </tr>\n",
              "    <tr>\n",
              "      <th>4</th>\n",
              "      <td>he_uniform</td>\n",
              "      <td>0.922894</td>\n",
              "      <td>15</td>\n",
              "      <td>0.9567413</td>\n",
              "      <td>0.9737991</td>\n",
              "    </tr>\n",
              "  </tbody>\n",
              "</table>\n",
              "</div>"
            ],
            "text/plain": [
              "  kernel_initializer best_val_acc epoch_n corres_train_acc best_train_acc\n",
              "0      lecun_uniform    0.9205163     137        0.9619269     0.96602076\n",
              "1      glorot_normal    0.9351223     136        0.9507369     0.96001637\n",
              "2          he_normal    0.9358016      23       0.96602076      0.9721616\n",
              "3       lecun_normal    0.8974185      13       0.96165395     0.96834064\n",
              "4         he_uniform     0.922894      15        0.9567413      0.9737991"
            ]
          },
          "metadata": {
            "tags": []
          },
          "execution_count": 25
        }
      ]
    },
    {
      "cell_type": "code",
      "metadata": {
        "id": "wKRfEL3oRQ3S"
      },
      "source": [],
      "execution_count": null,
      "outputs": []
    },
    {
      "cell_type": "code",
      "metadata": {
        "id": "L0KnKk1m_PUm"
      },
      "source": [],
      "execution_count": null,
      "outputs": []
    },
    {
      "cell_type": "markdown",
      "metadata": {
        "id": "c15QKxzfR5Kk"
      },
      "source": [
        "#MODEL_2:"
      ]
    },
    {
      "cell_type": "code",
      "metadata": {
        "id": "ndaNQ1NZRQz5"
      },
      "source": [
        "def fn_lstm_model_2(kernel_initializer):\n",
        "\n",
        "    n_time_steps = 128\n",
        "    n_dims_per_timestep = 9\n",
        "    n_classes = 6\n",
        "    input_shape = (n_time_steps, n_dims_per_timestep)\n",
        "\n",
        "    kwargs = dict(kernel_initializer=kernel_initializer)\n",
        "\n",
        "    model_lstm = keras.models.Sequential()\n",
        "    model_lstm.add(tf.compat.v1.keras.layers.CuDNNLSTM(12, input_shape=input_shape, return_sequences=True, **kwargs))\n",
        "    model_lstm.add(keras.layers.BatchNormalization())\n",
        "    model_lstm.add(keras.layers.Dropout(0.2))\n",
        "    model_lstm.add(tf.compat.v1.keras.layers.CuDNNLSTM(6, return_sequences=False,  **kwargs))\n",
        "    model_lstm.add(keras.layers.BatchNormalization())\n",
        "    model_lstm.add(keras.layers.Dropout(0.2))\n",
        "\n",
        "\n",
        "    model_lstm.add(keras.layers.Dense(n_classes, activation = 'softmax'))\n",
        "\n",
        "    return model_lstm"
      ],
      "execution_count": null,
      "outputs": []
    },
    {
      "cell_type": "code",
      "metadata": {
        "id": "P2aYOwJgRQxs",
        "outputId": "ae56e585-db4a-4bf1-be6c-3999d00102fd",
        "colab": {
          "base_uri": "https://localhost:8080/",
          "height": 222
        }
      },
      "source": [
        "fn_lstm_model =  fn_lstm_model_2\n",
        "X_train, y_train =  lstm_X_train, lstm_y_train\n",
        "X_test, y_test = lstm_X_test, lstm_y_test\n",
        "listO_kernel_initializers = 'lecun_uniform glorot_normal he_normal lecun_normal he_uniform'.split()\n",
        "lr, epochs = 1e-3, 150\n",
        "\n",
        "\n",
        "df_performance = fn_grid_serach_lstms(fn_lstm_model, X_train, y_train, X_test, y_test, listO_kernel_initializers, lr, epochs)\n",
        "df_performance"
      ],
      "execution_count": null,
      "outputs": [
        {
          "output_type": "stream",
          "text": [
            "100% (5 of 5) |##########################| Elapsed Time: 1:00:02 Time:  1:00:02\n"
          ],
          "name": "stderr"
        },
        {
          "output_type": "execute_result",
          "data": {
            "text/html": [
              "<div>\n",
              "<style scoped>\n",
              "    .dataframe tbody tr th:only-of-type {\n",
              "        vertical-align: middle;\n",
              "    }\n",
              "\n",
              "    .dataframe tbody tr th {\n",
              "        vertical-align: top;\n",
              "    }\n",
              "\n",
              "    .dataframe thead th {\n",
              "        text-align: right;\n",
              "    }\n",
              "</style>\n",
              "<table border=\"1\" class=\"dataframe\">\n",
              "  <thead>\n",
              "    <tr style=\"text-align: right;\">\n",
              "      <th></th>\n",
              "      <th>kernel_initializer</th>\n",
              "      <th>best_val_acc</th>\n",
              "      <th>epoch_n</th>\n",
              "      <th>corres_train_acc</th>\n",
              "      <th>best_train_acc</th>\n",
              "    </tr>\n",
              "  </thead>\n",
              "  <tbody>\n",
              "    <tr>\n",
              "      <th>0</th>\n",
              "      <td>lecun_uniform</td>\n",
              "      <td>0.9116848</td>\n",
              "      <td>75</td>\n",
              "      <td>0.91771287</td>\n",
              "      <td>0.9299945</td>\n",
              "    </tr>\n",
              "    <tr>\n",
              "      <th>1</th>\n",
              "      <td>glorot_normal</td>\n",
              "      <td>0.9123641</td>\n",
              "      <td>69</td>\n",
              "      <td>0.9366812</td>\n",
              "      <td>0.9407751</td>\n",
              "    </tr>\n",
              "    <tr>\n",
              "      <th>2</th>\n",
              "      <td>he_normal</td>\n",
              "      <td>0.8909647</td>\n",
              "      <td>11</td>\n",
              "      <td>0.87554586</td>\n",
              "      <td>0.92003274</td>\n",
              "    </tr>\n",
              "    <tr>\n",
              "      <th>3</th>\n",
              "      <td>lecun_normal</td>\n",
              "      <td>0.922894</td>\n",
              "      <td>140</td>\n",
              "      <td>0.92371726</td>\n",
              "      <td>0.9327238</td>\n",
              "    </tr>\n",
              "    <tr>\n",
              "      <th>4</th>\n",
              "      <td>he_uniform</td>\n",
              "      <td>0.9140625</td>\n",
              "      <td>112</td>\n",
              "      <td>0.9450055</td>\n",
              "      <td>0.950191</td>\n",
              "    </tr>\n",
              "  </tbody>\n",
              "</table>\n",
              "</div>"
            ],
            "text/plain": [
              "  kernel_initializer best_val_acc epoch_n corres_train_acc best_train_acc\n",
              "0      lecun_uniform    0.9116848      75       0.91771287      0.9299945\n",
              "1      glorot_normal    0.9123641      69        0.9366812      0.9407751\n",
              "2          he_normal    0.8909647      11       0.87554586     0.92003274\n",
              "3       lecun_normal     0.922894     140       0.92371726      0.9327238\n",
              "4         he_uniform    0.9140625     112        0.9450055       0.950191"
            ]
          },
          "metadata": {
            "tags": []
          },
          "execution_count": 28
        }
      ]
    },
    {
      "cell_type": "code",
      "metadata": {
        "id": "7ybi9UGSRQuI"
      },
      "source": [],
      "execution_count": null,
      "outputs": []
    },
    {
      "cell_type": "code",
      "metadata": {
        "id": "uWxRM-kJRQry"
      },
      "source": [],
      "execution_count": null,
      "outputs": []
    },
    {
      "cell_type": "markdown",
      "metadata": {
        "id": "8IsTVG85mhH6"
      },
      "source": [
        "# MODEL_3:"
      ]
    },
    {
      "cell_type": "code",
      "metadata": {
        "id": "qc6TtrHzRQov"
      },
      "source": [
        "def fn_lstm_model_3(kernel_initializer):\n",
        "\n",
        "    n_time_steps = 128\n",
        "    n_dims_per_timestep = 9\n",
        "    n_classes = 6\n",
        "    input_shape = (n_time_steps, n_dims_per_timestep)\n",
        "\n",
        "    kwargs = dict(kernel_initializer=kernel_initializer)\n",
        "\n",
        "    model_lstm = keras.models.Sequential()\n",
        "    model_lstm.add(tf.compat.v1.keras.layers.CuDNNLSTM(64, input_shape=input_shape, return_sequences=True, **kwargs))\n",
        "    model_lstm.add(keras.layers.BatchNormalization())\n",
        "    model_lstm.add(keras.layers.Dropout(0.2))\n",
        "    model_lstm.add(tf.compat.v1.keras.layers.CuDNNLSTM(32, return_sequences=True,  **kwargs))\n",
        "    model_lstm.add(keras.layers.BatchNormalization())\n",
        "    model_lstm.add(keras.layers.Dropout(0.2))\n",
        "    model_lstm.add(tf.compat.v1.keras.layers.CuDNNLSTM(32, return_sequences=False, **kwargs))\n",
        "    model_lstm.add(keras.layers.BatchNormalization())\n",
        "    model_lstm.add(keras.layers.Dropout(0.2))\n",
        "\n",
        "\n",
        "    model_lstm.add(keras.layers.Dense(12, activation = 'relu'))\n",
        "    model_lstm.add(keras.layers.Dense(n_classes, activation = 'softmax'))\n",
        "\n",
        "    return model_lstm"
      ],
      "execution_count": null,
      "outputs": []
    },
    {
      "cell_type": "code",
      "metadata": {
        "id": "D_DWMx1wRQmI",
        "outputId": "4a3d7551-c19f-4114-e978-5ed6ee9a1173",
        "colab": {
          "base_uri": "https://localhost:8080/",
          "height": 222
        }
      },
      "source": [
        "fn_lstm_model =  fn_lstm_model_3\n",
        "X_train, y_train =  lstm_X_train, lstm_y_train\n",
        "X_test, y_test = lstm_X_test, lstm_y_test\n",
        "listO_kernel_initializers = 'lecun_uniform glorot_normal he_normal lecun_normal he_uniform'.split()\n",
        "lr, epochs = 1e-3, 150\n",
        "\n",
        "\n",
        "df_performance = fn_grid_serach_lstms(fn_lstm_model, X_train, y_train, X_test, y_test, listO_kernel_initializers, lr, epochs)\n",
        "df_performance"
      ],
      "execution_count": null,
      "outputs": [
        {
          "output_type": "stream",
          "text": [
            "100% (5 of 5) |##########################| Elapsed Time: 1:24:50 Time:  1:24:50\n"
          ],
          "name": "stderr"
        },
        {
          "output_type": "execute_result",
          "data": {
            "text/html": [
              "<div>\n",
              "<style scoped>\n",
              "    .dataframe tbody tr th:only-of-type {\n",
              "        vertical-align: middle;\n",
              "    }\n",
              "\n",
              "    .dataframe tbody tr th {\n",
              "        vertical-align: top;\n",
              "    }\n",
              "\n",
              "    .dataframe thead th {\n",
              "        text-align: right;\n",
              "    }\n",
              "</style>\n",
              "<table border=\"1\" class=\"dataframe\">\n",
              "  <thead>\n",
              "    <tr style=\"text-align: right;\">\n",
              "      <th></th>\n",
              "      <th>kernel_initializer</th>\n",
              "      <th>best_val_acc</th>\n",
              "      <th>epoch_n</th>\n",
              "      <th>corres_train_acc</th>\n",
              "      <th>best_train_acc</th>\n",
              "    </tr>\n",
              "  </thead>\n",
              "  <tbody>\n",
              "    <tr>\n",
              "      <th>0</th>\n",
              "      <td>lecun_uniform</td>\n",
              "      <td>0.9303669</td>\n",
              "      <td>21</td>\n",
              "      <td>0.9567413</td>\n",
              "      <td>0.96247274</td>\n",
              "    </tr>\n",
              "    <tr>\n",
              "      <th>1</th>\n",
              "      <td>glorot_normal</td>\n",
              "      <td>0.9286685</td>\n",
              "      <td>53</td>\n",
              "      <td>0.9534662</td>\n",
              "      <td>0.95987993</td>\n",
              "    </tr>\n",
              "    <tr>\n",
              "      <th>2</th>\n",
              "      <td>he_normal</td>\n",
              "      <td>0.93444294</td>\n",
              "      <td>27</td>\n",
              "      <td>0.9586517</td>\n",
              "      <td>0.9619269</td>\n",
              "    </tr>\n",
              "    <tr>\n",
              "      <th>3</th>\n",
              "      <td>lecun_normal</td>\n",
              "      <td>0.93410325</td>\n",
              "      <td>67</td>\n",
              "      <td>0.95756006</td>\n",
              "      <td>0.9637009</td>\n",
              "    </tr>\n",
              "    <tr>\n",
              "      <th>4</th>\n",
              "      <td>he_uniform</td>\n",
              "      <td>0.9205163</td>\n",
              "      <td>39</td>\n",
              "      <td>0.9542849</td>\n",
              "      <td>0.96233624</td>\n",
              "    </tr>\n",
              "  </tbody>\n",
              "</table>\n",
              "</div>"
            ],
            "text/plain": [
              "  kernel_initializer best_val_acc epoch_n corres_train_acc best_train_acc\n",
              "0      lecun_uniform    0.9303669      21        0.9567413     0.96247274\n",
              "1      glorot_normal    0.9286685      53        0.9534662     0.95987993\n",
              "2          he_normal   0.93444294      27        0.9586517      0.9619269\n",
              "3       lecun_normal   0.93410325      67       0.95756006      0.9637009\n",
              "4         he_uniform    0.9205163      39        0.9542849     0.96233624"
            ]
          },
          "metadata": {
            "tags": []
          },
          "execution_count": 30
        }
      ]
    },
    {
      "cell_type": "code",
      "metadata": {
        "id": "0q3txpvtotUd"
      },
      "source": [],
      "execution_count": null,
      "outputs": []
    },
    {
      "cell_type": "code",
      "metadata": {
        "id": "Q2Er3M4BotRf"
      },
      "source": [],
      "execution_count": null,
      "outputs": []
    },
    {
      "cell_type": "markdown",
      "metadata": {
        "id": "TqeVSCmkpQfA"
      },
      "source": [
        "# MODEL_4:"
      ]
    },
    {
      "cell_type": "code",
      "metadata": {
        "id": "ReKwd_v4otOL"
      },
      "source": [
        "def fn_lstm_model_4(kernel_initializer):\n",
        "\n",
        "    n_time_steps = 128\n",
        "    n_dims_per_timestep = 9\n",
        "    n_classes = 6\n",
        "    input_shape = (n_time_steps, n_dims_per_timestep)\n",
        "\n",
        "    kwargs = dict(kernel_initializer=kernel_initializer)\n",
        "\n",
        "    model_lstm = keras.models.Sequential()\n",
        "    model_lstm.add(tf.compat.v1.keras.layers.CuDNNLSTM(32, input_shape=input_shape, return_sequences=True, **kwargs))\n",
        "    model_lstm.add(keras.layers.BatchNormalization())\n",
        "    model_lstm.add(keras.layers.Dropout(0.2))\n",
        "    model_lstm.add(tf.compat.v1.keras.layers.CuDNNLSTM(32,  return_sequences=True,  **kwargs))\n",
        "    model_lstm.add(keras.layers.BatchNormalization())\n",
        "    model_lstm.add(keras.layers.Dropout(0.2))\n",
        "    model_lstm.add(tf.compat.v1.keras.layers.CuDNNLSTM(50,  return_sequences=True,  **kwargs))\n",
        "    model_lstm.add(keras.layers.BatchNormalization())\n",
        "    model_lstm.add(keras.layers.Dropout(0.2))\n",
        "    model_lstm.add(tf.compat.v1.keras.layers.CuDNNLSTM(32,  return_sequences=True,  **kwargs))\n",
        "    model_lstm.add(keras.layers.BatchNormalization())\n",
        "    model_lstm.add(keras.layers.Dropout(0.2))\n",
        "    model_lstm.add(tf.compat.v1.keras.layers.CuDNNLSTM(32,  return_sequences=True,  **kwargs))\n",
        "    model_lstm.add(keras.layers.BatchNormalization())\n",
        "    model_lstm.add(tf.compat.v1.keras.layers.CuDNNLSTM(12,  return_sequences=False, **kwargs))\n",
        "    model_lstm.add(keras.layers.BatchNormalization())\n",
        "\n",
        "    model_lstm.add(keras.layers.Dense(n_classes, activation = 'softmax'))\n",
        "\n",
        "    return model_lstm"
      ],
      "execution_count": null,
      "outputs": []
    },
    {
      "cell_type": "code",
      "metadata": {
        "id": "PK_VVfgapOtW",
        "outputId": "61e5dff2-8908-4454-b10d-b76fe8d196b0",
        "colab": {
          "base_uri": "https://localhost:8080/",
          "height": 222
        }
      },
      "source": [
        "fn_lstm_model =  fn_lstm_model_4\n",
        "X_train, y_train =  lstm_X_train, lstm_y_train\n",
        "X_test, y_test = lstm_X_test, lstm_y_test\n",
        "listO_kernel_initializers = 'lecun_uniform glorot_normal he_normal lecun_normal he_uniform'.split()\n",
        "lr, epochs = 1e-4, 150\n",
        "\n",
        "\n",
        "df_performance = fn_grid_serach_lstms(fn_lstm_model, X_train, y_train, X_test, y_test, listO_kernel_initializers, lr, epochs)\n",
        "df_performance"
      ],
      "execution_count": null,
      "outputs": [
        {
          "output_type": "stream",
          "text": [
            "100% (5 of 5) |##########################| Elapsed Time: 2:27:28 Time:  2:27:28\n"
          ],
          "name": "stderr"
        },
        {
          "output_type": "execute_result",
          "data": {
            "text/html": [
              "<div>\n",
              "<style scoped>\n",
              "    .dataframe tbody tr th:only-of-type {\n",
              "        vertical-align: middle;\n",
              "    }\n",
              "\n",
              "    .dataframe tbody tr th {\n",
              "        vertical-align: top;\n",
              "    }\n",
              "\n",
              "    .dataframe thead th {\n",
              "        text-align: right;\n",
              "    }\n",
              "</style>\n",
              "<table border=\"1\" class=\"dataframe\">\n",
              "  <thead>\n",
              "    <tr style=\"text-align: right;\">\n",
              "      <th></th>\n",
              "      <th>kernel_initializer</th>\n",
              "      <th>best_val_acc</th>\n",
              "      <th>epoch_n</th>\n",
              "      <th>corres_train_acc</th>\n",
              "      <th>best_train_acc</th>\n",
              "    </tr>\n",
              "  </thead>\n",
              "  <tbody>\n",
              "    <tr>\n",
              "      <th>0</th>\n",
              "      <td>lecun_uniform</td>\n",
              "      <td>0.92493206</td>\n",
              "      <td>38</td>\n",
              "      <td>0.94868994</td>\n",
              "      <td>0.9566048</td>\n",
              "    </tr>\n",
              "    <tr>\n",
              "      <th>1</th>\n",
              "      <td>glorot_normal</td>\n",
              "      <td>0.94225544</td>\n",
              "      <td>104</td>\n",
              "      <td>0.9459607</td>\n",
              "      <td>0.956059</td>\n",
              "    </tr>\n",
              "    <tr>\n",
              "      <th>2</th>\n",
              "      <td>he_normal</td>\n",
              "      <td>0.9001359</td>\n",
              "      <td>149</td>\n",
              "      <td>0.93299675</td>\n",
              "      <td>0.93545306</td>\n",
              "    </tr>\n",
              "    <tr>\n",
              "      <th>3</th>\n",
              "      <td>lecun_normal</td>\n",
              "      <td>0.92527175</td>\n",
              "      <td>51</td>\n",
              "      <td>0.94555134</td>\n",
              "      <td>0.9521015</td>\n",
              "    </tr>\n",
              "    <tr>\n",
              "      <th>4</th>\n",
              "      <td>he_uniform</td>\n",
              "      <td>0.8879076</td>\n",
              "      <td>86</td>\n",
              "      <td>0.9313592</td>\n",
              "      <td>0.9372271</td>\n",
              "    </tr>\n",
              "  </tbody>\n",
              "</table>\n",
              "</div>"
            ],
            "text/plain": [
              "  kernel_initializer best_val_acc epoch_n corres_train_acc best_train_acc\n",
              "0      lecun_uniform   0.92493206      38       0.94868994      0.9566048\n",
              "1      glorot_normal   0.94225544     104        0.9459607       0.956059\n",
              "2          he_normal    0.9001359     149       0.93299675     0.93545306\n",
              "3       lecun_normal   0.92527175      51       0.94555134      0.9521015\n",
              "4         he_uniform    0.8879076      86        0.9313592      0.9372271"
            ]
          },
          "metadata": {
            "tags": []
          },
          "execution_count": 23
        }
      ]
    },
    {
      "cell_type": "code",
      "metadata": {
        "id": "6U8o4xSIu0qJ"
      },
      "source": [],
      "execution_count": null,
      "outputs": []
    },
    {
      "cell_type": "markdown",
      "metadata": {
        "id": "IRlNhmCh8SrP"
      },
      "source": [
        "# OBSERVATIONS:\n",
        "- MODEL_4 USING GLOROT_NORMAL WT INITIALIZER GIVES THE BEST PERFORMANCE (94.22%) AMONG ALL THE LSTM MODELS IMPLEMETED\n",
        "- MODELS 1 & 3 ALSO GIVE COMPARABLE PERFORMANCES, BUT GENERALIZATION NOT AS GOOD AS MODEL_4\n",
        "- GENERALLY MOST OF THE LSTM MODELS CAN REACH A TESTSET PERFORMANCE OF AROUND 92%"
      ]
    },
    {
      "cell_type": "code",
      "metadata": {
        "id": "zkjvv4S98lP_"
      },
      "source": [],
      "execution_count": null,
      "outputs": []
    },
    {
      "cell_type": "markdown",
      "metadata": {
        "id": "4CMkwxNfsiJ3"
      },
      "source": [
        "\n",
        "### >> NEXT NOTEBOOK USE LSTM_MODEL_4 WITH GLOROT_NORMAL WT INITIALIZER & INSPECT CONFUSION MATRIX."
      ]
    },
    {
      "cell_type": "code",
      "metadata": {
        "id": "gfov09mhpOq3"
      },
      "source": [],
      "execution_count": null,
      "outputs": []
    },
    {
      "cell_type": "code",
      "metadata": {
        "id": "FiwTuBF5y8mF"
      },
      "source": [],
      "execution_count": null,
      "outputs": []
    }
  ]
}